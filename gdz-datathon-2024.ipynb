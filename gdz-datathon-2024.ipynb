{
 "cells": [
  {
   "cell_type": "code",
   "execution_count": 1,
   "id": "add1aa13",
   "metadata": {
    "execution": {
     "iopub.execute_input": "2024-05-13T15:43:30.688035Z",
     "iopub.status.busy": "2024-05-13T15:43:30.687674Z",
     "iopub.status.idle": "2024-05-13T15:44:30.092440Z",
     "shell.execute_reply": "2024-05-13T15:44:30.091142Z"
    },
    "executionInfo": {
     "elapsed": 20948,
     "status": "ok",
     "timestamp": 1715283138580,
     "user": {
      "displayName": "Sercan Yeşilöz",
      "userId": "06148202317870201469"
     },
     "user_tz": -180
    },
    "id": "-k8YWbLWxs3L",
    "outputId": "b2804328-9ddc-473a-abd5-4cd9f7b18b43",
    "papermill": {
     "duration": 59.422168,
     "end_time": "2024-05-13T15:44:30.095096",
     "exception": false,
     "start_time": "2024-05-13T15:43:30.672928",
     "status": "completed"
    },
    "tags": []
   },
   "outputs": [
    {
     "name": "stdout",
     "output_type": "stream",
     "text": [
      "Requirement already satisfied: optuna in /opt/conda/lib/python3.10/site-packages (3.6.1)\r\n",
      "Requirement already satisfied: alembic>=1.5.0 in /opt/conda/lib/python3.10/site-packages (from optuna) (1.13.1)\r\n",
      "Requirement already satisfied: colorlog in /opt/conda/lib/python3.10/site-packages (from optuna) (6.8.2)\r\n",
      "Requirement already satisfied: numpy in /opt/conda/lib/python3.10/site-packages (from optuna) (1.26.4)\r\n",
      "Requirement already satisfied: packaging>=20.0 in /opt/conda/lib/python3.10/site-packages (from optuna) (21.3)\r\n",
      "Requirement already satisfied: sqlalchemy>=1.3.0 in /opt/conda/lib/python3.10/site-packages (from optuna) (2.0.25)\r\n",
      "Requirement already satisfied: tqdm in /opt/conda/lib/python3.10/site-packages (from optuna) (4.66.1)\r\n",
      "Requirement already satisfied: PyYAML in /opt/conda/lib/python3.10/site-packages (from optuna) (6.0.1)\r\n",
      "Requirement already satisfied: Mako in /opt/conda/lib/python3.10/site-packages (from alembic>=1.5.0->optuna) (1.3.3)\r\n",
      "Requirement already satisfied: typing-extensions>=4 in /opt/conda/lib/python3.10/site-packages (from alembic>=1.5.0->optuna) (4.9.0)\r\n",
      "Requirement already satisfied: pyparsing!=3.0.5,>=2.0.2 in /opt/conda/lib/python3.10/site-packages (from packaging>=20.0->optuna) (3.1.1)\r\n",
      "Requirement already satisfied: greenlet!=0.4.17 in /opt/conda/lib/python3.10/site-packages (from sqlalchemy>=1.3.0->optuna) (3.0.3)\r\n",
      "Requirement already satisfied: MarkupSafe>=0.9.2 in /opt/conda/lib/python3.10/site-packages (from Mako->alembic>=1.5.0->optuna) (2.1.3)\r\n",
      "Requirement already satisfied: catboost==1.2.3 in /opt/conda/lib/python3.10/site-packages (1.2.3)\r\n",
      "Requirement already satisfied: graphviz in /opt/conda/lib/python3.10/site-packages (from catboost==1.2.3) (0.20.3)\r\n",
      "Requirement already satisfied: matplotlib in /opt/conda/lib/python3.10/site-packages (from catboost==1.2.3) (3.7.5)\r\n",
      "Requirement already satisfied: numpy>=1.16.0 in /opt/conda/lib/python3.10/site-packages (from catboost==1.2.3) (1.26.4)\r\n",
      "Requirement already satisfied: pandas>=0.24 in /opt/conda/lib/python3.10/site-packages (from catboost==1.2.3) (2.2.2)\r\n",
      "Requirement already satisfied: scipy in /opt/conda/lib/python3.10/site-packages (from catboost==1.2.3) (1.11.4)\r\n",
      "Requirement already satisfied: plotly in /opt/conda/lib/python3.10/site-packages (from catboost==1.2.3) (5.18.0)\r\n",
      "Requirement already satisfied: six in /opt/conda/lib/python3.10/site-packages (from catboost==1.2.3) (1.16.0)\r\n",
      "Requirement already satisfied: python-dateutil>=2.8.2 in /opt/conda/lib/python3.10/site-packages (from pandas>=0.24->catboost==1.2.3) (2.9.0.post0)\r\n",
      "Requirement already satisfied: pytz>=2020.1 in /opt/conda/lib/python3.10/site-packages (from pandas>=0.24->catboost==1.2.3) (2023.3.post1)\r\n",
      "Requirement already satisfied: tzdata>=2022.7 in /opt/conda/lib/python3.10/site-packages (from pandas>=0.24->catboost==1.2.3) (2023.4)\r\n",
      "Requirement already satisfied: contourpy>=1.0.1 in /opt/conda/lib/python3.10/site-packages (from matplotlib->catboost==1.2.3) (1.2.0)\r\n",
      "Requirement already satisfied: cycler>=0.10 in /opt/conda/lib/python3.10/site-packages (from matplotlib->catboost==1.2.3) (0.12.1)\r\n",
      "Requirement already satisfied: fonttools>=4.22.0 in /opt/conda/lib/python3.10/site-packages (from matplotlib->catboost==1.2.3) (4.47.0)\r\n",
      "Requirement already satisfied: kiwisolver>=1.0.1 in /opt/conda/lib/python3.10/site-packages (from matplotlib->catboost==1.2.3) (1.4.5)\r\n",
      "Requirement already satisfied: packaging>=20.0 in /opt/conda/lib/python3.10/site-packages (from matplotlib->catboost==1.2.3) (21.3)\r\n",
      "Requirement already satisfied: pillow>=6.2.0 in /opt/conda/lib/python3.10/site-packages (from matplotlib->catboost==1.2.3) (9.5.0)\r\n",
      "Requirement already satisfied: pyparsing>=2.3.1 in /opt/conda/lib/python3.10/site-packages (from matplotlib->catboost==1.2.3) (3.1.1)\r\n",
      "Requirement already satisfied: tenacity>=6.2.0 in /opt/conda/lib/python3.10/site-packages (from plotly->catboost==1.2.3) (8.2.3)\r\n",
      "Requirement already satisfied: xgboost==2.0.3 in /opt/conda/lib/python3.10/site-packages (2.0.3)\r\n",
      "Requirement already satisfied: numpy in /opt/conda/lib/python3.10/site-packages (from xgboost==2.0.3) (1.26.4)\r\n",
      "Requirement already satisfied: scipy in /opt/conda/lib/python3.10/site-packages (from xgboost==2.0.3) (1.11.4)\r\n",
      "Requirement already satisfied: tensorflow==2.15.0 in /opt/conda/lib/python3.10/site-packages (2.15.0)\r\n",
      "Requirement already satisfied: absl-py>=1.0.0 in /opt/conda/lib/python3.10/site-packages (from tensorflow==2.15.0) (1.4.0)\r\n",
      "Requirement already satisfied: astunparse>=1.6.0 in /opt/conda/lib/python3.10/site-packages (from tensorflow==2.15.0) (1.6.3)\r\n",
      "Requirement already satisfied: flatbuffers>=23.5.26 in /opt/conda/lib/python3.10/site-packages (from tensorflow==2.15.0) (23.5.26)\r\n",
      "Requirement already satisfied: gast!=0.5.0,!=0.5.1,!=0.5.2,>=0.2.1 in /opt/conda/lib/python3.10/site-packages (from tensorflow==2.15.0) (0.5.4)\r\n",
      "Requirement already satisfied: google-pasta>=0.1.1 in /opt/conda/lib/python3.10/site-packages (from tensorflow==2.15.0) (0.2.0)\r\n",
      "Requirement already satisfied: h5py>=2.9.0 in /opt/conda/lib/python3.10/site-packages (from tensorflow==2.15.0) (3.10.0)\r\n",
      "Requirement already satisfied: libclang>=13.0.0 in /opt/conda/lib/python3.10/site-packages (from tensorflow==2.15.0) (16.0.6)\r\n",
      "Requirement already satisfied: ml-dtypes~=0.2.0 in /opt/conda/lib/python3.10/site-packages (from tensorflow==2.15.0) (0.2.0)\r\n",
      "Requirement already satisfied: numpy<2.0.0,>=1.23.5 in /opt/conda/lib/python3.10/site-packages (from tensorflow==2.15.0) (1.26.4)\r\n",
      "Requirement already satisfied: opt-einsum>=2.3.2 in /opt/conda/lib/python3.10/site-packages (from tensorflow==2.15.0) (3.3.0)\r\n",
      "Requirement already satisfied: packaging in /opt/conda/lib/python3.10/site-packages (from tensorflow==2.15.0) (21.3)\r\n",
      "Requirement already satisfied: protobuf!=4.21.0,!=4.21.1,!=4.21.2,!=4.21.3,!=4.21.4,!=4.21.5,<5.0.0dev,>=3.20.3 in /opt/conda/lib/python3.10/site-packages (from tensorflow==2.15.0) (3.20.3)\r\n",
      "Requirement already satisfied: setuptools in /opt/conda/lib/python3.10/site-packages (from tensorflow==2.15.0) (69.0.3)\r\n",
      "Requirement already satisfied: six>=1.12.0 in /opt/conda/lib/python3.10/site-packages (from tensorflow==2.15.0) (1.16.0)\r\n",
      "Requirement already satisfied: termcolor>=1.1.0 in /opt/conda/lib/python3.10/site-packages (from tensorflow==2.15.0) (2.4.0)\r\n",
      "Requirement already satisfied: typing-extensions>=3.6.6 in /opt/conda/lib/python3.10/site-packages (from tensorflow==2.15.0) (4.9.0)\r\n",
      "Requirement already satisfied: wrapt<1.15,>=1.11.0 in /opt/conda/lib/python3.10/site-packages (from tensorflow==2.15.0) (1.14.1)\r\n",
      "Requirement already satisfied: tensorflow-io-gcs-filesystem>=0.23.1 in /opt/conda/lib/python3.10/site-packages (from tensorflow==2.15.0) (0.35.0)\r\n",
      "Requirement already satisfied: grpcio<2.0,>=1.24.3 in /opt/conda/lib/python3.10/site-packages (from tensorflow==2.15.0) (1.60.0)\r\n",
      "Requirement already satisfied: tensorboard<2.16,>=2.15 in /opt/conda/lib/python3.10/site-packages (from tensorflow==2.15.0) (2.15.1)\r\n",
      "Requirement already satisfied: tensorflow-estimator<2.16,>=2.15.0 in /opt/conda/lib/python3.10/site-packages (from tensorflow==2.15.0) (2.15.0)\r\n",
      "Collecting keras<2.16,>=2.15.0 (from tensorflow==2.15.0)\r\n",
      "  Downloading keras-2.15.0-py3-none-any.whl.metadata (2.4 kB)\r\n",
      "Requirement already satisfied: wheel<1.0,>=0.23.0 in /opt/conda/lib/python3.10/site-packages (from astunparse>=1.6.0->tensorflow==2.15.0) (0.42.0)\r\n",
      "Requirement already satisfied: google-auth<3,>=1.6.3 in /opt/conda/lib/python3.10/site-packages (from tensorboard<2.16,>=2.15->tensorflow==2.15.0) (2.26.1)\r\n",
      "Requirement already satisfied: google-auth-oauthlib<2,>=0.5 in /opt/conda/lib/python3.10/site-packages (from tensorboard<2.16,>=2.15->tensorflow==2.15.0) (1.2.0)\r\n",
      "Requirement already satisfied: markdown>=2.6.8 in /opt/conda/lib/python3.10/site-packages (from tensorboard<2.16,>=2.15->tensorflow==2.15.0) (3.5.2)\r\n",
      "Requirement already satisfied: requests<3,>=2.21.0 in /opt/conda/lib/python3.10/site-packages (from tensorboard<2.16,>=2.15->tensorflow==2.15.0) (2.31.0)\r\n",
      "Requirement already satisfied: tensorboard-data-server<0.8.0,>=0.7.0 in /opt/conda/lib/python3.10/site-packages (from tensorboard<2.16,>=2.15->tensorflow==2.15.0) (0.7.2)\r\n",
      "Requirement already satisfied: werkzeug>=1.0.1 in /opt/conda/lib/python3.10/site-packages (from tensorboard<2.16,>=2.15->tensorflow==2.15.0) (3.0.2)\r\n",
      "Requirement already satisfied: pyparsing!=3.0.5,>=2.0.2 in /opt/conda/lib/python3.10/site-packages (from packaging->tensorflow==2.15.0) (3.1.1)\r\n",
      "Requirement already satisfied: cachetools<6.0,>=2.0.0 in /opt/conda/lib/python3.10/site-packages (from google-auth<3,>=1.6.3->tensorboard<2.16,>=2.15->tensorflow==2.15.0) (4.2.4)\r\n",
      "Requirement already satisfied: pyasn1-modules>=0.2.1 in /opt/conda/lib/python3.10/site-packages (from google-auth<3,>=1.6.3->tensorboard<2.16,>=2.15->tensorflow==2.15.0) (0.3.0)\r\n",
      "Requirement already satisfied: rsa<5,>=3.1.4 in /opt/conda/lib/python3.10/site-packages (from google-auth<3,>=1.6.3->tensorboard<2.16,>=2.15->tensorflow==2.15.0) (4.9)\r\n",
      "Requirement already satisfied: requests-oauthlib>=0.7.0 in /opt/conda/lib/python3.10/site-packages (from google-auth-oauthlib<2,>=0.5->tensorboard<2.16,>=2.15->tensorflow==2.15.0) (1.3.1)\r\n",
      "Requirement already satisfied: charset-normalizer<4,>=2 in /opt/conda/lib/python3.10/site-packages (from requests<3,>=2.21.0->tensorboard<2.16,>=2.15->tensorflow==2.15.0) (3.3.2)\r\n",
      "Requirement already satisfied: idna<4,>=2.5 in /opt/conda/lib/python3.10/site-packages (from requests<3,>=2.21.0->tensorboard<2.16,>=2.15->tensorflow==2.15.0) (3.6)\r\n",
      "Requirement already satisfied: urllib3<3,>=1.21.1 in /opt/conda/lib/python3.10/site-packages (from requests<3,>=2.21.0->tensorboard<2.16,>=2.15->tensorflow==2.15.0) (1.26.18)\r\n",
      "Requirement already satisfied: certifi>=2017.4.17 in /opt/conda/lib/python3.10/site-packages (from requests<3,>=2.21.0->tensorboard<2.16,>=2.15->tensorflow==2.15.0) (2024.2.2)\r\n",
      "Requirement already satisfied: MarkupSafe>=2.1.1 in /opt/conda/lib/python3.10/site-packages (from werkzeug>=1.0.1->tensorboard<2.16,>=2.15->tensorflow==2.15.0) (2.1.3)\r\n",
      "Requirement already satisfied: pyasn1<0.6.0,>=0.4.6 in /opt/conda/lib/python3.10/site-packages (from pyasn1-modules>=0.2.1->google-auth<3,>=1.6.3->tensorboard<2.16,>=2.15->tensorflow==2.15.0) (0.5.1)\r\n",
      "Requirement already satisfied: oauthlib>=3.0.0 in /opt/conda/lib/python3.10/site-packages (from requests-oauthlib>=0.7.0->google-auth-oauthlib<2,>=0.5->tensorboard<2.16,>=2.15->tensorflow==2.15.0) (3.2.2)\r\n",
      "Downloading keras-2.15.0-py3-none-any.whl (1.7 MB)\r\n",
      "\u001b[2K   \u001b[90m━━━━━━━━━━━━━━━━━━━━━━━━━━━━━━━━━━━━━━━━\u001b[0m \u001b[32m1.7/1.7 MB\u001b[0m \u001b[31m27.8 MB/s\u001b[0m eta \u001b[36m0:00:00\u001b[0m\r\n",
      "\u001b[?25hInstalling collected packages: keras\r\n",
      "  Attempting uninstall: keras\r\n",
      "    Found existing installation: keras 3.2.1\r\n",
      "    Uninstalling keras-3.2.1:\r\n",
      "      Successfully uninstalled keras-3.2.1\r\n",
      "\u001b[31mERROR: pip's dependency resolver does not currently take into account all the packages that are installed. This behaviour is the source of the following dependency conflicts.\r\n",
      "tensorflow-decision-forests 1.8.1 requires wurlitzer, which is not installed.\u001b[0m\u001b[31m\r\n",
      "\u001b[0mSuccessfully installed keras-2.15.0\r\n"
     ]
    }
   ],
   "source": [
    "!pip install optuna\n",
    "!pip install catboost==1.2.3\n",
    "!pip install xgboost==2.0.3\n",
    "!pip install tensorflow==2.15.0"
   ]
  },
  {
   "cell_type": "code",
   "execution_count": 2,
   "id": "a26ae70c",
   "metadata": {
    "execution": {
     "iopub.execute_input": "2024-05-13T15:44:30.128385Z",
     "iopub.status.busy": "2024-05-13T15:44:30.127373Z",
     "iopub.status.idle": "2024-05-13T15:44:35.063221Z",
     "shell.execute_reply": "2024-05-13T15:44:35.061907Z"
    },
    "executionInfo": {
     "elapsed": 4493,
     "status": "ok",
     "timestamp": 1715283143037,
     "user": {
      "displayName": "Sercan Yeşilöz",
      "userId": "06148202317870201469"
     },
     "user_tz": -180
    },
    "id": "wsHPjbCPxk9k",
    "outputId": "e0df71ec-0a32-4b89-88c8-d8bf9c709c0d",
    "papermill": {
     "duration": 4.954949,
     "end_time": "2024-05-13T15:44:35.065642",
     "exception": false,
     "start_time": "2024-05-13T15:44:30.110693",
     "status": "completed"
    },
    "tags": []
   },
   "outputs": [
    {
     "name": "stdout",
     "output_type": "stream",
     "text": [
      "catboost version: 1.2.3\n",
      "lightgbm version: 4.2.0\n",
      "xgboost version: 2.0.3\n"
     ]
    }
   ],
   "source": [
    "import os\n",
    "import gc\n",
    "import re\n",
    "import time\n",
    "import tqdm\n",
    "import optuna\n",
    "import holidays\n",
    "import warnings\n",
    "import datetime\n",
    "import optuna\n",
    "import numpy as np\n",
    "import pandas as pd\n",
    "import seaborn as sns\n",
    "from prophet import Prophet\n",
    "import matplotlib.pyplot as plt\n",
    "from sklearn.base import BaseEstimator\n",
    "from statsmodels.tsa.stattools import adfuller\n",
    "from statsmodels.graphics.tsaplots import plot_acf, plot_pacf\n",
    "from sklearn.model_selection import TimeSeriesSplit, cross_val_score, BaseCrossValidator, KFold, RepeatedKFold, GroupKFold\n",
    "from sklearn.metrics import mean_absolute_error, mean_squared_error, mean_absolute_percentage_error\n",
    "from sklearn.preprocessing import SplineTransformer\n",
    "\n",
    "import catboost as cb\n",
    "import lightgbm as lgb\n",
    "import xgboost as xgb\n",
    "\n",
    "print(f\"catboost version: {cb.__version__}\")\n",
    "print(f\"lightgbm version: {lgb.__version__}\")\n",
    "print(f\"xgboost version: {xgb.__version__}\")\n",
    "warnings.filterwarnings(\"ignore\", category=UserWarning)\n",
    "warnings.filterwarnings(\"ignore\", category=FutureWarning)"
   ]
  },
  {
   "cell_type": "code",
   "execution_count": 3,
   "id": "4749090c",
   "metadata": {
    "execution": {
     "iopub.execute_input": "2024-05-13T15:44:35.099445Z",
     "iopub.status.busy": "2024-05-13T15:44:35.098616Z",
     "iopub.status.idle": "2024-05-13T15:44:35.149277Z",
     "shell.execute_reply": "2024-05-13T15:44:35.148157Z"
    },
    "executionInfo": {
     "elapsed": 15,
     "status": "ok",
     "timestamp": 1715283143038,
     "user": {
      "displayName": "Sercan Yeşilöz",
      "userId": "06148202317870201469"
     },
     "user_tz": -180
    },
    "id": "Y0oQSTonyNFp",
    "papermill": {
     "duration": 0.070649,
     "end_time": "2024-05-13T15:44:35.151817",
     "exception": false,
     "start_time": "2024-05-13T15:44:35.081168",
     "status": "completed"
    },
    "tags": []
   },
   "outputs": [],
   "source": [
    "def load_data(config) -> pd.DataFrame:\n",
    "\n",
    "    train = pd.read_csv(config.train_path)\n",
    "    test = pd.read_csv(config.test_path)\n",
    "    df = pd.concat([train, test], axis=0)\n",
    "\n",
    "    df[\"sehir\"] = df[\"ilce\"].apply(lambda x: x.split('-')[0])\n",
    "    df[\"ilce\"] = df[\"ilce\"].apply(lambda x: x.split('-')[1])\n",
    "\n",
    "    df = df.rename(columns={\"tarih\": \"date\"})\n",
    "    df[\"date\"] = pd.to_datetime(df[\"date\"])\n",
    "\n",
    "    return df\n",
    "\n",
    "def load_holidays(config) -> pd.DataFrame:\n",
    "    holidays_df = pd.read_csv(config.holidays_path)\n",
    "\n",
    "    holidays_df[\"date\"] = holidays_df.apply(\n",
    "        lambda x: \"-\".join(\n",
    "            [str(x[\"Yıl\"]), f\"0{str(x['Ay'])}\"[-2:], f\"0{str(x['Gün'])}\"[-2:]]\n",
    "        ),\n",
    "        axis=1,\n",
    "    )\n",
    "\n",
    "    holidays_df[\"date\"] = pd.to_datetime(holidays_df[\"date\"])\n",
    "\n",
    "    return holidays_df\n",
    "\n",
    "def load_weather(config) -> pd.DataFrame:\n",
    "    weather_df = pd.read_csv(config.weather_path)\n",
    "    weather_df.rename(columns={'name': 'ilce'},inplace=True)\n",
    "\n",
    "    weather_df[\"date_w_hour\"] = weather_df[\"date\"]\n",
    "    weather_df[\"date\"] = pd.to_datetime(weather_df[\"date\"].apply(lambda x: x.split()[0]))\n",
    "\n",
    "    weather_df[\"sehir\"] = weather_df[\"ilce\"].apply(lambda x: x.split('-')[0].lower())\n",
    "    weather_df[\"ilce\"] = weather_df[\"ilce\"].apply(lambda x: x.split('-')[1].lower())\n",
    "    return weather_df\n",
    "\n",
    "def time_features(dataframe: pd.DataFrame, time_col: str = \"Tarih\") -> pd.DataFrame:\n",
    "    \"\"\"\n",
    "    Extracts time features from a Pandas DataFrame.\n",
    "\n",
    "    Args:\n",
    "        dataframe: A Pandas DataFrame containing a datetime column.\n",
    "        time_col: The name of the datetime column in the DataFrame.\n",
    "\n",
    "    Returns:\n",
    "        A new DataFrame with additional time features.\n",
    "    \"\"\"\n",
    "\n",
    "    df_ = dataframe.copy()\n",
    "\n",
    "    # Linear Features\n",
    "    df_[\"year\"] = df_[time_col].dt.year\n",
    "    df_[\"month\"] = df_[time_col].dt.month\n",
    "    df_[\"quarter\"] = df_[time_col].dt.quarter\n",
    "    df_[\"dayofweek\"] = df_[time_col].dt.dayofweek\n",
    "    df_[\"dayofyear\"] = df_[time_col].dt.dayofyear\n",
    "    df_[\"dayofmonth\"] = df_[time_col].dt.day\n",
    "    #df_[\"weekofyear\"] = df_[time_col].dt.weekofyear\n",
    "    df_[\"season\"] = df_[\"month\"] % 12 // 3 + 1\n",
    "\n",
    "    # Categorical Features\n",
    "    df_[\"is_weekend\"] = df_[time_col].apply(lambda x: x.weekday() > 5).astype(int)\n",
    "    df_[\"is_month_start\"] = df_[time_col].dt.is_month_start.astype(int)\n",
    "    df_[\"is_month_end\"] = df_[time_col].dt.is_month_end.astype(int)\n",
    "    df_[\"is_quarter_start\"] = df_[time_col].dt.is_quarter_start.astype(int)\n",
    "    df_[\"is_quarter_end\"] = df_[time_col].dt.is_quarter_end.astype(int)\n",
    "    df_[\"is_year_start\"] = df_[time_col].dt.is_year_start.astype(int)\n",
    "    df_[\"is_year_end\"] = df_[time_col].dt.is_year_end.astype(int)\n",
    "\n",
    "    # Cyclic Features\n",
    "    df_[\"dayofyear_sin\"] = np.sin(2 * np.pi * df_[\"dayofyear\"] / df_[\"dayofyear\"].max())\n",
    "    df_[\"dayofyear_cos\"] = np.cos(2 * np.pi * df_[\"dayofyear\"] / df_[\"dayofyear\"].max())\n",
    "    df_[\"month_sin\"] = np.sin(2 * np.pi * df_[\"month\"] / df_[\"month\"].max())\n",
    "    df_[\"month_cos\"] = np.cos(2 * np.pi * df_[\"month\"] / df_[\"month\"].max())\n",
    "\n",
    "    return df_\n",
    "\n",
    "def add_holidays(\n",
    "    dataframe: pd.DataFrame, time_col: str = \"Tarih\", country: str = \"TR\"\n",
    ") -> pd.DataFrame:\n",
    "    \"\"\"\n",
    "    Adds a feature named 'is_holiday' to a Pandas DataFrame,\n",
    "    representing whether the given date feature is a holiday or not.\n",
    "\n",
    "    Args:\n",
    "        dataframe: A Pandas DataFrame containing a date column.\n",
    "        time_col: The name of the date column in the DataFrame.\n",
    "        country: The country to use for the list of holidays. Default is 'TR'.\n",
    "\n",
    "    Returns:\n",
    "        The modified DataFrame with the 'is_holiday' feature added.\n",
    "    \"\"\"\n",
    "    df_ = dataframe.copy()\n",
    "    _holidays_ = holidays.country_holidays(country)\n",
    "    df_[\"is_holiday\"] = df_[time_col].apply(lambda x: x in _holidays_).astype(int)\n",
    "\n",
    "    return df_\n",
    "\n",
    "def fix_col_names(dataframe: pd.DataFrame) -> pd.DataFrame:\n",
    "\n",
    "    df_ = dataframe.copy()\n",
    "    translation = lambda x: x.translate(x.maketrans(\"ÜüÖöİıĞğŞşÇç\", \"UuOoIiGgSsCc\"))\n",
    "    df_.columns = df_.columns.map(lambda x: translation(x).lower().replace(\" \", \"_\"))\n",
    "    df_ = df_.rename(\n",
    "        columns={col: re.sub(r\"[^A-Za-z0-9_]+\", \"\", col) for col in df_.columns}\n",
    "    )\n",
    "\n",
    "    return df_\n",
    "\n",
    "def lag_features(\n",
    "    dataframe: pd.DataFrame, cols: list, lags: list, fillna: bool = False\n",
    ") -> pd.DataFrame:\n",
    "    df_ = dataframe.copy()\n",
    "    for col in cols:\n",
    "        for lag in lags:\n",
    "            df_[f\"{col}_{lag}_lag\"] = df_.groupby([\"sehir\", \"ilce\"])[col].shift(lag)\n",
    "            if fillna:\n",
    "                df_[f\"{col}_{lag}_lag\"] = df_[f\"{col}_{lag}_lag\"].fillna(method=\"bfill\")\n",
    "                df_[f\"{col}_{lag}_lag\"] = df_[f\"{col}_{lag}_lag\"].fillna(method=\"ffill\")\n",
    "    return df_\n",
    "\n",
    "def reg_trainer(\n",
    "    model: BaseEstimator,\n",
    "    X: pd.DataFrame,\n",
    "    X_test: pd.DataFrame,\n",
    "    y: pd.Series,\n",
    "    cv: BaseCrossValidator,\n",
    "    groups: pd.Series = None,\n",
    "    train_params: dict = dict(),\n",
    "    plot_importances: bool = False,\n",
    "    eval_metric: str = \"mse\",\n",
    "    sample_weight: pd.Series = pd.Series(),\n",
    "    log_transform: bool = False,\n",
    ") -> dict:\n",
    "\n",
    "    report = dict()\n",
    "    if plot_importances == True:\n",
    "        features = X.columns.tolist()\n",
    "        feat_imp_df = pd.DataFrame({\"feature\": features})\n",
    "\n",
    "    train_oof_preds = np.zeros(shape=(X.shape[0]))\n",
    "    test_oof_preds = np.zeros(shape=(X_test.shape[0]))\n",
    "\n",
    "    fitted_models = list()\n",
    "    fold_scores = list()\n",
    "    if groups is not None:\n",
    "        split_fn = cv.split(X=X, y=y, groups=groups)\n",
    "        n_splits = cv.get_n_splits(X=X, y=y, groups=groups)\n",
    "    else:\n",
    "        split_fn = cv.split(X=X, y=y)\n",
    "        n_splits = cv.get_n_splits(X=X, y=y)\n",
    "    print(f\"n folds: {n_splits}\")\n",
    "\n",
    "    for idx, (train_idx, val_idx) in enumerate(split_fn):\n",
    "        print(f\"| Fold {idx+1} |\".center(90, \"=\"))\n",
    "        start_time = time.time()\n",
    "\n",
    "        X_train, y_train = X.loc[train_idx], y.loc[train_idx]\n",
    "        X_val, y_val = X.loc[val_idx], y.loc[val_idx]\n",
    "\n",
    "        if log_transform == True:\n",
    "            y_train = np.log1p(y_train)\n",
    "            y_val = np.log1p(y_val)\n",
    "\n",
    "        if sample_weight.shape[0] > 0:\n",
    "            fold_sample_weight = sample_weight.loc[train_idx]\n",
    "            train_params[\"sample_weight\"] = fold_sample_weight\n",
    "\n",
    "        print(f\"train: {X_train.shape}\")\n",
    "        print(f\"val: {X_val.shape}\")\n",
    "\n",
    "        model.fit(\n",
    "            X_train,\n",
    "            y_train,\n",
    "            eval_set=[(X_val, y_val)],\n",
    "            **train_params\n",
    "        )\n",
    "\n",
    "        fitted_models.append(model)\n",
    "        val_pred = model.predict(X_val)\n",
    "        test_pred = model.predict(X_test)\n",
    "\n",
    "        if log_transform == True:\n",
    "            val_pred, test_pred = np.expm1(val_pred), np.expm1(test_pred)\n",
    "            y_train, y_val = np.expm1(y_train), np.expm1(y_val)\n",
    "\n",
    "        test_oof_preds += test_pred / n_splits\n",
    "        train_oof_preds[val_idx] = val_pred\n",
    "\n",
    "        if eval_metric == \"mae\":\n",
    "            val_score = mean_absolute_error(y_val, val_pred)\n",
    "        elif eval_metric == \"mape\":\n",
    "            val_score = mean_absolute_percentage_error(y_val, val_pred)\n",
    "        elif eval_metric == \"mse\":\n",
    "            val_score = mean_squared_error(y_val, val_pred)\n",
    "        elif eval_metric == \"rmse\":\n",
    "            val_score = mean_squared_error(y_val, val_pred, squared=False)\n",
    "        else:\n",
    "            val_score = mean_squared_error(y_val, val_pred)\n",
    "        fold_scores.append(val_score)\n",
    "\n",
    "        if plot_importances == True:\n",
    "            feat_imp_df = feat_imp_df.merge(\n",
    "                pd.DataFrame(\n",
    "                    {\n",
    "                        \"feature\": features,\n",
    "                        f\"fold_{idx+1}_feat_imp\": model.feature_importances_,\n",
    "                    }\n",
    "                ),\n",
    "                on=[\"feature\"],\n",
    "                how=\"left\",\n",
    "            )\n",
    "\n",
    "        end_time = time.time()\n",
    "        elapsed = end_time - start_time\n",
    "\n",
    "        print(f\"Fold {eval_metric}: {val_score:.5f}\")\n",
    "        print(f\"Elapsed: {elapsed:.2f} seconds\\n\")\n",
    "\n",
    "    print(\"=\" * 90)\n",
    "    print(f\"CV: {np.mean(fold_scores):.5f}\")\n",
    "\n",
    "    report[\"fitted_models\"] = fitted_models\n",
    "    report[\"train_preds\"] = train_oof_preds\n",
    "    report[\"test_preds\"] = test_oof_preds\n",
    "    report[\"fold_scores\"] = fold_scores\n",
    "\n",
    "    if plot_importances == True:\n",
    "        feat_imp_df[\"avg_importance\"] = feat_imp_df.iloc[:, 1:].mean(axis=1)\n",
    "        plt.figure(figsize=(12, 10))\n",
    "        sns.barplot(\n",
    "            data=feat_imp_df.sort_values(by=\"avg_importance\", ascending=False).iloc[\n",
    "                :50\n",
    "            ],\n",
    "            x=\"avg_importance\",\n",
    "            y=\"feature\",\n",
    "            color=\"royalblue\",\n",
    "            width=0.75,\n",
    "        )\n",
    "        plt.title(\"Average Feature Importances for All Folds\", size=12)\n",
    "        plt.show()\n",
    "\n",
    "        report[\"feature_importances\"] = feat_imp_df\n",
    "\n",
    "    return report"
   ]
  },
  {
   "cell_type": "code",
   "execution_count": 4,
   "id": "42e69359",
   "metadata": {
    "execution": {
     "iopub.execute_input": "2024-05-13T15:44:35.187391Z",
     "iopub.status.busy": "2024-05-13T15:44:35.186956Z",
     "iopub.status.idle": "2024-05-13T15:44:35.192961Z",
     "shell.execute_reply": "2024-05-13T15:44:35.191795Z"
    },
    "executionInfo": {
     "elapsed": 678,
     "status": "ok",
     "timestamp": 1715283143705,
     "user": {
      "displayName": "Sercan Yeşilöz",
      "userId": "06148202317870201469"
     },
     "user_tz": -180
    },
    "id": "tykrR5z1xoAQ",
    "papermill": {
     "duration": 0.026252,
     "end_time": "2024-05-13T15:44:35.195385",
     "exception": false,
     "start_time": "2024-05-13T15:44:35.169133",
     "status": "completed"
    },
    "tags": []
   },
   "outputs": [],
   "source": [
    "class config:\n",
    "    root = \"/kaggle/input/gdz-elektrik-datathon-2024\"\n",
    "    holidays_path = os.path.join(root, \"holidays.csv\")\n",
    "    sample_submission_path = os.path.join(root, \"sample_submission.csv\")\n",
    "    weather_path = os.path.join(root, \"weather.csv\")\n",
    "    train_path = os.path.join(root, \"train.csv\")\n",
    "    test_path = os.path.join(root, \"test.csv\")"
   ]
  },
  {
   "cell_type": "code",
   "execution_count": 5,
   "id": "bdcff0d1",
   "metadata": {
    "execution": {
     "iopub.execute_input": "2024-05-13T15:44:35.229173Z",
     "iopub.status.busy": "2024-05-13T15:44:35.228802Z",
     "iopub.status.idle": "2024-05-13T15:44:41.785715Z",
     "shell.execute_reply": "2024-05-13T15:44:41.784752Z"
    },
    "executionInfo": {
     "elapsed": 2989,
     "status": "ok",
     "timestamp": 1715283146692,
     "user": {
      "displayName": "Sercan Yeşilöz",
      "userId": "06148202317870201469"
     },
     "user_tz": -180
    },
    "id": "oxi3yM6Lxn-W",
    "papermill": {
     "duration": 6.576893,
     "end_time": "2024-05-13T15:44:41.788521",
     "exception": false,
     "start_time": "2024-05-13T15:44:35.211628",
     "status": "completed"
    },
    "tags": []
   },
   "outputs": [],
   "source": [
    "df = load_data(config)\n",
    "\n",
    "weather_df = load_weather(config)"
   ]
  },
  {
   "cell_type": "code",
   "execution_count": 6,
   "id": "169a7c5b",
   "metadata": {
    "execution": {
     "iopub.execute_input": "2024-05-13T15:44:41.822378Z",
     "iopub.status.busy": "2024-05-13T15:44:41.821981Z",
     "iopub.status.idle": "2024-05-13T15:44:42.057376Z",
     "shell.execute_reply": "2024-05-13T15:44:42.056410Z"
    },
    "executionInfo": {
     "elapsed": 3,
     "status": "ok",
     "timestamp": 1715283146693,
     "user": {
      "displayName": "Sercan Yeşilöz",
      "userId": "06148202317870201469"
     },
     "user_tz": -180
    },
    "id": "WYazCaEsxn8d",
    "papermill": {
     "duration": 0.255616,
     "end_time": "2024-05-13T15:44:42.060084",
     "exception": false,
     "start_time": "2024-05-13T15:44:41.804468",
     "status": "completed"
    },
    "tags": []
   },
   "outputs": [],
   "source": [
    "weather_df[\"t_diff\"] = weather_df[\"t_2m:C\"] - weather_df[\"t_apparent:C\"]\n",
    "\n",
    "weather_df[\"wind_chill\"] = (\n",
    "    35.74\n",
    "    + 0.6215 * weather_df[\"t_2m:C\"]\n",
    "    - 35.75 * (weather_df[\"wind_speed_10m:ms\"] ** 0.16)\n",
    "    + 0.4275 * weather_df[\"t_2m:C\"] * (weather_df[\"wind_speed_10m:ms\"] ** 0.16)\n",
    ")\n",
    "\n",
    "weather_df[\"dew_point\"] = weather_df[\"t_2m:C\"] - (\n",
    "    (100 - weather_df[\"relative_humidity_2m:p\"]) / 5\n",
    ")\n",
    "\n",
    "weather_df[\"wind_speed_direction\"] = (\n",
    "    weather_df[\"wind_speed_10m:ms\"] * weather_df[\"wind_dir_10m:d\"]\n",
    ")\n",
    "\n",
    "weather_df[\"solar_temp_interaction\"] = weather_df[\"global_rad:W\"] * weather_df[\"t_2m:C\"]\n",
    "\n",
    "weather_df[\"cloud_humidity_interaction\"] = (\n",
    "    weather_df[\"effective_cloud_cover:p\"] * weather_df[\"relative_humidity_2m:p\"]\n",
    ")\n",
    "\n",
    "weather_df[\"sicaklik_nem_orani\"] = (\n",
    "    weather_df[\"t_2m:C\"] * weather_df[\"relative_humidity_2m:p\"] / 100\n",
    ")\n",
    "\n",
    "\n",
    "weather_df[\"sicaklik_ruzgar_etkilesimi\"] = (\n",
    "    weather_df[\"t_2m:C\"] * weather_df[\"wind_speed_10m:ms\"]\n",
    ")\n",
    "\n",
    "weather_df[\"ters_etkilesim_yagis_gunes\"] = (\n",
    "    weather_df[\"global_rad:W\"] * weather_df[\"prob_precip_1h:p\"] * -1\n",
    ")\n",
    "\n",
    "weather_df[\"heat_index_C\"] = (\n",
    "    -8.78469475556\n",
    "    + 1.61139411 * weather_df[\"t_2m:C\"]\n",
    "    + 2.33854883889 * weather_df[\"relative_humidity_2m:p\"]\n",
    "    - 0.14611605 * weather_df[\"t_2m:C\"] * weather_df[\"relative_humidity_2m:p\"]\n",
    "    - 0.012308094 * weather_df[\"t_2m:C\"] ** 2\n",
    "    - 0.0164248277778 * weather_df[\"relative_humidity_2m:p\"] ** 2\n",
    "    + 0.002211732 * weather_df[\"t_2m:C\"] ** 2 * weather_df[\"relative_humidity_2m:p\"]\n",
    "    + 0.00072546 * weather_df[\"t_2m:C\"] * weather_df[\"relative_humidity_2m:p\"] ** 2\n",
    "    - 0.000003582\n",
    "    * weather_df[\"t_2m:C\"] ** 2\n",
    "    * weather_df[\"relative_humidity_2m:p\"] ** 2\n",
    ")"
   ]
  },
  {
   "cell_type": "code",
   "execution_count": 7,
   "id": "f9c8ff41",
   "metadata": {
    "execution": {
     "iopub.execute_input": "2024-05-13T15:44:42.093702Z",
     "iopub.status.busy": "2024-05-13T15:44:42.093015Z",
     "iopub.status.idle": "2024-05-13T15:45:14.245572Z",
     "shell.execute_reply": "2024-05-13T15:45:14.244450Z"
    },
    "executionInfo": {
     "elapsed": 23604,
     "status": "ok",
     "timestamp": 1715283170294,
     "user": {
      "displayName": "Sercan Yeşilöz",
      "userId": "06148202317870201469"
     },
     "user_tz": -180
    },
    "id": "MgjjqWW2xn6m",
    "outputId": "bdf70e11-34d2-44fd-e484-5393ae858506",
    "papermill": {
     "duration": 32.189013,
     "end_time": "2024-05-13T15:45:14.264871",
     "exception": false,
     "start_time": "2024-05-13T15:44:42.075858",
     "status": "completed"
    },
    "tags": []
   },
   "outputs": [
    {
     "name": "stdout",
     "output_type": "stream",
     "text": [
      "(49511, 88)\n"
     ]
    },
    {
     "data": {
      "text/html": [
       "<div>\n",
       "<style scoped>\n",
       "    .dataframe tbody tr th:only-of-type {\n",
       "        vertical-align: middle;\n",
       "    }\n",
       "\n",
       "    .dataframe tbody tr th {\n",
       "        vertical-align: top;\n",
       "    }\n",
       "\n",
       "    .dataframe thead th {\n",
       "        text-align: right;\n",
       "    }\n",
       "</style>\n",
       "<table border=\"1\" class=\"dataframe\">\n",
       "  <thead>\n",
       "    <tr style=\"text-align: right;\">\n",
       "      <th></th>\n",
       "      <th>date</th>\n",
       "      <th>ilce</th>\n",
       "      <th>bildirimsiz_sum</th>\n",
       "      <th>bildirimli_sum</th>\n",
       "      <th>sehir</th>\n",
       "      <th>t_2m:C_mean</th>\n",
       "      <th>t_2m:C_max</th>\n",
       "      <th>t_2m:C_min</th>\n",
       "      <th>t_2m:C_std</th>\n",
       "      <th>effective_cloud_cover:p_mean</th>\n",
       "      <th>...</th>\n",
       "      <th>heat_index_C_std</th>\n",
       "      <th>temp_range</th>\n",
       "      <th>wind_speed_10m_range</th>\n",
       "      <th>wind_dir_10m_range</th>\n",
       "      <th>relative_humidity_2m_range</th>\n",
       "      <th>effective_cloud_cover_range</th>\n",
       "      <th>global_rad_range</th>\n",
       "      <th>t_apparent_range</th>\n",
       "      <th>lat</th>\n",
       "      <th>lon</th>\n",
       "    </tr>\n",
       "  </thead>\n",
       "  <tbody>\n",
       "    <tr>\n",
       "      <th>0</th>\n",
       "      <td>2021-01-01</td>\n",
       "      <td>aliaga</td>\n",
       "      <td>5.0</td>\n",
       "      <td>0</td>\n",
       "      <td>izmir</td>\n",
       "      <td>13.275000</td>\n",
       "      <td>15.8</td>\n",
       "      <td>11.3</td>\n",
       "      <td>1.305923</td>\n",
       "      <td>55.045833</td>\n",
       "      <td>...</td>\n",
       "      <td>0.972472</td>\n",
       "      <td>4.5</td>\n",
       "      <td>4.6</td>\n",
       "      <td>66.5</td>\n",
       "      <td>16.1</td>\n",
       "      <td>72.4</td>\n",
       "      <td>338.4</td>\n",
       "      <td>7.1</td>\n",
       "      <td>38.7996</td>\n",
       "      <td>26.9707</td>\n",
       "    </tr>\n",
       "    <tr>\n",
       "      <th>1</th>\n",
       "      <td>2021-01-02</td>\n",
       "      <td>aliaga</td>\n",
       "      <td>13.0</td>\n",
       "      <td>0</td>\n",
       "      <td>izmir</td>\n",
       "      <td>12.870833</td>\n",
       "      <td>17.2</td>\n",
       "      <td>10.6</td>\n",
       "      <td>2.377883</td>\n",
       "      <td>36.125000</td>\n",
       "      <td>...</td>\n",
       "      <td>1.099864</td>\n",
       "      <td>6.6</td>\n",
       "      <td>1.9</td>\n",
       "      <td>31.4</td>\n",
       "      <td>30.1</td>\n",
       "      <td>46.7</td>\n",
       "      <td>401.7</td>\n",
       "      <td>9.1</td>\n",
       "      <td>38.7996</td>\n",
       "      <td>26.9707</td>\n",
       "    </tr>\n",
       "    <tr>\n",
       "      <th>2</th>\n",
       "      <td>2021-01-03</td>\n",
       "      <td>aliaga</td>\n",
       "      <td>4.0</td>\n",
       "      <td>0</td>\n",
       "      <td>izmir</td>\n",
       "      <td>12.633333</td>\n",
       "      <td>15.9</td>\n",
       "      <td>11.1</td>\n",
       "      <td>1.351864</td>\n",
       "      <td>64.870833</td>\n",
       "      <td>...</td>\n",
       "      <td>2.094852</td>\n",
       "      <td>4.8</td>\n",
       "      <td>1.4</td>\n",
       "      <td>36.6</td>\n",
       "      <td>11.6</td>\n",
       "      <td>78.1</td>\n",
       "      <td>176.1</td>\n",
       "      <td>6.3</td>\n",
       "      <td>38.7996</td>\n",
       "      <td>26.9707</td>\n",
       "    </tr>\n",
       "    <tr>\n",
       "      <th>3</th>\n",
       "      <td>2021-01-04</td>\n",
       "      <td>aliaga</td>\n",
       "      <td>9.0</td>\n",
       "      <td>0</td>\n",
       "      <td>izmir</td>\n",
       "      <td>13.733333</td>\n",
       "      <td>17.0</td>\n",
       "      <td>11.0</td>\n",
       "      <td>2.388317</td>\n",
       "      <td>47.783333</td>\n",
       "      <td>...</td>\n",
       "      <td>1.936143</td>\n",
       "      <td>6.0</td>\n",
       "      <td>3.7</td>\n",
       "      <td>59.7</td>\n",
       "      <td>24.8</td>\n",
       "      <td>59.8</td>\n",
       "      <td>367.1</td>\n",
       "      <td>6.9</td>\n",
       "      <td>38.7996</td>\n",
       "      <td>26.9707</td>\n",
       "    </tr>\n",
       "    <tr>\n",
       "      <th>4</th>\n",
       "      <td>2021-01-05</td>\n",
       "      <td>aliaga</td>\n",
       "      <td>2.0</td>\n",
       "      <td>0</td>\n",
       "      <td>izmir</td>\n",
       "      <td>14.375000</td>\n",
       "      <td>16.8</td>\n",
       "      <td>12.2</td>\n",
       "      <td>1.522655</td>\n",
       "      <td>30.379167</td>\n",
       "      <td>...</td>\n",
       "      <td>2.619268</td>\n",
       "      <td>4.6</td>\n",
       "      <td>6.6</td>\n",
       "      <td>118.5</td>\n",
       "      <td>39.6</td>\n",
       "      <td>99.0</td>\n",
       "      <td>409.0</td>\n",
       "      <td>7.6</td>\n",
       "      <td>38.7996</td>\n",
       "      <td>26.9707</td>\n",
       "    </tr>\n",
       "  </tbody>\n",
       "</table>\n",
       "<p>5 rows × 88 columns</p>\n",
       "</div>"
      ],
      "text/plain": [
       "        date    ilce  bildirimsiz_sum  bildirimli_sum  sehir  t_2m:C_mean  \\\n",
       "0 2021-01-01  aliaga              5.0               0  izmir    13.275000   \n",
       "1 2021-01-02  aliaga             13.0               0  izmir    12.870833   \n",
       "2 2021-01-03  aliaga              4.0               0  izmir    12.633333   \n",
       "3 2021-01-04  aliaga              9.0               0  izmir    13.733333   \n",
       "4 2021-01-05  aliaga              2.0               0  izmir    14.375000   \n",
       "\n",
       "   t_2m:C_max  t_2m:C_min  t_2m:C_std  effective_cloud_cover:p_mean  ...  \\\n",
       "0        15.8        11.3    1.305923                     55.045833  ...   \n",
       "1        17.2        10.6    2.377883                     36.125000  ...   \n",
       "2        15.9        11.1    1.351864                     64.870833  ...   \n",
       "3        17.0        11.0    2.388317                     47.783333  ...   \n",
       "4        16.8        12.2    1.522655                     30.379167  ...   \n",
       "\n",
       "   heat_index_C_std  temp_range  wind_speed_10m_range  wind_dir_10m_range  \\\n",
       "0          0.972472         4.5                   4.6                66.5   \n",
       "1          1.099864         6.6                   1.9                31.4   \n",
       "2          2.094852         4.8                   1.4                36.6   \n",
       "3          1.936143         6.0                   3.7                59.7   \n",
       "4          2.619268         4.6                   6.6               118.5   \n",
       "\n",
       "   relative_humidity_2m_range  effective_cloud_cover_range  global_rad_range  \\\n",
       "0                        16.1                         72.4             338.4   \n",
       "1                        30.1                         46.7             401.7   \n",
       "2                        11.6                         78.1             176.1   \n",
       "3                        24.8                         59.8             367.1   \n",
       "4                        39.6                         99.0             409.0   \n",
       "\n",
       "   t_apparent_range      lat      lon  \n",
       "0               7.1  38.7996  26.9707  \n",
       "1               9.1  38.7996  26.9707  \n",
       "2               6.3  38.7996  26.9707  \n",
       "3               6.9  38.7996  26.9707  \n",
       "4               7.6  38.7996  26.9707  \n",
       "\n",
       "[5 rows x 88 columns]"
      ]
     },
     "execution_count": 7,
     "metadata": {},
     "output_type": "execute_result"
    }
   ],
   "source": [
    "weather_aggs = {\n",
    "    \"t_2m:C\": [\"mean\", \"max\", \"min\", \"std\"],\n",
    "    \"effective_cloud_cover:p\": [\"mean\", \"max\", \"min\", \"std\"],\n",
    "    \"global_rad:W\": [\"mean\", \"max\", \"min\", \"std\", \"sum\"],\n",
    "    \"relative_humidity_2m:p\": [\"mean\", \"max\", \"min\", \"std\"],\n",
    "    \"wind_dir_10m:d\": [\"mean\", \"max\", \"min\", \"std\"],\n",
    "    \"wind_speed_10m:ms\": [\"mean\", \"max\", \"min\", \"std\"],\n",
    "    \"prob_precip_1h:p\": [\"mean\", \"max\", \"min\", \"std\", \"var\"],\n",
    "    \"t_apparent:C\": [\"mean\", \"max\", \"min\", \"std\"],\n",
    "    \"t_diff\": [\"mean\", \"max\", \"min\", \"std\"],\n",
    "    'wind_chill': [\"mean\", \"max\", \"min\", \"std\"],\n",
    "    'dew_point': [\"mean\", \"max\", \"min\", \"std\"],\n",
    "    'wind_speed_direction': [\"mean\", \"max\", \"min\", \"std\"],\n",
    "    'solar_temp_interaction': [\"mean\", \"max\", \"min\", \"std\"],\n",
    "    'cloud_humidity_interaction': [\"mean\", \"max\", \"min\", \"std\"],\n",
    "    'sicaklik_nem_orani': [\"mean\", \"max\", \"min\", \"std\"],\n",
    "    'sicaklik_ruzgar_etkilesimi': [\"mean\", \"max\", \"min\", \"std\"],\n",
    "    'ters_etkilesim_yagis_gunes':[\"mean\", \"max\", \"min\", \"std\"],\n",
    "    'heat_index_C':[\"mean\", \"max\", \"min\", \"std\"]\n",
    "}\n",
    "\n",
    "\n",
    "for field, agg_list in weather_aggs.items():\n",
    "    for agg in agg_list:\n",
    "        df = df.merge(\n",
    "            weather_df.groupby([\"date\", \"sehir\", \"ilce\"], as_index=False).agg(\n",
    "                **{f\"{field}_{agg}\": (field, agg)}\n",
    "            ),\n",
    "            on=[\"date\", \"sehir\", \"ilce\"],\n",
    "            how=\"left\",\n",
    "        )\n",
    "\n",
    "df['temp_range'] = df['t_2m:C_max'] - df['t_2m:C_min']\n",
    "df['wind_speed_10m_range'] = df['wind_speed_10m:ms_max'] - df['wind_speed_10m:ms_min']\n",
    "df['wind_dir_10m_range'] = df['wind_dir_10m:d_max'] - df['wind_dir_10m:d_min']\n",
    "df['relative_humidity_2m_range'] = df['relative_humidity_2m:p_max'] - df['relative_humidity_2m:p_min']\n",
    "df['effective_cloud_cover_range'] = df['effective_cloud_cover:p_max'] - df['effective_cloud_cover:p_min']\n",
    "df['global_rad_range'] = df['global_rad:W_max'] - df['global_rad:W_min']\n",
    "df['t_apparent_range'] = df['t_apparent:C_max'] - df['t_apparent:C_min']\n",
    "\n",
    "df = df.merge(\n",
    "    weather_df[[\"sehir\", \"ilce\", \"lat\", \"lon\"]].drop_duplicates(),\n",
    "    on=[\"sehir\", \"ilce\"],\n",
    "    how=\"left\"\n",
    ")\n",
    "\n",
    "print(df.shape)\n",
    "df.head()"
   ]
  },
  {
   "cell_type": "markdown",
   "id": "313256ce",
   "metadata": {
    "id": "6-NlCLjezewH",
    "papermill": {
     "duration": 0.016944,
     "end_time": "2024-05-13T15:45:14.299005",
     "exception": false,
     "start_time": "2024-05-13T15:45:14.282061",
     "status": "completed"
    },
    "tags": []
   },
   "source": [
    "## Holidays"
   ]
  },
  {
   "cell_type": "code",
   "execution_count": 8,
   "id": "9739b7dc",
   "metadata": {
    "execution": {
     "iopub.execute_input": "2024-05-13T15:45:14.334717Z",
     "iopub.status.busy": "2024-05-13T15:45:14.334337Z",
     "iopub.status.idle": "2024-05-13T15:45:14.355764Z",
     "shell.execute_reply": "2024-05-13T15:45:14.354614Z"
    },
    "executionInfo": {
     "elapsed": 60,
     "status": "ok",
     "timestamp": 1715283170297,
     "user": {
      "displayName": "Sercan Yeşilöz",
      "userId": "06148202317870201469"
     },
     "user_tz": -180
    },
    "id": "LftjnLEWxn41",
    "outputId": "cabc62c9-0a91-46ff-e9d2-2aaf5946e2ec",
    "papermill": {
     "duration": 0.04252,
     "end_time": "2024-05-13T15:45:14.358288",
     "exception": false,
     "start_time": "2024-05-13T15:45:14.315768",
     "status": "completed"
    },
    "tags": []
   },
   "outputs": [
    {
     "data": {
      "text/html": [
       "<div>\n",
       "<style scoped>\n",
       "    .dataframe tbody tr th:only-of-type {\n",
       "        vertical-align: middle;\n",
       "    }\n",
       "\n",
       "    .dataframe tbody tr th {\n",
       "        vertical-align: top;\n",
       "    }\n",
       "\n",
       "    .dataframe thead th {\n",
       "        text-align: right;\n",
       "    }\n",
       "</style>\n",
       "<table border=\"1\" class=\"dataframe\">\n",
       "  <thead>\n",
       "    <tr style=\"text-align: right;\">\n",
       "      <th></th>\n",
       "      <th>Yıl</th>\n",
       "      <th>Ay</th>\n",
       "      <th>Gün</th>\n",
       "      <th>Tatil Adı</th>\n",
       "      <th>date</th>\n",
       "    </tr>\n",
       "  </thead>\n",
       "  <tbody>\n",
       "    <tr>\n",
       "      <th>0</th>\n",
       "      <td>2021</td>\n",
       "      <td>1</td>\n",
       "      <td>1</td>\n",
       "      <td>New Year's Day</td>\n",
       "      <td>2021-01-01</td>\n",
       "    </tr>\n",
       "    <tr>\n",
       "      <th>1</th>\n",
       "      <td>2021</td>\n",
       "      <td>4</td>\n",
       "      <td>23</td>\n",
       "      <td>National Sovereignty and Children's Day</td>\n",
       "      <td>2021-04-23</td>\n",
       "    </tr>\n",
       "    <tr>\n",
       "      <th>2</th>\n",
       "      <td>2021</td>\n",
       "      <td>5</td>\n",
       "      <td>1</td>\n",
       "      <td>Labour Day</td>\n",
       "      <td>2021-05-01</td>\n",
       "    </tr>\n",
       "    <tr>\n",
       "      <th>3</th>\n",
       "      <td>2021</td>\n",
       "      <td>5</td>\n",
       "      <td>19</td>\n",
       "      <td>Commemoration of Ataturk, Youth and Sports Day</td>\n",
       "      <td>2021-05-19</td>\n",
       "    </tr>\n",
       "    <tr>\n",
       "      <th>4</th>\n",
       "      <td>2021</td>\n",
       "      <td>7</td>\n",
       "      <td>15</td>\n",
       "      <td>Democracy and National Unity Day</td>\n",
       "      <td>2021-07-15</td>\n",
       "    </tr>\n",
       "  </tbody>\n",
       "</table>\n",
       "</div>"
      ],
      "text/plain": [
       "    Yıl  Ay  Gün                                       Tatil Adı       date\n",
       "0  2021   1    1                                  New Year's Day 2021-01-01\n",
       "1  2021   4   23         National Sovereignty and Children's Day 2021-04-23\n",
       "2  2021   5    1                                      Labour Day 2021-05-01\n",
       "3  2021   5   19  Commemoration of Ataturk, Youth and Sports Day 2021-05-19\n",
       "4  2021   7   15                Democracy and National Unity Day 2021-07-15"
      ]
     },
     "execution_count": 8,
     "metadata": {},
     "output_type": "execute_result"
    }
   ],
   "source": [
    "holidays_df = load_holidays(config)\n",
    "\n",
    "holidays_df.head()"
   ]
  },
  {
   "cell_type": "code",
   "execution_count": 9,
   "id": "628afc37",
   "metadata": {
    "execution": {
     "iopub.execute_input": "2024-05-13T15:45:14.394923Z",
     "iopub.status.busy": "2024-05-13T15:45:14.394529Z",
     "iopub.status.idle": "2024-05-13T15:45:14.547389Z",
     "shell.execute_reply": "2024-05-13T15:45:14.546354Z"
    },
    "executionInfo": {
     "elapsed": 58,
     "status": "ok",
     "timestamp": 1715283170298,
     "user": {
      "displayName": "Sercan Yeşilöz",
      "userId": "06148202317870201469"
     },
     "user_tz": -180
    },
    "id": "OPCs54Ifxn1e",
    "outputId": "86d4a537-8d19-4455-c5d3-55f2d1877611",
    "papermill": {
     "duration": 0.174473,
     "end_time": "2024-05-13T15:45:14.550268",
     "exception": false,
     "start_time": "2024-05-13T15:45:14.375795",
     "status": "completed"
    },
    "tags": []
   },
   "outputs": [
    {
     "data": {
      "text/html": [
       "<div>\n",
       "<style scoped>\n",
       "    .dataframe tbody tr th:only-of-type {\n",
       "        vertical-align: middle;\n",
       "    }\n",
       "\n",
       "    .dataframe tbody tr th {\n",
       "        vertical-align: top;\n",
       "    }\n",
       "\n",
       "    .dataframe thead th {\n",
       "        text-align: right;\n",
       "    }\n",
       "</style>\n",
       "<table border=\"1\" class=\"dataframe\">\n",
       "  <thead>\n",
       "    <tr style=\"text-align: right;\">\n",
       "      <th></th>\n",
       "      <th>date</th>\n",
       "      <th>ilce</th>\n",
       "      <th>bildirimsiz_sum</th>\n",
       "      <th>bildirimli_sum</th>\n",
       "      <th>sehir</th>\n",
       "      <th>t_2m:C_mean</th>\n",
       "      <th>t_2m:C_max</th>\n",
       "      <th>t_2m:C_min</th>\n",
       "      <th>t_2m:C_std</th>\n",
       "      <th>effective_cloud_cover:p_mean</th>\n",
       "      <th>...</th>\n",
       "      <th>Tatil Adı_National Sovereignty and Children's Day; Ramadan Feast Holiday* (*estimated)</th>\n",
       "      <th>Tatil Adı_New Year's Day</th>\n",
       "      <th>Tatil Adı_Ramadan Feast Holiday* (*estimated)</th>\n",
       "      <th>Tatil Adı_Ramadan Feast* (*estimated)</th>\n",
       "      <th>Tatil Adı_Republic Day</th>\n",
       "      <th>Tatil Adı_Sacrifice Feast Holiday* (*estimated)</th>\n",
       "      <th>Tatil Adı_Sacrifice Feast* (*estimated)</th>\n",
       "      <th>Tatil Adı_Victory Day</th>\n",
       "      <th>milli_bayram_flag</th>\n",
       "      <th>dini_bayram_flag</th>\n",
       "    </tr>\n",
       "  </thead>\n",
       "  <tbody>\n",
       "    <tr>\n",
       "      <th>0</th>\n",
       "      <td>2021-01-01</td>\n",
       "      <td>aliaga</td>\n",
       "      <td>5.0</td>\n",
       "      <td>0</td>\n",
       "      <td>izmir</td>\n",
       "      <td>13.275000</td>\n",
       "      <td>15.8</td>\n",
       "      <td>11.3</td>\n",
       "      <td>1.305923</td>\n",
       "      <td>55.045833</td>\n",
       "      <td>...</td>\n",
       "      <td>0</td>\n",
       "      <td>1</td>\n",
       "      <td>0</td>\n",
       "      <td>0</td>\n",
       "      <td>0</td>\n",
       "      <td>0</td>\n",
       "      <td>0</td>\n",
       "      <td>0</td>\n",
       "      <td>0</td>\n",
       "      <td>0</td>\n",
       "    </tr>\n",
       "    <tr>\n",
       "      <th>1</th>\n",
       "      <td>2021-01-02</td>\n",
       "      <td>aliaga</td>\n",
       "      <td>13.0</td>\n",
       "      <td>0</td>\n",
       "      <td>izmir</td>\n",
       "      <td>12.870833</td>\n",
       "      <td>17.2</td>\n",
       "      <td>10.6</td>\n",
       "      <td>2.377883</td>\n",
       "      <td>36.125000</td>\n",
       "      <td>...</td>\n",
       "      <td>0</td>\n",
       "      <td>0</td>\n",
       "      <td>0</td>\n",
       "      <td>0</td>\n",
       "      <td>0</td>\n",
       "      <td>0</td>\n",
       "      <td>0</td>\n",
       "      <td>0</td>\n",
       "      <td>0</td>\n",
       "      <td>0</td>\n",
       "    </tr>\n",
       "    <tr>\n",
       "      <th>2</th>\n",
       "      <td>2021-01-03</td>\n",
       "      <td>aliaga</td>\n",
       "      <td>4.0</td>\n",
       "      <td>0</td>\n",
       "      <td>izmir</td>\n",
       "      <td>12.633333</td>\n",
       "      <td>15.9</td>\n",
       "      <td>11.1</td>\n",
       "      <td>1.351864</td>\n",
       "      <td>64.870833</td>\n",
       "      <td>...</td>\n",
       "      <td>0</td>\n",
       "      <td>0</td>\n",
       "      <td>0</td>\n",
       "      <td>0</td>\n",
       "      <td>0</td>\n",
       "      <td>0</td>\n",
       "      <td>0</td>\n",
       "      <td>0</td>\n",
       "      <td>0</td>\n",
       "      <td>0</td>\n",
       "    </tr>\n",
       "    <tr>\n",
       "      <th>3</th>\n",
       "      <td>2021-01-04</td>\n",
       "      <td>aliaga</td>\n",
       "      <td>9.0</td>\n",
       "      <td>0</td>\n",
       "      <td>izmir</td>\n",
       "      <td>13.733333</td>\n",
       "      <td>17.0</td>\n",
       "      <td>11.0</td>\n",
       "      <td>2.388317</td>\n",
       "      <td>47.783333</td>\n",
       "      <td>...</td>\n",
       "      <td>0</td>\n",
       "      <td>0</td>\n",
       "      <td>0</td>\n",
       "      <td>0</td>\n",
       "      <td>0</td>\n",
       "      <td>0</td>\n",
       "      <td>0</td>\n",
       "      <td>0</td>\n",
       "      <td>0</td>\n",
       "      <td>0</td>\n",
       "    </tr>\n",
       "    <tr>\n",
       "      <th>4</th>\n",
       "      <td>2021-01-05</td>\n",
       "      <td>aliaga</td>\n",
       "      <td>2.0</td>\n",
       "      <td>0</td>\n",
       "      <td>izmir</td>\n",
       "      <td>14.375000</td>\n",
       "      <td>16.8</td>\n",
       "      <td>12.2</td>\n",
       "      <td>1.522655</td>\n",
       "      <td>30.379167</td>\n",
       "      <td>...</td>\n",
       "      <td>0</td>\n",
       "      <td>0</td>\n",
       "      <td>0</td>\n",
       "      <td>0</td>\n",
       "      <td>0</td>\n",
       "      <td>0</td>\n",
       "      <td>0</td>\n",
       "      <td>0</td>\n",
       "      <td>0</td>\n",
       "      <td>0</td>\n",
       "    </tr>\n",
       "  </tbody>\n",
       "</table>\n",
       "<p>5 rows × 103 columns</p>\n",
       "</div>"
      ],
      "text/plain": [
       "        date    ilce  bildirimsiz_sum  bildirimli_sum  sehir  t_2m:C_mean  \\\n",
       "0 2021-01-01  aliaga              5.0               0  izmir    13.275000   \n",
       "1 2021-01-02  aliaga             13.0               0  izmir    12.870833   \n",
       "2 2021-01-03  aliaga              4.0               0  izmir    12.633333   \n",
       "3 2021-01-04  aliaga              9.0               0  izmir    13.733333   \n",
       "4 2021-01-05  aliaga              2.0               0  izmir    14.375000   \n",
       "\n",
       "   t_2m:C_max  t_2m:C_min  t_2m:C_std  effective_cloud_cover:p_mean  ...  \\\n",
       "0        15.8        11.3    1.305923                     55.045833  ...   \n",
       "1        17.2        10.6    2.377883                     36.125000  ...   \n",
       "2        15.9        11.1    1.351864                     64.870833  ...   \n",
       "3        17.0        11.0    2.388317                     47.783333  ...   \n",
       "4        16.8        12.2    1.522655                     30.379167  ...   \n",
       "\n",
       "   Tatil Adı_National Sovereignty and Children's Day; Ramadan Feast Holiday* (*estimated)  \\\n",
       "0                                                  0                                        \n",
       "1                                                  0                                        \n",
       "2                                                  0                                        \n",
       "3                                                  0                                        \n",
       "4                                                  0                                        \n",
       "\n",
       "   Tatil Adı_New Year's Day  Tatil Adı_Ramadan Feast Holiday* (*estimated)  \\\n",
       "0                         1                                              0   \n",
       "1                         0                                              0   \n",
       "2                         0                                              0   \n",
       "3                         0                                              0   \n",
       "4                         0                                              0   \n",
       "\n",
       "   Tatil Adı_Ramadan Feast* (*estimated)  Tatil Adı_Republic Day  \\\n",
       "0                                      0                       0   \n",
       "1                                      0                       0   \n",
       "2                                      0                       0   \n",
       "3                                      0                       0   \n",
       "4                                      0                       0   \n",
       "\n",
       "   Tatil Adı_Sacrifice Feast Holiday* (*estimated)  \\\n",
       "0                                                0   \n",
       "1                                                0   \n",
       "2                                                0   \n",
       "3                                                0   \n",
       "4                                                0   \n",
       "\n",
       "   Tatil Adı_Sacrifice Feast* (*estimated)  Tatil Adı_Victory Day  \\\n",
       "0                                        0                      0   \n",
       "1                                        0                      0   \n",
       "2                                        0                      0   \n",
       "3                                        0                      0   \n",
       "4                                        0                      0   \n",
       "\n",
       "   milli_bayram_flag  dini_bayram_flag  \n",
       "0                  0                 0  \n",
       "1                  0                 0  \n",
       "2                  0                 0  \n",
       "3                  0                 0  \n",
       "4                  0                 0  \n",
       "\n",
       "[5 rows x 103 columns]"
      ]
     },
     "execution_count": 9,
     "metadata": {},
     "output_type": "execute_result"
    }
   ],
   "source": [
    "df = pd.get_dummies(\n",
    "    data=df.merge(\n",
    "        holidays_df[[\"Tatil Adı\", \"date\"]], on=[\"date\"], how=\"left\"\n",
    "    ).assign(is_bayram=lambda x: (x[\"Tatil Adı\"].notnull()).astype(\"int32\")),\n",
    "    columns=[\"Tatil Adı\"],\n",
    "    dtype=\"int32\",\n",
    ")\n",
    "\n",
    "df['milli_bayram_flag'] = df[['Tatil Adı_Commemoration of Ataturk, Youth and Sports Day',\n",
    "                              'Tatil Adı_Commemoration of Ataturk, Youth and Sports Day',\n",
    "                              'Tatil Adı_Democracy and National Unity Day',\n",
    "                              \"Tatil Adı_National Sovereignty and Children's Day\",\n",
    "                              'Tatil Adı_Republic Day',\n",
    "                              'Tatil Adı_Victory Day']].max(axis=1)\n",
    "\n",
    "df['dini_bayram_flag'] = df[['Tatil Adı_Ramadan Feast Holiday* (*estimated)',\n",
    "                             'Tatil Adı_Ramadan Feast* (*estimated)',\n",
    "                             'Tatil Adı_Sacrifice Feast Holiday* (*estimated)',\n",
    "                             'Tatil Adı_Sacrifice Feast* (*estimated)']].max(axis=1)\n",
    "\n",
    "df.head()"
   ]
  },
  {
   "cell_type": "markdown",
   "id": "87104768",
   "metadata": {
    "id": "57qtvRDGzvB_",
    "papermill": {
     "duration": 0.017603,
     "end_time": "2024-05-13T15:45:14.586187",
     "exception": false,
     "start_time": "2024-05-13T15:45:14.568584",
     "status": "completed"
    },
    "tags": []
   },
   "source": [
    "## Creating Sample Weights"
   ]
  },
  {
   "cell_type": "code",
   "execution_count": 10,
   "id": "6bbdcb62",
   "metadata": {
    "execution": {
     "iopub.execute_input": "2024-05-13T15:45:14.623927Z",
     "iopub.status.busy": "2024-05-13T15:45:14.623505Z",
     "iopub.status.idle": "2024-05-13T15:45:20.106886Z",
     "shell.execute_reply": "2024-05-13T15:45:20.105732Z"
    },
    "executionInfo": {
     "elapsed": 3572,
     "status": "ok",
     "timestamp": 1715283173813,
     "user": {
      "displayName": "Sercan Yeşilöz",
      "userId": "06148202317870201469"
     },
     "user_tz": -180
    },
    "id": "5imU-5Mtxnzl",
    "outputId": "b88fa287-6f9d-4f7a-bce5-669136399db5",
    "papermill": {
     "duration": 5.505577,
     "end_time": "2024-05-13T15:45:20.109563",
     "exception": false,
     "start_time": "2024-05-13T15:45:14.603986",
     "status": "completed"
    },
    "tags": []
   },
   "outputs": [
    {
     "data": {
      "text/html": [
       "<div>\n",
       "<style scoped>\n",
       "    .dataframe tbody tr th:only-of-type {\n",
       "        vertical-align: middle;\n",
       "    }\n",
       "\n",
       "    .dataframe tbody tr th {\n",
       "        vertical-align: top;\n",
       "    }\n",
       "\n",
       "    .dataframe thead th {\n",
       "        text-align: right;\n",
       "    }\n",
       "</style>\n",
       "<table border=\"1\" class=\"dataframe\">\n",
       "  <thead>\n",
       "    <tr style=\"text-align: right;\">\n",
       "      <th></th>\n",
       "      <th>date</th>\n",
       "      <th>ilce</th>\n",
       "      <th>bildirimsiz_sum</th>\n",
       "      <th>bildirimli_sum</th>\n",
       "      <th>sehir</th>\n",
       "      <th>t_2m:C_mean</th>\n",
       "      <th>t_2m:C_max</th>\n",
       "      <th>t_2m:C_min</th>\n",
       "      <th>t_2m:C_std</th>\n",
       "      <th>effective_cloud_cover:p_mean</th>\n",
       "      <th>...</th>\n",
       "      <th>Tatil Adı_New Year's Day</th>\n",
       "      <th>Tatil Adı_Ramadan Feast Holiday* (*estimated)</th>\n",
       "      <th>Tatil Adı_Ramadan Feast* (*estimated)</th>\n",
       "      <th>Tatil Adı_Republic Day</th>\n",
       "      <th>Tatil Adı_Sacrifice Feast Holiday* (*estimated)</th>\n",
       "      <th>Tatil Adı_Sacrifice Feast* (*estimated)</th>\n",
       "      <th>Tatil Adı_Victory Day</th>\n",
       "      <th>milli_bayram_flag</th>\n",
       "      <th>dini_bayram_flag</th>\n",
       "      <th>sample_weight</th>\n",
       "    </tr>\n",
       "  </thead>\n",
       "  <tbody>\n",
       "    <tr>\n",
       "      <th>0</th>\n",
       "      <td>2021-01-01</td>\n",
       "      <td>aliaga</td>\n",
       "      <td>5.0</td>\n",
       "      <td>0</td>\n",
       "      <td>izmir</td>\n",
       "      <td>13.275000</td>\n",
       "      <td>15.8</td>\n",
       "      <td>11.3</td>\n",
       "      <td>1.305923</td>\n",
       "      <td>55.045833</td>\n",
       "      <td>...</td>\n",
       "      <td>1</td>\n",
       "      <td>0</td>\n",
       "      <td>0</td>\n",
       "      <td>0</td>\n",
       "      <td>0</td>\n",
       "      <td>0</td>\n",
       "      <td>0</td>\n",
       "      <td>0</td>\n",
       "      <td>0</td>\n",
       "      <td>0.050000</td>\n",
       "    </tr>\n",
       "    <tr>\n",
       "      <th>1</th>\n",
       "      <td>2021-01-02</td>\n",
       "      <td>aliaga</td>\n",
       "      <td>13.0</td>\n",
       "      <td>0</td>\n",
       "      <td>izmir</td>\n",
       "      <td>12.870833</td>\n",
       "      <td>17.2</td>\n",
       "      <td>10.6</td>\n",
       "      <td>2.377883</td>\n",
       "      <td>36.125000</td>\n",
       "      <td>...</td>\n",
       "      <td>0</td>\n",
       "      <td>0</td>\n",
       "      <td>0</td>\n",
       "      <td>0</td>\n",
       "      <td>0</td>\n",
       "      <td>0</td>\n",
       "      <td>0</td>\n",
       "      <td>0</td>\n",
       "      <td>0</td>\n",
       "      <td>0.050814</td>\n",
       "    </tr>\n",
       "    <tr>\n",
       "      <th>2</th>\n",
       "      <td>2021-01-03</td>\n",
       "      <td>aliaga</td>\n",
       "      <td>4.0</td>\n",
       "      <td>0</td>\n",
       "      <td>izmir</td>\n",
       "      <td>12.633333</td>\n",
       "      <td>15.9</td>\n",
       "      <td>11.1</td>\n",
       "      <td>1.351864</td>\n",
       "      <td>64.870833</td>\n",
       "      <td>...</td>\n",
       "      <td>0</td>\n",
       "      <td>0</td>\n",
       "      <td>0</td>\n",
       "      <td>0</td>\n",
       "      <td>0</td>\n",
       "      <td>0</td>\n",
       "      <td>0</td>\n",
       "      <td>0</td>\n",
       "      <td>0</td>\n",
       "      <td>0.051629</td>\n",
       "    </tr>\n",
       "    <tr>\n",
       "      <th>3</th>\n",
       "      <td>2021-01-04</td>\n",
       "      <td>aliaga</td>\n",
       "      <td>9.0</td>\n",
       "      <td>0</td>\n",
       "      <td>izmir</td>\n",
       "      <td>13.733333</td>\n",
       "      <td>17.0</td>\n",
       "      <td>11.0</td>\n",
       "      <td>2.388317</td>\n",
       "      <td>47.783333</td>\n",
       "      <td>...</td>\n",
       "      <td>0</td>\n",
       "      <td>0</td>\n",
       "      <td>0</td>\n",
       "      <td>0</td>\n",
       "      <td>0</td>\n",
       "      <td>0</td>\n",
       "      <td>0</td>\n",
       "      <td>0</td>\n",
       "      <td>0</td>\n",
       "      <td>0.052443</td>\n",
       "    </tr>\n",
       "    <tr>\n",
       "      <th>4</th>\n",
       "      <td>2021-01-05</td>\n",
       "      <td>aliaga</td>\n",
       "      <td>2.0</td>\n",
       "      <td>0</td>\n",
       "      <td>izmir</td>\n",
       "      <td>14.375000</td>\n",
       "      <td>16.8</td>\n",
       "      <td>12.2</td>\n",
       "      <td>1.522655</td>\n",
       "      <td>30.379167</td>\n",
       "      <td>...</td>\n",
       "      <td>0</td>\n",
       "      <td>0</td>\n",
       "      <td>0</td>\n",
       "      <td>0</td>\n",
       "      <td>0</td>\n",
       "      <td>0</td>\n",
       "      <td>0</td>\n",
       "      <td>0</td>\n",
       "      <td>0</td>\n",
       "      <td>0.053258</td>\n",
       "    </tr>\n",
       "  </tbody>\n",
       "</table>\n",
       "<p>5 rows × 104 columns</p>\n",
       "</div>"
      ],
      "text/plain": [
       "        date    ilce  bildirimsiz_sum  bildirimli_sum  sehir  t_2m:C_mean  \\\n",
       "0 2021-01-01  aliaga              5.0               0  izmir    13.275000   \n",
       "1 2021-01-02  aliaga             13.0               0  izmir    12.870833   \n",
       "2 2021-01-03  aliaga              4.0               0  izmir    12.633333   \n",
       "3 2021-01-04  aliaga              9.0               0  izmir    13.733333   \n",
       "4 2021-01-05  aliaga              2.0               0  izmir    14.375000   \n",
       "\n",
       "   t_2m:C_max  t_2m:C_min  t_2m:C_std  effective_cloud_cover:p_mean  ...  \\\n",
       "0        15.8        11.3    1.305923                     55.045833  ...   \n",
       "1        17.2        10.6    2.377883                     36.125000  ...   \n",
       "2        15.9        11.1    1.351864                     64.870833  ...   \n",
       "3        17.0        11.0    2.388317                     47.783333  ...   \n",
       "4        16.8        12.2    1.522655                     30.379167  ...   \n",
       "\n",
       "   Tatil Adı_New Year's Day  Tatil Adı_Ramadan Feast Holiday* (*estimated)  \\\n",
       "0                         1                                              0   \n",
       "1                         0                                              0   \n",
       "2                         0                                              0   \n",
       "3                         0                                              0   \n",
       "4                         0                                              0   \n",
       "\n",
       "   Tatil Adı_Ramadan Feast* (*estimated)  Tatil Adı_Republic Day  \\\n",
       "0                                      0                       0   \n",
       "1                                      0                       0   \n",
       "2                                      0                       0   \n",
       "3                                      0                       0   \n",
       "4                                      0                       0   \n",
       "\n",
       "   Tatil Adı_Sacrifice Feast Holiday* (*estimated)  \\\n",
       "0                                                0   \n",
       "1                                                0   \n",
       "2                                                0   \n",
       "3                                                0   \n",
       "4                                                0   \n",
       "\n",
       "   Tatil Adı_Sacrifice Feast* (*estimated)  Tatil Adı_Victory Day  \\\n",
       "0                                        0                      0   \n",
       "1                                        0                      0   \n",
       "2                                        0                      0   \n",
       "3                                        0                      0   \n",
       "4                                        0                      0   \n",
       "\n",
       "   milli_bayram_flag  dini_bayram_flag  sample_weight  \n",
       "0                  0                 0       0.050000  \n",
       "1                  0                 0       0.050814  \n",
       "2                  0                 0       0.051629  \n",
       "3                  0                 0       0.052443  \n",
       "4                  0                 0       0.053258  \n",
       "\n",
       "[5 rows x 104 columns]"
      ]
     },
     "execution_count": 10,
     "metadata": {},
     "output_type": "execute_result"
    }
   ],
   "source": [
    "sample_weight_df = pd.DataFrame()\n",
    "for i, j in df[[\"sehir\", \"ilce\"]].drop_duplicates().iterrows():\n",
    "    sehir, ilce = j[\"sehir\"], j[\"ilce\"]\n",
    "\n",
    "    train_dates = df.loc[\n",
    "        (df[\"bildirimsiz_sum\"].notnull())\n",
    "        & (df[\"sehir\"] == sehir)\n",
    "        & (df[\"ilce\"] == ilce),\n",
    "        \"date\",\n",
    "    ].sort_values(ascending=True)\n",
    "\n",
    "    space = np.linspace(start=0.05, stop=0.95, num=train_dates.nunique())\n",
    "    replace_dict = {\n",
    "        train_dates.unique()[i]: space[i] for i in range(len(train_dates.unique()))\n",
    "    }\n",
    "    sample_weight = train_dates.apply(lambda x: replace_dict[x])\n",
    "\n",
    "    sample_weight_df = pd.concat(\n",
    "        [\n",
    "            sample_weight_df,\n",
    "            pd.DataFrame(\n",
    "                {\n",
    "                    \"sehir\": sehir,\n",
    "                    \"ilce\": ilce,\n",
    "                    \"date\": train_dates,\n",
    "                    \"sample_weight\": sample_weight,\n",
    "                }\n",
    "            ),\n",
    "        ],\n",
    "        axis=0,\n",
    "    )\n",
    "\n",
    "df = df.merge(sample_weight_df, on=[\"sehir\", \"ilce\", \"date\"], how=\"left\")\n",
    "df.head()"
   ]
  },
  {
   "cell_type": "markdown",
   "id": "40f885cd",
   "metadata": {
    "id": "TIMngD6KzzaO",
    "papermill": {
     "duration": 0.018125,
     "end_time": "2024-05-13T15:45:20.146238",
     "exception": false,
     "start_time": "2024-05-13T15:45:20.128113",
     "status": "completed"
    },
    "tags": []
   },
   "source": [
    "## Time Features"
   ]
  },
  {
   "cell_type": "code",
   "execution_count": 11,
   "id": "e8f557bc",
   "metadata": {
    "execution": {
     "iopub.execute_input": "2024-05-13T15:45:20.184218Z",
     "iopub.status.busy": "2024-05-13T15:45:20.183811Z",
     "iopub.status.idle": "2024-05-13T15:45:20.481335Z",
     "shell.execute_reply": "2024-05-13T15:45:20.480227Z"
    },
    "executionInfo": {
     "elapsed": 21,
     "status": "ok",
     "timestamp": 1715283173815,
     "user": {
      "displayName": "Sercan Yeşilöz",
      "userId": "06148202317870201469"
     },
     "user_tz": -180
    },
    "id": "zb8jBSeexnxu",
    "papermill": {
     "duration": 0.319623,
     "end_time": "2024-05-13T15:45:20.483820",
     "exception": false,
     "start_time": "2024-05-13T15:45:20.164197",
     "status": "completed"
    },
    "tags": []
   },
   "outputs": [],
   "source": [
    "df = time_features(df, \"date\")"
   ]
  },
  {
   "cell_type": "markdown",
   "id": "6967196a",
   "metadata": {
    "id": "qJjEWJ7U0ENY",
    "papermill": {
     "duration": 0.017723,
     "end_time": "2024-05-13T15:45:20.520055",
     "exception": false,
     "start_time": "2024-05-13T15:45:20.502332",
     "status": "completed"
    },
    "tags": []
   },
   "source": [
    "## Adding Custom Seasonal Features"
   ]
  },
  {
   "cell_type": "code",
   "execution_count": 12,
   "id": "da967483",
   "metadata": {
    "execution": {
     "iopub.execute_input": "2024-05-13T15:45:20.558106Z",
     "iopub.status.busy": "2024-05-13T15:45:20.557704Z",
     "iopub.status.idle": "2024-05-13T15:45:20.770203Z",
     "shell.execute_reply": "2024-05-13T15:45:20.769260Z"
    },
    "executionInfo": {
     "elapsed": 20,
     "status": "ok",
     "timestamp": 1715283173815,
     "user": {
      "displayName": "Sercan Yeşilöz",
      "userId": "06148202317870201469"
     },
     "user_tz": -180
    },
    "id": "HnwM66VZz1CH",
    "outputId": "eef4ec70-50ed-429e-ffcd-cdb4f4335d5b",
    "papermill": {
     "duration": 0.234572,
     "end_time": "2024-05-13T15:45:20.772701",
     "exception": false,
     "start_time": "2024-05-13T15:45:20.538129",
     "status": "completed"
    },
    "tags": []
   },
   "outputs": [
    {
     "data": {
      "text/html": [
       "<div>\n",
       "<style scoped>\n",
       "    .dataframe tbody tr th:only-of-type {\n",
       "        vertical-align: middle;\n",
       "    }\n",
       "\n",
       "    .dataframe tbody tr th {\n",
       "        vertical-align: top;\n",
       "    }\n",
       "\n",
       "    .dataframe thead th {\n",
       "        text-align: right;\n",
       "    }\n",
       "</style>\n",
       "<table border=\"1\" class=\"dataframe\">\n",
       "  <thead>\n",
       "    <tr style=\"text-align: right;\">\n",
       "      <th></th>\n",
       "      <th>date</th>\n",
       "      <th>ilce</th>\n",
       "      <th>bildirimsiz_sum</th>\n",
       "      <th>bildirimli_sum</th>\n",
       "      <th>sehir</th>\n",
       "      <th>t_2m:C_mean</th>\n",
       "      <th>t_2m:C_max</th>\n",
       "      <th>t_2m:C_min</th>\n",
       "      <th>t_2m:C_std</th>\n",
       "      <th>effective_cloud_cover:p_mean</th>\n",
       "      <th>...</th>\n",
       "      <th>month_cos</th>\n",
       "      <th>dayofyear_sp_0</th>\n",
       "      <th>dayofyear_sp_1</th>\n",
       "      <th>dayofyear_sp_2</th>\n",
       "      <th>dayofmonth_sp_0</th>\n",
       "      <th>dayofmonth_sp_1</th>\n",
       "      <th>dayofmonth_sp_2</th>\n",
       "      <th>dayofweek_sp_0</th>\n",
       "      <th>dayofweek_sp_1</th>\n",
       "      <th>dayofweek_sp_2</th>\n",
       "    </tr>\n",
       "  </thead>\n",
       "  <tbody>\n",
       "    <tr>\n",
       "      <th>0</th>\n",
       "      <td>2021-01-01</td>\n",
       "      <td>aliaga</td>\n",
       "      <td>5.0</td>\n",
       "      <td>0</td>\n",
       "      <td>izmir</td>\n",
       "      <td>13.275000</td>\n",
       "      <td>15.8</td>\n",
       "      <td>11.3</td>\n",
       "      <td>1.305923</td>\n",
       "      <td>55.045833</td>\n",
       "      <td>...</td>\n",
       "      <td>0.866025</td>\n",
       "      <td>0.500000</td>\n",
       "      <td>0.500000</td>\n",
       "      <td>0.000000</td>\n",
       "      <td>0.500000</td>\n",
       "      <td>0.500000</td>\n",
       "      <td>0.000000</td>\n",
       "      <td>0.055556</td>\n",
       "      <td>0.722222</td>\n",
       "      <td>0.222222</td>\n",
       "    </tr>\n",
       "    <tr>\n",
       "      <th>1</th>\n",
       "      <td>2021-01-02</td>\n",
       "      <td>aliaga</td>\n",
       "      <td>13.0</td>\n",
       "      <td>0</td>\n",
       "      <td>izmir</td>\n",
       "      <td>12.870833</td>\n",
       "      <td>17.2</td>\n",
       "      <td>10.6</td>\n",
       "      <td>2.377883</td>\n",
       "      <td>36.125000</td>\n",
       "      <td>...</td>\n",
       "      <td>0.866025</td>\n",
       "      <td>0.497257</td>\n",
       "      <td>0.502740</td>\n",
       "      <td>0.000004</td>\n",
       "      <td>0.467222</td>\n",
       "      <td>0.532222</td>\n",
       "      <td>0.000556</td>\n",
       "      <td>0.013889</td>\n",
       "      <td>0.638889</td>\n",
       "      <td>0.347222</td>\n",
       "    </tr>\n",
       "    <tr>\n",
       "      <th>2</th>\n",
       "      <td>2021-01-03</td>\n",
       "      <td>aliaga</td>\n",
       "      <td>4.0</td>\n",
       "      <td>0</td>\n",
       "      <td>izmir</td>\n",
       "      <td>12.633333</td>\n",
       "      <td>15.9</td>\n",
       "      <td>11.1</td>\n",
       "      <td>1.351864</td>\n",
       "      <td>64.870833</td>\n",
       "      <td>...</td>\n",
       "      <td>0.866025</td>\n",
       "      <td>0.494521</td>\n",
       "      <td>0.505464</td>\n",
       "      <td>0.000015</td>\n",
       "      <td>0.435556</td>\n",
       "      <td>0.562222</td>\n",
       "      <td>0.002222</td>\n",
       "      <td>0.000000</td>\n",
       "      <td>0.500000</td>\n",
       "      <td>0.500000</td>\n",
       "    </tr>\n",
       "    <tr>\n",
       "      <th>3</th>\n",
       "      <td>2021-01-04</td>\n",
       "      <td>aliaga</td>\n",
       "      <td>9.0</td>\n",
       "      <td>0</td>\n",
       "      <td>izmir</td>\n",
       "      <td>13.733333</td>\n",
       "      <td>17.0</td>\n",
       "      <td>11.0</td>\n",
       "      <td>2.388317</td>\n",
       "      <td>47.783333</td>\n",
       "      <td>...</td>\n",
       "      <td>0.866025</td>\n",
       "      <td>0.491792</td>\n",
       "      <td>0.508174</td>\n",
       "      <td>0.000034</td>\n",
       "      <td>0.405000</td>\n",
       "      <td>0.590000</td>\n",
       "      <td>0.005000</td>\n",
       "      <td>0.500000</td>\n",
       "      <td>0.500000</td>\n",
       "      <td>0.000000</td>\n",
       "    </tr>\n",
       "    <tr>\n",
       "      <th>4</th>\n",
       "      <td>2021-01-05</td>\n",
       "      <td>aliaga</td>\n",
       "      <td>2.0</td>\n",
       "      <td>0</td>\n",
       "      <td>izmir</td>\n",
       "      <td>14.375000</td>\n",
       "      <td>16.8</td>\n",
       "      <td>12.2</td>\n",
       "      <td>1.522655</td>\n",
       "      <td>30.379167</td>\n",
       "      <td>...</td>\n",
       "      <td>0.866025</td>\n",
       "      <td>0.489071</td>\n",
       "      <td>0.510868</td>\n",
       "      <td>0.000060</td>\n",
       "      <td>0.375556</td>\n",
       "      <td>0.615556</td>\n",
       "      <td>0.008889</td>\n",
       "      <td>0.347222</td>\n",
       "      <td>0.638889</td>\n",
       "      <td>0.013889</td>\n",
       "    </tr>\n",
       "  </tbody>\n",
       "</table>\n",
       "<p>5 rows × 131 columns</p>\n",
       "</div>"
      ],
      "text/plain": [
       "        date    ilce  bildirimsiz_sum  bildirimli_sum  sehir  t_2m:C_mean  \\\n",
       "0 2021-01-01  aliaga              5.0               0  izmir    13.275000   \n",
       "1 2021-01-02  aliaga             13.0               0  izmir    12.870833   \n",
       "2 2021-01-03  aliaga              4.0               0  izmir    12.633333   \n",
       "3 2021-01-04  aliaga              9.0               0  izmir    13.733333   \n",
       "4 2021-01-05  aliaga              2.0               0  izmir    14.375000   \n",
       "\n",
       "   t_2m:C_max  t_2m:C_min  t_2m:C_std  effective_cloud_cover:p_mean  ...  \\\n",
       "0        15.8        11.3    1.305923                     55.045833  ...   \n",
       "1        17.2        10.6    2.377883                     36.125000  ...   \n",
       "2        15.9        11.1    1.351864                     64.870833  ...   \n",
       "3        17.0        11.0    2.388317                     47.783333  ...   \n",
       "4        16.8        12.2    1.522655                     30.379167  ...   \n",
       "\n",
       "   month_cos  dayofyear_sp_0  dayofyear_sp_1  dayofyear_sp_2  dayofmonth_sp_0  \\\n",
       "0   0.866025        0.500000        0.500000        0.000000         0.500000   \n",
       "1   0.866025        0.497257        0.502740        0.000004         0.467222   \n",
       "2   0.866025        0.494521        0.505464        0.000015         0.435556   \n",
       "3   0.866025        0.491792        0.508174        0.000034         0.405000   \n",
       "4   0.866025        0.489071        0.510868        0.000060         0.375556   \n",
       "\n",
       "   dayofmonth_sp_1  dayofmonth_sp_2  dayofweek_sp_0  dayofweek_sp_1  \\\n",
       "0         0.500000         0.000000        0.055556        0.722222   \n",
       "1         0.532222         0.000556        0.013889        0.638889   \n",
       "2         0.562222         0.002222        0.000000        0.500000   \n",
       "3         0.590000         0.005000        0.500000        0.500000   \n",
       "4         0.615556         0.008889        0.347222        0.638889   \n",
       "\n",
       "   dayofweek_sp_2  \n",
       "0        0.222222  \n",
       "1        0.347222  \n",
       "2        0.500000  \n",
       "3        0.000000  \n",
       "4        0.013889  \n",
       "\n",
       "[5 rows x 131 columns]"
      ]
     },
     "execution_count": 12,
     "metadata": {},
     "output_type": "execute_result"
    }
   ],
   "source": [
    "spline1 = SplineTransformer(degree=2, n_knots=2)\n",
    "\n",
    "df = pd.concat([df, pd.DataFrame(spline1.fit_transform(df[[\"dayofyear\"]]), columns=spline1.get_feature_names_out())], axis=1)\n",
    "\n",
    "spline2 = SplineTransformer(degree=2, n_knots=2)\n",
    "\n",
    "df = pd.concat([df, pd.DataFrame(spline2.fit_transform(df[[\"dayofmonth\"]]), columns=spline2.get_feature_names_out())], axis=1)\n",
    "\n",
    "spline3 = SplineTransformer(degree=2, n_knots=2)\n",
    "\n",
    "df = pd.concat([df, pd.DataFrame(spline3.fit_transform(df[[\"dayofweek\"]]), columns=spline3.get_feature_names_out())], axis=1)\n",
    "\n",
    "df.head()"
   ]
  },
  {
   "cell_type": "markdown",
   "id": "63bccc7c",
   "metadata": {
    "id": "Kz-jJiGQ0Hp3",
    "papermill": {
     "duration": 0.018324,
     "end_time": "2024-05-13T15:45:20.809869",
     "exception": false,
     "start_time": "2024-05-13T15:45:20.791545",
     "status": "completed"
    },
    "tags": []
   },
   "source": [
    "## Handling Outliers"
   ]
  },
  {
   "cell_type": "code",
   "execution_count": 13,
   "id": "0a4a1006",
   "metadata": {
    "execution": {
     "iopub.execute_input": "2024-05-13T15:45:20.848467Z",
     "iopub.status.busy": "2024-05-13T15:45:20.848097Z",
     "iopub.status.idle": "2024-05-13T15:45:21.731062Z",
     "shell.execute_reply": "2024-05-13T15:45:21.730020Z"
    },
    "executionInfo": {
     "elapsed": 629,
     "status": "ok",
     "timestamp": 1715283174429,
     "user": {
      "displayName": "Sercan Yeşilöz",
      "userId": "06148202317870201469"
     },
     "user_tz": -180
    },
    "id": "ev3mSqhVz1AO",
    "outputId": "bc20731f-b913-4004-dc92-099b9bb4532c",
    "papermill": {
     "duration": 0.905483,
     "end_time": "2024-05-13T15:45:21.733709",
     "exception": false,
     "start_time": "2024-05-13T15:45:20.828226",
     "status": "completed"
    },
    "tags": []
   },
   "outputs": [
    {
     "data": {
      "text/html": [
       "<div>\n",
       "<style scoped>\n",
       "    .dataframe tbody tr th:only-of-type {\n",
       "        vertical-align: middle;\n",
       "    }\n",
       "\n",
       "    .dataframe tbody tr th {\n",
       "        vertical-align: top;\n",
       "    }\n",
       "\n",
       "    .dataframe thead th {\n",
       "        text-align: right;\n",
       "    }\n",
       "</style>\n",
       "<table border=\"1\" class=\"dataframe\">\n",
       "  <thead>\n",
       "    <tr style=\"text-align: right;\">\n",
       "      <th></th>\n",
       "      <th>date</th>\n",
       "      <th>ilce</th>\n",
       "      <th>bildirimsiz_sum_fixed</th>\n",
       "    </tr>\n",
       "  </thead>\n",
       "  <tbody>\n",
       "    <tr>\n",
       "      <th>47526</th>\n",
       "      <td>2021-01-05</td>\n",
       "      <td>ahmetli</td>\n",
       "      <td>2.0</td>\n",
       "    </tr>\n",
       "    <tr>\n",
       "      <th>47527</th>\n",
       "      <td>2021-01-06</td>\n",
       "      <td>ahmetli</td>\n",
       "      <td>1.0</td>\n",
       "    </tr>\n",
       "    <tr>\n",
       "      <th>47528</th>\n",
       "      <td>2021-01-07</td>\n",
       "      <td>ahmetli</td>\n",
       "      <td>2.0</td>\n",
       "    </tr>\n",
       "    <tr>\n",
       "      <th>47529</th>\n",
       "      <td>2021-01-09</td>\n",
       "      <td>ahmetli</td>\n",
       "      <td>1.0</td>\n",
       "    </tr>\n",
       "    <tr>\n",
       "      <th>47530</th>\n",
       "      <td>2021-01-10</td>\n",
       "      <td>ahmetli</td>\n",
       "      <td>2.0</td>\n",
       "    </tr>\n",
       "  </tbody>\n",
       "</table>\n",
       "</div>"
      ],
      "text/plain": [
       "            date     ilce  bildirimsiz_sum_fixed\n",
       "47526 2021-01-05  ahmetli                    2.0\n",
       "47527 2021-01-06  ahmetli                    1.0\n",
       "47528 2021-01-07  ahmetli                    2.0\n",
       "47529 2021-01-09  ahmetli                    1.0\n",
       "47530 2021-01-10  ahmetli                    2.0"
      ]
     },
     "execution_count": 13,
     "metadata": {},
     "output_type": "execute_result"
    }
   ],
   "source": [
    "ilce_df_all = pd.DataFrame()\n",
    "for ilce in sorted(df[\"ilce\"].unique()):\n",
    "    ilce_df = df.loc[df[\"ilce\"] == ilce, [\"date\", \"bildirimsiz_sum\"]].sort_values(\"date\", ascending=True).dropna()\n",
    "\n",
    "    q3 = ilce_df[\"bildirimsiz_sum\"].quantile(0.9)\n",
    "    q1 = ilce_df[\"bildirimsiz_sum\"].quantile(0.1)\n",
    "    iqr = q3 -  q1\n",
    "    upper_limit = q3 + 1.5 * iqr\n",
    "\n",
    "    ilce_df[\"is_anomaly\"] = np.nan\n",
    "    ilce_df[\"bildirimsiz_sum_fixed\"] = ilce_df[\"bildirimsiz_sum\"]\n",
    "    ilce_df.loc[ilce_df[\"bildirimsiz_sum_fixed\"] > upper_limit, \"is_anomaly\"] = 1\n",
    "    ilce_df.loc[ilce_df[\"bildirimsiz_sum_fixed\"] > upper_limit, \"bildirimsiz_sum_fixed\"] = upper_limit\n",
    "    ilce_df[\"is_anomaly\"] = ilce_df[\"is_anomaly\"].fillna(0)\n",
    "    ilce_df.loc[ilce_df[\"is_anomaly\"] == 1, \"bildirimsiz_sum_fixed\"] = ilce_df.loc[ilce_df[\"is_anomaly\"] == 1, \"bildirimsiz_sum\"] * 0.38 + ilce_df.loc[ilce_df[\"is_anomaly\"] == 1, \"bildirimsiz_sum_fixed\"] * 0.62\n",
    "    ilce_df[\"ilce\"] = ilce\n",
    "\n",
    "    #plt.figure(figsize=(10, 4))\n",
    "    #sns.lineplot(data=ilce_df, x=\"date\", y=\"bildirimsiz_sum\", color=\"royalblue\")\n",
    "    #sns.lineplot(data=ilce_df, x=\"date\", y=\"bildirimsiz_sum_fixed\", color=\"darkorange\")\n",
    "    #plt.title(f\"ilce: {ilce}\")\n",
    "    #plt.show()\n",
    "\n",
    "    ilce_df_all = pd.concat([ilce_df_all, ilce_df[[\"date\", \"ilce\", \"bildirimsiz_sum_fixed\"]]], axis=0)\n",
    "ilce_df_all.head()"
   ]
  },
  {
   "cell_type": "code",
   "execution_count": 14,
   "id": "c4777edf",
   "metadata": {
    "execution": {
     "iopub.execute_input": "2024-05-13T15:45:21.774116Z",
     "iopub.status.busy": "2024-05-13T15:45:21.773643Z",
     "iopub.status.idle": "2024-05-13T15:45:21.878989Z",
     "shell.execute_reply": "2024-05-13T15:45:21.877737Z"
    },
    "executionInfo": {
     "elapsed": 13,
     "status": "ok",
     "timestamp": 1715283174430,
     "user": {
      "displayName": "Sercan Yeşilöz",
      "userId": "06148202317870201469"
     },
     "user_tz": -180
    },
    "id": "TAfx8tx90Jmf",
    "outputId": "30fbffad-ba1d-4e8f-c840-52f64d4e8760",
    "papermill": {
     "duration": 0.128504,
     "end_time": "2024-05-13T15:45:21.881294",
     "exception": false,
     "start_time": "2024-05-13T15:45:21.752790",
     "status": "completed"
    },
    "tags": []
   },
   "outputs": [
    {
     "data": {
      "text/html": [
       "<div>\n",
       "<style scoped>\n",
       "    .dataframe tbody tr th:only-of-type {\n",
       "        vertical-align: middle;\n",
       "    }\n",
       "\n",
       "    .dataframe tbody tr th {\n",
       "        vertical-align: top;\n",
       "    }\n",
       "\n",
       "    .dataframe thead th {\n",
       "        text-align: right;\n",
       "    }\n",
       "</style>\n",
       "<table border=\"1\" class=\"dataframe\">\n",
       "  <thead>\n",
       "    <tr style=\"text-align: right;\">\n",
       "      <th></th>\n",
       "      <th>date</th>\n",
       "      <th>ilce</th>\n",
       "      <th>bildirimsiz_sum</th>\n",
       "      <th>bildirimli_sum</th>\n",
       "      <th>sehir</th>\n",
       "      <th>t_2m:C_mean</th>\n",
       "      <th>t_2m:C_max</th>\n",
       "      <th>t_2m:C_min</th>\n",
       "      <th>t_2m:C_std</th>\n",
       "      <th>effective_cloud_cover:p_mean</th>\n",
       "      <th>...</th>\n",
       "      <th>dayofyear_sp_0</th>\n",
       "      <th>dayofyear_sp_1</th>\n",
       "      <th>dayofyear_sp_2</th>\n",
       "      <th>dayofmonth_sp_0</th>\n",
       "      <th>dayofmonth_sp_1</th>\n",
       "      <th>dayofmonth_sp_2</th>\n",
       "      <th>dayofweek_sp_0</th>\n",
       "      <th>dayofweek_sp_1</th>\n",
       "      <th>dayofweek_sp_2</th>\n",
       "      <th>bildirimsiz_sum_fixed</th>\n",
       "    </tr>\n",
       "  </thead>\n",
       "  <tbody>\n",
       "    <tr>\n",
       "      <th>0</th>\n",
       "      <td>2021-01-01</td>\n",
       "      <td>aliaga</td>\n",
       "      <td>5.0</td>\n",
       "      <td>0</td>\n",
       "      <td>izmir</td>\n",
       "      <td>13.275000</td>\n",
       "      <td>15.8</td>\n",
       "      <td>11.3</td>\n",
       "      <td>1.305923</td>\n",
       "      <td>55.045833</td>\n",
       "      <td>...</td>\n",
       "      <td>0.500000</td>\n",
       "      <td>0.500000</td>\n",
       "      <td>0.000000</td>\n",
       "      <td>0.500000</td>\n",
       "      <td>0.500000</td>\n",
       "      <td>0.000000</td>\n",
       "      <td>0.055556</td>\n",
       "      <td>0.722222</td>\n",
       "      <td>0.222222</td>\n",
       "      <td>5.0</td>\n",
       "    </tr>\n",
       "    <tr>\n",
       "      <th>1</th>\n",
       "      <td>2021-01-02</td>\n",
       "      <td>aliaga</td>\n",
       "      <td>13.0</td>\n",
       "      <td>0</td>\n",
       "      <td>izmir</td>\n",
       "      <td>12.870833</td>\n",
       "      <td>17.2</td>\n",
       "      <td>10.6</td>\n",
       "      <td>2.377883</td>\n",
       "      <td>36.125000</td>\n",
       "      <td>...</td>\n",
       "      <td>0.497257</td>\n",
       "      <td>0.502740</td>\n",
       "      <td>0.000004</td>\n",
       "      <td>0.467222</td>\n",
       "      <td>0.532222</td>\n",
       "      <td>0.000556</td>\n",
       "      <td>0.013889</td>\n",
       "      <td>0.638889</td>\n",
       "      <td>0.347222</td>\n",
       "      <td>13.0</td>\n",
       "    </tr>\n",
       "    <tr>\n",
       "      <th>2</th>\n",
       "      <td>2021-01-03</td>\n",
       "      <td>aliaga</td>\n",
       "      <td>4.0</td>\n",
       "      <td>0</td>\n",
       "      <td>izmir</td>\n",
       "      <td>12.633333</td>\n",
       "      <td>15.9</td>\n",
       "      <td>11.1</td>\n",
       "      <td>1.351864</td>\n",
       "      <td>64.870833</td>\n",
       "      <td>...</td>\n",
       "      <td>0.494521</td>\n",
       "      <td>0.505464</td>\n",
       "      <td>0.000015</td>\n",
       "      <td>0.435556</td>\n",
       "      <td>0.562222</td>\n",
       "      <td>0.002222</td>\n",
       "      <td>0.000000</td>\n",
       "      <td>0.500000</td>\n",
       "      <td>0.500000</td>\n",
       "      <td>4.0</td>\n",
       "    </tr>\n",
       "    <tr>\n",
       "      <th>3</th>\n",
       "      <td>2021-01-04</td>\n",
       "      <td>aliaga</td>\n",
       "      <td>9.0</td>\n",
       "      <td>0</td>\n",
       "      <td>izmir</td>\n",
       "      <td>13.733333</td>\n",
       "      <td>17.0</td>\n",
       "      <td>11.0</td>\n",
       "      <td>2.388317</td>\n",
       "      <td>47.783333</td>\n",
       "      <td>...</td>\n",
       "      <td>0.491792</td>\n",
       "      <td>0.508174</td>\n",
       "      <td>0.000034</td>\n",
       "      <td>0.405000</td>\n",
       "      <td>0.590000</td>\n",
       "      <td>0.005000</td>\n",
       "      <td>0.500000</td>\n",
       "      <td>0.500000</td>\n",
       "      <td>0.000000</td>\n",
       "      <td>9.0</td>\n",
       "    </tr>\n",
       "    <tr>\n",
       "      <th>4</th>\n",
       "      <td>2021-01-05</td>\n",
       "      <td>aliaga</td>\n",
       "      <td>2.0</td>\n",
       "      <td>0</td>\n",
       "      <td>izmir</td>\n",
       "      <td>14.375000</td>\n",
       "      <td>16.8</td>\n",
       "      <td>12.2</td>\n",
       "      <td>1.522655</td>\n",
       "      <td>30.379167</td>\n",
       "      <td>...</td>\n",
       "      <td>0.489071</td>\n",
       "      <td>0.510868</td>\n",
       "      <td>0.000060</td>\n",
       "      <td>0.375556</td>\n",
       "      <td>0.615556</td>\n",
       "      <td>0.008889</td>\n",
       "      <td>0.347222</td>\n",
       "      <td>0.638889</td>\n",
       "      <td>0.013889</td>\n",
       "      <td>2.0</td>\n",
       "    </tr>\n",
       "  </tbody>\n",
       "</table>\n",
       "<p>5 rows × 132 columns</p>\n",
       "</div>"
      ],
      "text/plain": [
       "        date    ilce  bildirimsiz_sum  bildirimli_sum  sehir  t_2m:C_mean  \\\n",
       "0 2021-01-01  aliaga              5.0               0  izmir    13.275000   \n",
       "1 2021-01-02  aliaga             13.0               0  izmir    12.870833   \n",
       "2 2021-01-03  aliaga              4.0               0  izmir    12.633333   \n",
       "3 2021-01-04  aliaga              9.0               0  izmir    13.733333   \n",
       "4 2021-01-05  aliaga              2.0               0  izmir    14.375000   \n",
       "\n",
       "   t_2m:C_max  t_2m:C_min  t_2m:C_std  effective_cloud_cover:p_mean  ...  \\\n",
       "0        15.8        11.3    1.305923                     55.045833  ...   \n",
       "1        17.2        10.6    2.377883                     36.125000  ...   \n",
       "2        15.9        11.1    1.351864                     64.870833  ...   \n",
       "3        17.0        11.0    2.388317                     47.783333  ...   \n",
       "4        16.8        12.2    1.522655                     30.379167  ...   \n",
       "\n",
       "   dayofyear_sp_0  dayofyear_sp_1  dayofyear_sp_2  dayofmonth_sp_0  \\\n",
       "0        0.500000        0.500000        0.000000         0.500000   \n",
       "1        0.497257        0.502740        0.000004         0.467222   \n",
       "2        0.494521        0.505464        0.000015         0.435556   \n",
       "3        0.491792        0.508174        0.000034         0.405000   \n",
       "4        0.489071        0.510868        0.000060         0.375556   \n",
       "\n",
       "   dayofmonth_sp_1  dayofmonth_sp_2  dayofweek_sp_0  dayofweek_sp_1  \\\n",
       "0         0.500000         0.000000        0.055556        0.722222   \n",
       "1         0.532222         0.000556        0.013889        0.638889   \n",
       "2         0.562222         0.002222        0.000000        0.500000   \n",
       "3         0.590000         0.005000        0.500000        0.500000   \n",
       "4         0.615556         0.008889        0.347222        0.638889   \n",
       "\n",
       "   dayofweek_sp_2  bildirimsiz_sum_fixed  \n",
       "0        0.222222                    5.0  \n",
       "1        0.347222                   13.0  \n",
       "2        0.500000                    4.0  \n",
       "3        0.000000                    9.0  \n",
       "4        0.013889                    2.0  \n",
       "\n",
       "[5 rows x 132 columns]"
      ]
     },
     "execution_count": 14,
     "metadata": {},
     "output_type": "execute_result"
    }
   ],
   "source": [
    "df = df.merge(ilce_df_all, on=[\"date\", \"ilce\"], how=\"left\")\n",
    "\n",
    "df.head()"
   ]
  },
  {
   "cell_type": "markdown",
   "id": "f99a727f",
   "metadata": {
    "id": "MCmYWFUI0NIV",
    "papermill": {
     "duration": 0.019023,
     "end_time": "2024-05-13T15:45:21.920225",
     "exception": false,
     "start_time": "2024-05-13T15:45:21.901202",
     "status": "completed"
    },
    "tags": []
   },
   "source": [
    "## Modelling"
   ]
  },
  {
   "cell_type": "code",
   "execution_count": 15,
   "id": "4ad7602b",
   "metadata": {
    "execution": {
     "iopub.execute_input": "2024-05-13T15:45:21.961410Z",
     "iopub.status.busy": "2024-05-13T15:45:21.960216Z",
     "iopub.status.idle": "2024-05-13T15:45:22.153505Z",
     "shell.execute_reply": "2024-05-13T15:45:22.152613Z"
    },
    "executionInfo": {
     "elapsed": 599,
     "status": "ok",
     "timestamp": 1715283175018,
     "user": {
      "displayName": "Sercan Yeşilöz",
      "userId": "06148202317870201469"
     },
     "user_tz": -180
    },
    "id": "3LA327Lh0Jku",
    "papermill": {
     "duration": 0.216013,
     "end_time": "2024-05-13T15:45:22.156013",
     "exception": false,
     "start_time": "2024-05-13T15:45:21.940000",
     "status": "completed"
    },
    "tags": []
   },
   "outputs": [],
   "source": [
    "target = \"bildirimsiz_sum_fixed\"\n",
    "drop_cols = [\"date\", \"sample_weight\", \"lat\", \"lon\", \"bildirimsiz_sum\"]\n",
    "cat_cols = [\"ilce\", \"sehir\", \"year\", \"season\"]\n",
    "\n",
    "for col in cat_cols:\n",
    "    df[col] = df[col].astype(str).astype(\"category\")\n",
    "\n",
    "df = fix_col_names(df)\n",
    "sample_weight = df[\"sample_weight\"]\n",
    "\n",
    "X = df.loc[df[target].notnull()].drop(columns = drop_cols + [target], axis=1)\n",
    "y = df.loc[df[target].notnull(), target]\n",
    "X_test = df.loc[df[target].isnull()].drop(columns = drop_cols + [target], axis=1)\n",
    "\n",
    "test_date = df.loc[df[target].isnull(), \"date\"]\n",
    "test_ilce = df.loc[df[target].isnull(), \"ilce\"]"
   ]
  },
  {
   "cell_type": "markdown",
   "id": "6b87c801",
   "metadata": {
    "id": "TXWu9DKe1a70",
    "papermill": {
     "duration": 0.019515,
     "end_time": "2024-05-13T15:45:22.255012",
     "exception": false,
     "start_time": "2024-05-13T15:45:22.235497",
     "status": "completed"
    },
    "tags": []
   },
   "source": [
    "## Prophet"
   ]
  },
  {
   "cell_type": "code",
   "execution_count": 16,
   "id": "ec58e98d",
   "metadata": {
    "execution": {
     "iopub.execute_input": "2024-05-13T15:45:22.297537Z",
     "iopub.status.busy": "2024-05-13T15:45:22.296836Z",
     "iopub.status.idle": "2024-05-13T15:46:32.411764Z",
     "shell.execute_reply": "2024-05-13T15:46:32.410438Z"
    },
    "executionInfo": {
     "elapsed": 34607,
     "status": "ok",
     "timestamp": 1715283209620,
     "user": {
      "displayName": "Sercan Yeşilöz",
      "userId": "06148202317870201469"
     },
     "user_tz": -180
    },
    "id": "-HM89lBE1bO0",
    "outputId": "6c32facf-e932-4ade-c75d-706d369a628e",
    "papermill": {
     "duration": 70.139624,
     "end_time": "2024-05-13T15:46:32.414621",
     "exception": false,
     "start_time": "2024-05-13T15:45:22.274997",
     "status": "completed"
    },
    "tags": []
   },
   "outputs": [
    {
     "name": "stdout",
     "output_type": "stream",
     "text": [
      "ilce: ahmetli\n",
      "train: (622, 3)\n",
      "test: (29, 3)\n",
      "val: (32, 3)\n"
     ]
    },
    {
     "name": "stderr",
     "output_type": "stream",
     "text": [
      "15:45:22 - cmdstanpy - INFO - Chain [1] start processing\n",
      "15:45:22 - cmdstanpy - INFO - Chain [1] done processing\n",
      "15:45:23 - cmdstanpy - INFO - Chain [1] start processing\n",
      "15:45:23 - cmdstanpy - INFO - Chain [1] done processing\n"
     ]
    },
    {
     "name": "stdout",
     "output_type": "stream",
     "text": [
      "val mae: 0.80535\n"
     ]
    },
    {
     "name": "stderr",
     "output_type": "stream",
     "text": [
      "15:45:24 - cmdstanpy - INFO - Chain [1] start processing\n"
     ]
    },
    {
     "name": "stdout",
     "output_type": "stream",
     "text": [
      "============================================================\n",
      "ilce: akhisar\n",
      "train: (1126, 3)\n",
      "test: (29, 3)\n",
      "val: (57, 3)\n"
     ]
    },
    {
     "name": "stderr",
     "output_type": "stream",
     "text": [
      "15:45:24 - cmdstanpy - INFO - Chain [1] done processing\n",
      "15:45:24 - cmdstanpy - INFO - Chain [1] start processing\n"
     ]
    },
    {
     "name": "stdout",
     "output_type": "stream",
     "text": [
      "val mae: 3.28220\n"
     ]
    },
    {
     "name": "stderr",
     "output_type": "stream",
     "text": [
      "15:45:24 - cmdstanpy - INFO - Chain [1] done processing\n",
      "15:45:25 - cmdstanpy - INFO - Chain [1] start processing\n"
     ]
    },
    {
     "name": "stdout",
     "output_type": "stream",
     "text": [
      "============================================================\n",
      "ilce: alasehir\n",
      "train: (1119, 3)\n",
      "test: (29, 3)\n",
      "val: (56, 3)\n"
     ]
    },
    {
     "name": "stderr",
     "output_type": "stream",
     "text": [
      "15:45:25 - cmdstanpy - INFO - Chain [1] done processing\n",
      "15:45:26 - cmdstanpy - INFO - Chain [1] start processing\n"
     ]
    },
    {
     "name": "stdout",
     "output_type": "stream",
     "text": [
      "val mae: 3.19489\n"
     ]
    },
    {
     "name": "stderr",
     "output_type": "stream",
     "text": [
      "15:45:26 - cmdstanpy - INFO - Chain [1] done processing\n",
      "15:45:26 - cmdstanpy - INFO - Chain [1] start processing\n"
     ]
    },
    {
     "name": "stdout",
     "output_type": "stream",
     "text": [
      "============================================================\n",
      "ilce: aliaga\n",
      "train: (1106, 3)\n",
      "test: (29, 3)\n",
      "val: (56, 3)\n"
     ]
    },
    {
     "name": "stderr",
     "output_type": "stream",
     "text": [
      "15:45:27 - cmdstanpy - INFO - Chain [1] done processing\n",
      "15:45:27 - cmdstanpy - INFO - Chain [1] start processing\n"
     ]
    },
    {
     "name": "stdout",
     "output_type": "stream",
     "text": [
      "val mae: 3.15747\n"
     ]
    },
    {
     "name": "stderr",
     "output_type": "stream",
     "text": [
      "15:45:27 - cmdstanpy - INFO - Chain [1] done processing\n",
      "15:45:28 - cmdstanpy - INFO - Chain [1] start processing\n",
      "15:45:28 - cmdstanpy - INFO - Chain [1] done processing\n"
     ]
    },
    {
     "name": "stdout",
     "output_type": "stream",
     "text": [
      "============================================================\n",
      "ilce: balcova\n",
      "train: (698, 3)\n",
      "test: (29, 3)\n",
      "val: (35, 3)\n"
     ]
    },
    {
     "name": "stderr",
     "output_type": "stream",
     "text": [
      "15:45:29 - cmdstanpy - INFO - Chain [1] start processing\n"
     ]
    },
    {
     "name": "stdout",
     "output_type": "stream",
     "text": [
      "val mae: 0.84930\n"
     ]
    },
    {
     "name": "stderr",
     "output_type": "stream",
     "text": [
      "15:45:29 - cmdstanpy - INFO - Chain [1] done processing\n",
      "15:45:29 - cmdstanpy - INFO - Chain [1] start processing\n"
     ]
    },
    {
     "name": "stdout",
     "output_type": "stream",
     "text": [
      "============================================================\n",
      "ilce: bayindir\n",
      "train: (1105, 3)\n",
      "test: (29, 3)\n",
      "val: (56, 3)\n"
     ]
    },
    {
     "name": "stderr",
     "output_type": "stream",
     "text": [
      "15:45:30 - cmdstanpy - INFO - Chain [1] done processing\n",
      "15:45:30 - cmdstanpy - INFO - Chain [1] start processing\n"
     ]
    },
    {
     "name": "stdout",
     "output_type": "stream",
     "text": [
      "val mae: 1.83506\n"
     ]
    },
    {
     "name": "stderr",
     "output_type": "stream",
     "text": [
      "15:45:30 - cmdstanpy - INFO - Chain [1] done processing\n",
      "15:45:31 - cmdstanpy - INFO - Chain [1] start processing\n"
     ]
    },
    {
     "name": "stdout",
     "output_type": "stream",
     "text": [
      "============================================================\n",
      "ilce: bayrakli\n",
      "train: (1086, 3)\n",
      "test: (29, 3)\n",
      "val: (55, 3)\n"
     ]
    },
    {
     "name": "stderr",
     "output_type": "stream",
     "text": [
      "15:45:31 - cmdstanpy - INFO - Chain [1] done processing\n",
      "15:45:32 - cmdstanpy - INFO - Chain [1] start processing\n"
     ]
    },
    {
     "name": "stdout",
     "output_type": "stream",
     "text": [
      "val mae: 2.45256\n"
     ]
    },
    {
     "name": "stderr",
     "output_type": "stream",
     "text": [
      "15:45:32 - cmdstanpy - INFO - Chain [1] done processing\n",
      "15:45:32 - cmdstanpy - INFO - Chain [1] start processing\n"
     ]
    },
    {
     "name": "stdout",
     "output_type": "stream",
     "text": [
      "============================================================\n",
      "ilce: bergama\n",
      "train: (1120, 3)\n",
      "test: (29, 3)\n",
      "val: (56, 3)\n"
     ]
    },
    {
     "name": "stderr",
     "output_type": "stream",
     "text": [
      "15:45:32 - cmdstanpy - INFO - Chain [1] done processing\n",
      "15:45:33 - cmdstanpy - INFO - Chain [1] start processing\n"
     ]
    },
    {
     "name": "stdout",
     "output_type": "stream",
     "text": [
      "val mae: 3.88946\n"
     ]
    },
    {
     "name": "stderr",
     "output_type": "stream",
     "text": [
      "15:45:33 - cmdstanpy - INFO - Chain [1] done processing\n",
      "15:45:34 - cmdstanpy - INFO - Chain [1] start processing\n",
      "15:45:34 - cmdstanpy - INFO - Chain [1] done processing\n"
     ]
    },
    {
     "name": "stdout",
     "output_type": "stream",
     "text": [
      "============================================================\n",
      "ilce: beydag\n",
      "train: (673, 3)\n",
      "test: (29, 3)\n",
      "val: (34, 3)\n"
     ]
    },
    {
     "name": "stderr",
     "output_type": "stream",
     "text": [
      "15:45:34 - cmdstanpy - INFO - Chain [1] start processing\n",
      "15:45:34 - cmdstanpy - INFO - Chain [1] done processing\n"
     ]
    },
    {
     "name": "stdout",
     "output_type": "stream",
     "text": [
      "val mae: 1.92022\n"
     ]
    },
    {
     "name": "stderr",
     "output_type": "stream",
     "text": [
      "15:45:35 - cmdstanpy - INFO - Chain [1] start processing\n"
     ]
    },
    {
     "name": "stdout",
     "output_type": "stream",
     "text": [
      "============================================================\n",
      "ilce: bornova\n",
      "train: (1124, 3)\n",
      "test: (29, 3)\n",
      "val: (57, 3)\n"
     ]
    },
    {
     "name": "stderr",
     "output_type": "stream",
     "text": [
      "15:45:35 - cmdstanpy - INFO - Chain [1] done processing\n",
      "15:45:36 - cmdstanpy - INFO - Chain [1] start processing\n"
     ]
    },
    {
     "name": "stdout",
     "output_type": "stream",
     "text": [
      "val mae: 3.95138\n"
     ]
    },
    {
     "name": "stderr",
     "output_type": "stream",
     "text": [
      "15:45:36 - cmdstanpy - INFO - Chain [1] done processing\n",
      "15:45:37 - cmdstanpy - INFO - Chain [1] start processing\n"
     ]
    },
    {
     "name": "stdout",
     "output_type": "stream",
     "text": [
      "============================================================\n",
      "ilce: buca\n",
      "train: (1115, 3)\n",
      "test: (29, 3)\n",
      "val: (56, 3)\n"
     ]
    },
    {
     "name": "stderr",
     "output_type": "stream",
     "text": [
      "15:45:37 - cmdstanpy - INFO - Chain [1] done processing\n",
      "15:45:37 - cmdstanpy - INFO - Chain [1] start processing\n"
     ]
    },
    {
     "name": "stdout",
     "output_type": "stream",
     "text": [
      "val mae: 3.58607\n"
     ]
    },
    {
     "name": "stderr",
     "output_type": "stream",
     "text": [
      "15:45:38 - cmdstanpy - INFO - Chain [1] done processing\n",
      "15:45:38 - cmdstanpy - INFO - Chain [1] start processing\n"
     ]
    },
    {
     "name": "stdout",
     "output_type": "stream",
     "text": [
      "============================================================\n",
      "ilce: cesme\n",
      "train: (1125, 3)\n",
      "test: (29, 3)\n",
      "val: (57, 3)\n"
     ]
    },
    {
     "name": "stderr",
     "output_type": "stream",
     "text": [
      "15:45:38 - cmdstanpy - INFO - Chain [1] done processing\n",
      "15:45:39 - cmdstanpy - INFO - Chain [1] start processing\n"
     ]
    },
    {
     "name": "stdout",
     "output_type": "stream",
     "text": [
      "val mae: 3.87174\n"
     ]
    },
    {
     "name": "stderr",
     "output_type": "stream",
     "text": [
      "15:45:39 - cmdstanpy - INFO - Chain [1] done processing\n",
      "15:45:40 - cmdstanpy - INFO - Chain [1] start processing\n"
     ]
    },
    {
     "name": "stdout",
     "output_type": "stream",
     "text": [
      "============================================================\n",
      "ilce: cigli\n",
      "train: (1071, 3)\n",
      "test: (29, 3)\n",
      "val: (54, 3)\n"
     ]
    },
    {
     "name": "stderr",
     "output_type": "stream",
     "text": [
      "15:45:40 - cmdstanpy - INFO - Chain [1] done processing\n",
      "15:45:40 - cmdstanpy - INFO - Chain [1] start processing\n"
     ]
    },
    {
     "name": "stdout",
     "output_type": "stream",
     "text": [
      "val mae: 2.58718\n"
     ]
    },
    {
     "name": "stderr",
     "output_type": "stream",
     "text": [
      "15:45:40 - cmdstanpy - INFO - Chain [1] done processing\n",
      "15:45:41 - cmdstanpy - INFO - Chain [1] start processing\n"
     ]
    },
    {
     "name": "stdout",
     "output_type": "stream",
     "text": [
      "============================================================\n",
      "ilce: demirci\n",
      "train: (938, 3)\n",
      "test: (29, 3)\n",
      "val: (47, 3)\n"
     ]
    },
    {
     "name": "stderr",
     "output_type": "stream",
     "text": [
      "15:45:41 - cmdstanpy - INFO - Chain [1] done processing\n",
      "15:45:42 - cmdstanpy - INFO - Chain [1] start processing\n"
     ]
    },
    {
     "name": "stdout",
     "output_type": "stream",
     "text": [
      "val mae: 1.66820\n"
     ]
    },
    {
     "name": "stderr",
     "output_type": "stream",
     "text": [
      "15:45:42 - cmdstanpy - INFO - Chain [1] done processing\n",
      "15:45:43 - cmdstanpy - INFO - Chain [1] start processing\n"
     ]
    },
    {
     "name": "stdout",
     "output_type": "stream",
     "text": [
      "============================================================\n",
      "ilce: dikili\n",
      "train: (1119, 3)\n",
      "test: (29, 3)\n",
      "val: (56, 3)\n"
     ]
    },
    {
     "name": "stderr",
     "output_type": "stream",
     "text": [
      "15:45:43 - cmdstanpy - INFO - Chain [1] done processing\n",
      "15:45:43 - cmdstanpy - INFO - Chain [1] start processing\n"
     ]
    },
    {
     "name": "stdout",
     "output_type": "stream",
     "text": [
      "val mae: 2.51073\n"
     ]
    },
    {
     "name": "stderr",
     "output_type": "stream",
     "text": [
      "15:45:43 - cmdstanpy - INFO - Chain [1] done processing\n",
      "15:45:44 - cmdstanpy - INFO - Chain [1] start processing\n"
     ]
    },
    {
     "name": "stdout",
     "output_type": "stream",
     "text": [
      "============================================================\n",
      "ilce: foca\n",
      "train: (1086, 3)\n",
      "test: (29, 3)\n",
      "val: (55, 3)\n"
     ]
    },
    {
     "name": "stderr",
     "output_type": "stream",
     "text": [
      "15:45:44 - cmdstanpy - INFO - Chain [1] done processing\n",
      "15:45:45 - cmdstanpy - INFO - Chain [1] start processing\n"
     ]
    },
    {
     "name": "stdout",
     "output_type": "stream",
     "text": [
      "val mae: 2.96104\n"
     ]
    },
    {
     "name": "stderr",
     "output_type": "stream",
     "text": [
      "15:45:45 - cmdstanpy - INFO - Chain [1] done processing\n",
      "15:45:46 - cmdstanpy - INFO - Chain [1] start processing\n",
      "15:45:46 - cmdstanpy - INFO - Chain [1] done processing\n"
     ]
    },
    {
     "name": "stdout",
     "output_type": "stream",
     "text": [
      "============================================================\n",
      "ilce: gaziemir\n",
      "train: (920, 3)\n",
      "test: (29, 3)\n",
      "val: (46, 3)\n"
     ]
    },
    {
     "name": "stderr",
     "output_type": "stream",
     "text": [
      "15:45:46 - cmdstanpy - INFO - Chain [1] start processing\n"
     ]
    },
    {
     "name": "stdout",
     "output_type": "stream",
     "text": [
      "val mae: 1.62332\n"
     ]
    },
    {
     "name": "stderr",
     "output_type": "stream",
     "text": [
      "15:45:46 - cmdstanpy - INFO - Chain [1] done processing\n",
      "15:45:47 - cmdstanpy - INFO - Chain [1] start processing\n",
      "15:45:47 - cmdstanpy - INFO - Chain [1] done processing\n"
     ]
    },
    {
     "name": "stdout",
     "output_type": "stream",
     "text": [
      "============================================================\n",
      "ilce: golmarmara\n",
      "train: (566, 3)\n",
      "test: (29, 3)\n",
      "val: (29, 3)\n"
     ]
    },
    {
     "name": "stderr",
     "output_type": "stream",
     "text": [
      "15:45:48 - cmdstanpy - INFO - Chain [1] start processing\n",
      "15:45:48 - cmdstanpy - INFO - Chain [1] done processing\n"
     ]
    },
    {
     "name": "stdout",
     "output_type": "stream",
     "text": [
      "val mae: 0.45545\n"
     ]
    },
    {
     "name": "stderr",
     "output_type": "stream",
     "text": [
      "15:45:49 - cmdstanpy - INFO - Chain [1] start processing\n"
     ]
    },
    {
     "name": "stdout",
     "output_type": "stream",
     "text": [
      "============================================================\n",
      "ilce: gordes\n",
      "train: (1059, 3)\n",
      "test: (29, 3)\n",
      "val: (53, 3)\n"
     ]
    },
    {
     "name": "stderr",
     "output_type": "stream",
     "text": [
      "15:45:49 - cmdstanpy - INFO - Chain [1] done processing\n",
      "15:45:49 - cmdstanpy - INFO - Chain [1] start processing\n"
     ]
    },
    {
     "name": "stdout",
     "output_type": "stream",
     "text": [
      "val mae: 1.90843\n"
     ]
    },
    {
     "name": "stderr",
     "output_type": "stream",
     "text": [
      "15:45:49 - cmdstanpy - INFO - Chain [1] done processing\n",
      "15:45:50 - cmdstanpy - INFO - Chain [1] start processing\n"
     ]
    },
    {
     "name": "stdout",
     "output_type": "stream",
     "text": [
      "============================================================\n",
      "ilce: guzelbahce\n",
      "train: (856, 3)\n",
      "test: (29, 3)\n",
      "val: (43, 3)\n"
     ]
    },
    {
     "name": "stderr",
     "output_type": "stream",
     "text": [
      "15:45:50 - cmdstanpy - INFO - Chain [1] done processing\n",
      "15:45:51 - cmdstanpy - INFO - Chain [1] start processing\n"
     ]
    },
    {
     "name": "stdout",
     "output_type": "stream",
     "text": [
      "val mae: 1.53591\n"
     ]
    },
    {
     "name": "stderr",
     "output_type": "stream",
     "text": [
      "15:45:51 - cmdstanpy - INFO - Chain [1] done processing\n",
      "15:45:51 - cmdstanpy - INFO - Chain [1] start processing\n"
     ]
    },
    {
     "name": "stdout",
     "output_type": "stream",
     "text": [
      "============================================================\n",
      "ilce: karabaglar\n",
      "train: (1100, 3)\n",
      "test: (29, 3)\n",
      "val: (55, 3)\n"
     ]
    },
    {
     "name": "stderr",
     "output_type": "stream",
     "text": [
      "15:45:52 - cmdstanpy - INFO - Chain [1] done processing\n",
      "15:45:52 - cmdstanpy - INFO - Chain [1] start processing\n"
     ]
    },
    {
     "name": "stdout",
     "output_type": "stream",
     "text": [
      "val mae: 3.00573\n"
     ]
    },
    {
     "name": "stderr",
     "output_type": "stream",
     "text": [
      "15:45:52 - cmdstanpy - INFO - Chain [1] done processing\n",
      "15:45:53 - cmdstanpy - INFO - Chain [1] start processing\n"
     ]
    },
    {
     "name": "stdout",
     "output_type": "stream",
     "text": [
      "============================================================\n",
      "ilce: karaburun\n",
      "train: (1089, 3)\n",
      "test: (29, 3)\n",
      "val: (55, 3)\n"
     ]
    },
    {
     "name": "stderr",
     "output_type": "stream",
     "text": [
      "15:45:53 - cmdstanpy - INFO - Chain [1] done processing\n",
      "15:45:54 - cmdstanpy - INFO - Chain [1] start processing\n"
     ]
    },
    {
     "name": "stdout",
     "output_type": "stream",
     "text": [
      "val mae: 3.81716\n"
     ]
    },
    {
     "name": "stderr",
     "output_type": "stream",
     "text": [
      "15:45:54 - cmdstanpy - INFO - Chain [1] done processing\n",
      "15:45:55 - cmdstanpy - INFO - Chain [1] start processing\n"
     ]
    },
    {
     "name": "stdout",
     "output_type": "stream",
     "text": [
      "============================================================\n",
      "ilce: karsiyaka\n",
      "train: (1085, 3)\n",
      "test: (29, 3)\n",
      "val: (55, 3)\n"
     ]
    },
    {
     "name": "stderr",
     "output_type": "stream",
     "text": [
      "15:45:55 - cmdstanpy - INFO - Chain [1] done processing\n",
      "15:45:55 - cmdstanpy - INFO - Chain [1] start processing\n"
     ]
    },
    {
     "name": "stdout",
     "output_type": "stream",
     "text": [
      "val mae: 3.19459\n"
     ]
    },
    {
     "name": "stderr",
     "output_type": "stream",
     "text": [
      "15:45:55 - cmdstanpy - INFO - Chain [1] done processing\n",
      "15:45:56 - cmdstanpy - INFO - Chain [1] start processing\n"
     ]
    },
    {
     "name": "stdout",
     "output_type": "stream",
     "text": [
      "============================================================\n",
      "ilce: kemalpasa\n",
      "train: (1118, 3)\n",
      "test: (29, 3)\n",
      "val: (56, 3)\n"
     ]
    },
    {
     "name": "stderr",
     "output_type": "stream",
     "text": [
      "15:45:56 - cmdstanpy - INFO - Chain [1] done processing\n",
      "15:45:57 - cmdstanpy - INFO - Chain [1] start processing\n"
     ]
    },
    {
     "name": "stdout",
     "output_type": "stream",
     "text": [
      "val mae: 3.56682\n"
     ]
    },
    {
     "name": "stderr",
     "output_type": "stream",
     "text": [
      "15:45:57 - cmdstanpy - INFO - Chain [1] done processing\n",
      "15:45:57 - cmdstanpy - INFO - Chain [1] start processing\n"
     ]
    },
    {
     "name": "stdout",
     "output_type": "stream",
     "text": [
      "============================================================\n",
      "ilce: kinik\n",
      "train: (914, 3)\n",
      "test: (29, 3)\n",
      "val: (46, 3)\n"
     ]
    },
    {
     "name": "stderr",
     "output_type": "stream",
     "text": [
      "15:45:58 - cmdstanpy - INFO - Chain [1] done processing\n",
      "15:45:58 - cmdstanpy - INFO - Chain [1] start processing\n"
     ]
    },
    {
     "name": "stdout",
     "output_type": "stream",
     "text": [
      "val mae: 1.58566\n"
     ]
    },
    {
     "name": "stderr",
     "output_type": "stream",
     "text": [
      "15:45:58 - cmdstanpy - INFO - Chain [1] done processing\n",
      "15:45:59 - cmdstanpy - INFO - Chain [1] start processing\n"
     ]
    },
    {
     "name": "stdout",
     "output_type": "stream",
     "text": [
      "============================================================\n",
      "ilce: kiraz\n",
      "train: (1097, 3)\n",
      "test: (29, 3)\n",
      "val: (55, 3)\n"
     ]
    },
    {
     "name": "stderr",
     "output_type": "stream",
     "text": [
      "15:45:59 - cmdstanpy - INFO - Chain [1] done processing\n",
      "15:46:00 - cmdstanpy - INFO - Chain [1] start processing\n"
     ]
    },
    {
     "name": "stdout",
     "output_type": "stream",
     "text": [
      "val mae: 3.29581\n"
     ]
    },
    {
     "name": "stderr",
     "output_type": "stream",
     "text": [
      "15:46:00 - cmdstanpy - INFO - Chain [1] done processing\n",
      "15:46:00 - cmdstanpy - INFO - Chain [1] start processing\n",
      "15:46:01 - cmdstanpy - INFO - Chain [1] done processing\n"
     ]
    },
    {
     "name": "stdout",
     "output_type": "stream",
     "text": [
      "============================================================\n",
      "ilce: kirkagac\n",
      "train: (950, 3)\n",
      "test: (29, 3)\n",
      "val: (48, 3)\n"
     ]
    },
    {
     "name": "stderr",
     "output_type": "stream",
     "text": [
      "15:46:01 - cmdstanpy - INFO - Chain [1] start processing\n"
     ]
    },
    {
     "name": "stdout",
     "output_type": "stream",
     "text": [
      "val mae: 1.63961\n"
     ]
    },
    {
     "name": "stderr",
     "output_type": "stream",
     "text": [
      "15:46:01 - cmdstanpy - INFO - Chain [1] done processing\n",
      "15:46:02 - cmdstanpy - INFO - Chain [1] start processing\n"
     ]
    },
    {
     "name": "stdout",
     "output_type": "stream",
     "text": [
      "============================================================\n",
      "ilce: konak\n",
      "train: (1124, 3)\n",
      "test: (29, 3)\n",
      "val: (57, 3)\n"
     ]
    },
    {
     "name": "stderr",
     "output_type": "stream",
     "text": [
      "15:46:02 - cmdstanpy - INFO - Chain [1] done processing\n",
      "15:46:02 - cmdstanpy - INFO - Chain [1] start processing\n"
     ]
    },
    {
     "name": "stdout",
     "output_type": "stream",
     "text": [
      "val mae: 5.56890\n"
     ]
    },
    {
     "name": "stderr",
     "output_type": "stream",
     "text": [
      "15:46:03 - cmdstanpy - INFO - Chain [1] done processing\n",
      "15:46:03 - cmdstanpy - INFO - Chain [1] start processing\n",
      "15:46:03 - cmdstanpy - INFO - Chain [1] done processing\n"
     ]
    },
    {
     "name": "stdout",
     "output_type": "stream",
     "text": [
      "============================================================\n",
      "ilce: koprubasi\n",
      "train: (805, 3)\n",
      "test: (29, 3)\n",
      "val: (41, 3)\n"
     ]
    },
    {
     "name": "stderr",
     "output_type": "stream",
     "text": [
      "15:46:04 - cmdstanpy - INFO - Chain [1] start processing\n",
      "15:46:04 - cmdstanpy - INFO - Chain [1] done processing\n"
     ]
    },
    {
     "name": "stdout",
     "output_type": "stream",
     "text": [
      "val mae: 1.36789\n"
     ]
    },
    {
     "name": "stderr",
     "output_type": "stream",
     "text": [
      "15:46:05 - cmdstanpy - INFO - Chain [1] start processing\n"
     ]
    },
    {
     "name": "stdout",
     "output_type": "stream",
     "text": [
      "============================================================\n",
      "ilce: kula\n",
      "train: (1039, 3)\n",
      "test: (29, 3)\n",
      "val: (52, 3)\n"
     ]
    },
    {
     "name": "stderr",
     "output_type": "stream",
     "text": [
      "15:46:05 - cmdstanpy - INFO - Chain [1] done processing\n",
      "15:46:05 - cmdstanpy - INFO - Chain [1] start processing\n"
     ]
    },
    {
     "name": "stdout",
     "output_type": "stream",
     "text": [
      "val mae: 2.09493\n"
     ]
    },
    {
     "name": "stderr",
     "output_type": "stream",
     "text": [
      "15:46:05 - cmdstanpy - INFO - Chain [1] done processing\n",
      "15:46:06 - cmdstanpy - INFO - Chain [1] start processing\n"
     ]
    },
    {
     "name": "stdout",
     "output_type": "stream",
     "text": [
      "============================================================\n",
      "ilce: menderes\n",
      "train: (1125, 3)\n",
      "test: (29, 3)\n",
      "val: (57, 3)\n"
     ]
    },
    {
     "name": "stderr",
     "output_type": "stream",
     "text": [
      "15:46:06 - cmdstanpy - INFO - Chain [1] done processing\n",
      "15:46:07 - cmdstanpy - INFO - Chain [1] start processing\n"
     ]
    },
    {
     "name": "stdout",
     "output_type": "stream",
     "text": [
      "val mae: 3.02798\n"
     ]
    },
    {
     "name": "stderr",
     "output_type": "stream",
     "text": [
      "15:46:07 - cmdstanpy - INFO - Chain [1] done processing\n",
      "15:46:08 - cmdstanpy - INFO - Chain [1] start processing\n"
     ]
    },
    {
     "name": "stdout",
     "output_type": "stream",
     "text": [
      "============================================================\n",
      "ilce: menemen\n",
      "train: (1119, 3)\n",
      "test: (29, 3)\n",
      "val: (56, 3)\n"
     ]
    },
    {
     "name": "stderr",
     "output_type": "stream",
     "text": [
      "15:46:08 - cmdstanpy - INFO - Chain [1] done processing\n",
      "15:46:08 - cmdstanpy - INFO - Chain [1] start processing\n"
     ]
    },
    {
     "name": "stdout",
     "output_type": "stream",
     "text": [
      "val mae: 3.99588\n"
     ]
    },
    {
     "name": "stderr",
     "output_type": "stream",
     "text": [
      "15:46:08 - cmdstanpy - INFO - Chain [1] done processing\n",
      "15:46:09 - cmdstanpy - INFO - Chain [1] start processing\n"
     ]
    },
    {
     "name": "stdout",
     "output_type": "stream",
     "text": [
      "============================================================\n",
      "ilce: narlidere\n",
      "train: (783, 3)\n",
      "test: (29, 3)\n",
      "val: (40, 3)\n"
     ]
    },
    {
     "name": "stderr",
     "output_type": "stream",
     "text": [
      "15:46:09 - cmdstanpy - INFO - Chain [1] done processing\n",
      "15:46:10 - cmdstanpy - INFO - Chain [1] start processing\n"
     ]
    },
    {
     "name": "stdout",
     "output_type": "stream",
     "text": [
      "val mae: 1.31250\n"
     ]
    },
    {
     "name": "stderr",
     "output_type": "stream",
     "text": [
      "15:46:10 - cmdstanpy - INFO - Chain [1] done processing\n",
      "15:46:11 - cmdstanpy - INFO - Chain [1] start processing\n"
     ]
    },
    {
     "name": "stdout",
     "output_type": "stream",
     "text": [
      "============================================================\n",
      "ilce: odemis\n",
      "train: (1124, 3)\n",
      "test: (29, 3)\n",
      "val: (57, 3)\n"
     ]
    },
    {
     "name": "stderr",
     "output_type": "stream",
     "text": [
      "15:46:11 - cmdstanpy - INFO - Chain [1] done processing\n",
      "15:46:11 - cmdstanpy - INFO - Chain [1] start processing\n"
     ]
    },
    {
     "name": "stdout",
     "output_type": "stream",
     "text": [
      "val mae: 3.42570\n"
     ]
    },
    {
     "name": "stderr",
     "output_type": "stream",
     "text": [
      "15:46:12 - cmdstanpy - INFO - Chain [1] done processing\n",
      "15:46:12 - cmdstanpy - INFO - Chain [1] start processing\n"
     ]
    },
    {
     "name": "stdout",
     "output_type": "stream",
     "text": [
      "============================================================\n",
      "ilce: salihli\n",
      "train: (1126, 3)\n",
      "test: (29, 3)\n",
      "val: (57, 3)\n"
     ]
    },
    {
     "name": "stderr",
     "output_type": "stream",
     "text": [
      "15:46:12 - cmdstanpy - INFO - Chain [1] done processing\n",
      "15:46:13 - cmdstanpy - INFO - Chain [1] start processing\n"
     ]
    },
    {
     "name": "stdout",
     "output_type": "stream",
     "text": [
      "val mae: 3.70213\n"
     ]
    },
    {
     "name": "stderr",
     "output_type": "stream",
     "text": [
      "15:46:13 - cmdstanpy - INFO - Chain [1] done processing\n",
      "15:46:14 - cmdstanpy - INFO - Chain [1] start processing\n"
     ]
    },
    {
     "name": "stdout",
     "output_type": "stream",
     "text": [
      "============================================================\n",
      "ilce: sarigol\n",
      "train: (1027, 3)\n",
      "test: (29, 3)\n",
      "val: (52, 3)\n"
     ]
    },
    {
     "name": "stderr",
     "output_type": "stream",
     "text": [
      "15:46:14 - cmdstanpy - INFO - Chain [1] done processing\n",
      "15:46:14 - cmdstanpy - INFO - Chain [1] start processing\n",
      "15:46:14 - cmdstanpy - INFO - Chain [1] done processing\n"
     ]
    },
    {
     "name": "stdout",
     "output_type": "stream",
     "text": [
      "val mae: 1.85394\n"
     ]
    },
    {
     "name": "stderr",
     "output_type": "stream",
     "text": [
      "15:46:15 - cmdstanpy - INFO - Chain [1] start processing\n"
     ]
    },
    {
     "name": "stdout",
     "output_type": "stream",
     "text": [
      "============================================================\n",
      "ilce: saruhanli\n",
      "train: (1105, 3)\n",
      "test: (29, 3)\n",
      "val: (56, 3)\n"
     ]
    },
    {
     "name": "stderr",
     "output_type": "stream",
     "text": [
      "15:46:15 - cmdstanpy - INFO - Chain [1] done processing\n",
      "15:46:16 - cmdstanpy - INFO - Chain [1] start processing\n"
     ]
    },
    {
     "name": "stdout",
     "output_type": "stream",
     "text": [
      "val mae: 1.92395\n"
     ]
    },
    {
     "name": "stderr",
     "output_type": "stream",
     "text": [
      "15:46:16 - cmdstanpy - INFO - Chain [1] done processing\n",
      "15:46:17 - cmdstanpy - INFO - Chain [1] start processing\n"
     ]
    },
    {
     "name": "stdout",
     "output_type": "stream",
     "text": [
      "============================================================\n",
      "ilce: seferihisar\n",
      "train: (1111, 3)\n",
      "test: (29, 3)\n",
      "val: (56, 3)\n"
     ]
    },
    {
     "name": "stderr",
     "output_type": "stream",
     "text": [
      "15:46:17 - cmdstanpy - INFO - Chain [1] done processing\n",
      "15:46:17 - cmdstanpy - INFO - Chain [1] start processing\n"
     ]
    },
    {
     "name": "stdout",
     "output_type": "stream",
     "text": [
      "val mae: 2.21460\n"
     ]
    },
    {
     "name": "stderr",
     "output_type": "stream",
     "text": [
      "15:46:18 - cmdstanpy - INFO - Chain [1] done processing\n",
      "15:46:18 - cmdstanpy - INFO - Chain [1] start processing\n"
     ]
    },
    {
     "name": "stdout",
     "output_type": "stream",
     "text": [
      "============================================================\n",
      "ilce: sehzadeler\n",
      "train: (1123, 3)\n",
      "test: (29, 3)\n",
      "val: (57, 3)\n"
     ]
    },
    {
     "name": "stderr",
     "output_type": "stream",
     "text": [
      "15:46:18 - cmdstanpy - INFO - Chain [1] done processing\n",
      "15:46:19 - cmdstanpy - INFO - Chain [1] start processing\n"
     ]
    },
    {
     "name": "stdout",
     "output_type": "stream",
     "text": [
      "val mae: 3.87372\n"
     ]
    },
    {
     "name": "stderr",
     "output_type": "stream",
     "text": [
      "15:46:19 - cmdstanpy - INFO - Chain [1] done processing\n",
      "15:46:20 - cmdstanpy - INFO - Chain [1] start processing\n"
     ]
    },
    {
     "name": "stdout",
     "output_type": "stream",
     "text": [
      "============================================================\n",
      "ilce: selcuk\n",
      "train: (872, 3)\n",
      "test: (29, 3)\n",
      "val: (44, 3)\n"
     ]
    },
    {
     "name": "stderr",
     "output_type": "stream",
     "text": [
      "15:46:20 - cmdstanpy - INFO - Chain [1] done processing\n",
      "15:46:20 - cmdstanpy - INFO - Chain [1] start processing\n"
     ]
    },
    {
     "name": "stdout",
     "output_type": "stream",
     "text": [
      "val mae: 1.47027\n"
     ]
    },
    {
     "name": "stderr",
     "output_type": "stream",
     "text": [
      "15:46:21 - cmdstanpy - INFO - Chain [1] done processing\n",
      "15:46:21 - cmdstanpy - INFO - Chain [1] start processing\n",
      "15:46:21 - cmdstanpy - INFO - Chain [1] done processing\n"
     ]
    },
    {
     "name": "stdout",
     "output_type": "stream",
     "text": [
      "============================================================\n",
      "ilce: selendi\n",
      "train: (993, 3)\n",
      "test: (29, 3)\n",
      "val: (50, 3)\n"
     ]
    },
    {
     "name": "stderr",
     "output_type": "stream",
     "text": [
      "15:46:22 - cmdstanpy - INFO - Chain [1] start processing\n"
     ]
    },
    {
     "name": "stdout",
     "output_type": "stream",
     "text": [
      "val mae: 1.79083\n"
     ]
    },
    {
     "name": "stderr",
     "output_type": "stream",
     "text": [
      "15:46:22 - cmdstanpy - INFO - Chain [1] done processing\n",
      "15:46:23 - cmdstanpy - INFO - Chain [1] start processing\n"
     ]
    },
    {
     "name": "stdout",
     "output_type": "stream",
     "text": [
      "============================================================\n",
      "ilce: soma\n",
      "train: (1086, 3)\n",
      "test: (29, 3)\n",
      "val: (55, 3)\n"
     ]
    },
    {
     "name": "stderr",
     "output_type": "stream",
     "text": [
      "15:46:23 - cmdstanpy - INFO - Chain [1] done processing\n",
      "15:46:23 - cmdstanpy - INFO - Chain [1] start processing\n"
     ]
    },
    {
     "name": "stdout",
     "output_type": "stream",
     "text": [
      "val mae: 3.38859\n"
     ]
    },
    {
     "name": "stderr",
     "output_type": "stream",
     "text": [
      "15:46:24 - cmdstanpy - INFO - Chain [1] done processing\n",
      "15:46:24 - cmdstanpy - INFO - Chain [1] start processing\n"
     ]
    },
    {
     "name": "stdout",
     "output_type": "stream",
     "text": [
      "============================================================\n",
      "ilce: tire\n",
      "train: (1107, 3)\n",
      "test: (29, 3)\n",
      "val: (56, 3)\n"
     ]
    },
    {
     "name": "stderr",
     "output_type": "stream",
     "text": [
      "15:46:24 - cmdstanpy - INFO - Chain [1] done processing\n",
      "15:46:25 - cmdstanpy - INFO - Chain [1] start processing\n"
     ]
    },
    {
     "name": "stdout",
     "output_type": "stream",
     "text": [
      "val mae: 3.36794\n"
     ]
    },
    {
     "name": "stderr",
     "output_type": "stream",
     "text": [
      "15:46:25 - cmdstanpy - INFO - Chain [1] done processing\n",
      "15:46:26 - cmdstanpy - INFO - Chain [1] start processing\n"
     ]
    },
    {
     "name": "stdout",
     "output_type": "stream",
     "text": [
      "============================================================\n",
      "ilce: torbali\n",
      "train: (1124, 3)\n",
      "test: (29, 3)\n",
      "val: (57, 3)\n"
     ]
    },
    {
     "name": "stderr",
     "output_type": "stream",
     "text": [
      "15:46:26 - cmdstanpy - INFO - Chain [1] done processing\n",
      "15:46:27 - cmdstanpy - INFO - Chain [1] start processing\n"
     ]
    },
    {
     "name": "stdout",
     "output_type": "stream",
     "text": [
      "val mae: 3.74181\n"
     ]
    },
    {
     "name": "stderr",
     "output_type": "stream",
     "text": [
      "15:46:27 - cmdstanpy - INFO - Chain [1] done processing\n",
      "15:46:28 - cmdstanpy - INFO - Chain [1] start processing\n"
     ]
    },
    {
     "name": "stdout",
     "output_type": "stream",
     "text": [
      "============================================================\n",
      "ilce: turgutlu\n",
      "train: (1121, 3)\n",
      "test: (29, 3)\n",
      "val: (57, 3)\n"
     ]
    },
    {
     "name": "stderr",
     "output_type": "stream",
     "text": [
      "15:46:28 - cmdstanpy - INFO - Chain [1] done processing\n",
      "15:46:28 - cmdstanpy - INFO - Chain [1] start processing\n"
     ]
    },
    {
     "name": "stdout",
     "output_type": "stream",
     "text": [
      "val mae: 2.09270\n"
     ]
    },
    {
     "name": "stderr",
     "output_type": "stream",
     "text": [
      "15:46:28 - cmdstanpy - INFO - Chain [1] done processing\n",
      "15:46:29 - cmdstanpy - INFO - Chain [1] start processing\n"
     ]
    },
    {
     "name": "stdout",
     "output_type": "stream",
     "text": [
      "============================================================\n",
      "ilce: urla\n",
      "train: (1122, 3)\n",
      "test: (29, 3)\n",
      "val: (57, 3)\n"
     ]
    },
    {
     "name": "stderr",
     "output_type": "stream",
     "text": [
      "15:46:29 - cmdstanpy - INFO - Chain [1] done processing\n",
      "15:46:30 - cmdstanpy - INFO - Chain [1] start processing\n"
     ]
    },
    {
     "name": "stdout",
     "output_type": "stream",
     "text": [
      "val mae: 3.89443\n"
     ]
    },
    {
     "name": "stderr",
     "output_type": "stream",
     "text": [
      "15:46:30 - cmdstanpy - INFO - Chain [1] done processing\n",
      "15:46:31 - cmdstanpy - INFO - Chain [1] start processing\n"
     ]
    },
    {
     "name": "stdout",
     "output_type": "stream",
     "text": [
      "============================================================\n",
      "ilce: yunusemre\n",
      "train: (1125, 3)\n",
      "test: (29, 3)\n",
      "val: (57, 3)\n"
     ]
    },
    {
     "name": "stderr",
     "output_type": "stream",
     "text": [
      "15:46:31 - cmdstanpy - INFO - Chain [1] done processing\n",
      "15:46:31 - cmdstanpy - INFO - Chain [1] start processing\n"
     ]
    },
    {
     "name": "stdout",
     "output_type": "stream",
     "text": [
      "val mae: 4.05975\n"
     ]
    },
    {
     "name": "stderr",
     "output_type": "stream",
     "text": [
      "15:46:31 - cmdstanpy - INFO - Chain [1] done processing\n"
     ]
    },
    {
     "name": "stdout",
     "output_type": "stream",
     "text": [
      "============================================================\n",
      "Prophet CV: 2.68765\n"
     ]
    },
    {
     "data": {
      "text/html": [
       "<div>\n",
       "<style scoped>\n",
       "    .dataframe tbody tr th:only-of-type {\n",
       "        vertical-align: middle;\n",
       "    }\n",
       "\n",
       "    .dataframe tbody tr th {\n",
       "        vertical-align: top;\n",
       "    }\n",
       "\n",
       "    .dataframe thead th {\n",
       "        text-align: right;\n",
       "    }\n",
       "</style>\n",
       "<table border=\"1\" class=\"dataframe\">\n",
       "  <thead>\n",
       "    <tr style=\"text-align: right;\">\n",
       "      <th></th>\n",
       "      <th>date</th>\n",
       "      <th>ilce</th>\n",
       "      <th>prophet_pred</th>\n",
       "    </tr>\n",
       "  </thead>\n",
       "  <tbody>\n",
       "    <tr>\n",
       "      <th>0</th>\n",
       "      <td>2024-02-01</td>\n",
       "      <td>aliaga</td>\n",
       "      <td>6.798116</td>\n",
       "    </tr>\n",
       "    <tr>\n",
       "      <th>1</th>\n",
       "      <td>2024-02-01</td>\n",
       "      <td>bayindir</td>\n",
       "      <td>1.866154</td>\n",
       "    </tr>\n",
       "    <tr>\n",
       "      <th>2</th>\n",
       "      <td>2024-02-01</td>\n",
       "      <td>bayrakli</td>\n",
       "      <td>4.989190</td>\n",
       "    </tr>\n",
       "    <tr>\n",
       "      <th>3</th>\n",
       "      <td>2024-02-01</td>\n",
       "      <td>bergama</td>\n",
       "      <td>8.032453</td>\n",
       "    </tr>\n",
       "    <tr>\n",
       "      <th>4</th>\n",
       "      <td>2024-02-01</td>\n",
       "      <td>bornova</td>\n",
       "      <td>9.314362</td>\n",
       "    </tr>\n",
       "  </tbody>\n",
       "</table>\n",
       "</div>"
      ],
      "text/plain": [
       "        date      ilce  prophet_pred\n",
       "0 2024-02-01    aliaga      6.798116\n",
       "1 2024-02-01  bayindir      1.866154\n",
       "2 2024-02-01  bayrakli      4.989190\n",
       "3 2024-02-01   bergama      8.032453\n",
       "4 2024-02-01   bornova      9.314362"
      ]
     },
     "execution_count": 16,
     "metadata": {},
     "output_type": "execute_result"
    }
   ],
   "source": [
    "def load_prophet_model():\n",
    "    model = Prophet(\n",
    "        growth=\"linear\",\n",
    "        #seasonality_prior_scale=0.5,\n",
    "        weekly_seasonality=\"auto\",\n",
    "        yearly_seasonality=\"auto\",\n",
    "        daily_seasonality=\"auto\",\n",
    "                   )\n",
    "    #model.add_seasonality(name='monthly', period=30.5, fourier_order=5)\n",
    "    #model.add_seasonality(name='weekly', period=7, fourier_order=3)\n",
    "    model.add_country_holidays(country_name=\"TR\")\n",
    "    return model\n",
    "\n",
    "train = df.loc[df[target].notnull()].reset_index(drop=True)\n",
    "test = df.loc[df[target].isnull()].reset_index(drop=True)\n",
    "prophet_score = list()\n",
    "prophet_preds = pd.DataFrame()\n",
    "\n",
    "test_all_dates = pd.DataFrame()\n",
    "for ilce in sorted(df[\"ilce\"].unique()):\n",
    "    print(f\"ilce: {ilce}\")\n",
    "\n",
    "    g_train_df = train.loc[train[\"ilce\"] == ilce, [\"ilce\", \"date\", target]].sort_values(\"date\").copy()\n",
    "    g_test_df = test.loc[test[\"ilce\"] == ilce, [\"ilce\", \"date\", target]].sort_values(\"date\").copy()\n",
    "\n",
    "    g_train_df = g_train_df.reset_index(drop=True)\n",
    "    g_test_df = g_test_df.reset_index(drop=True)\n",
    "\n",
    "    test_dates = g_test_df[[\"date\"]].copy()\n",
    "    print(\"train:\", g_train_df.shape)\n",
    "    print(\"test:\", g_test_df.shape)\n",
    "    print(f\"val: {g_train_df.iloc[int(g_train_df.shape[0]*0.95):].shape}\")\n",
    "\n",
    "    # Model Validation\n",
    "\n",
    "    #model = load_prophet_model()\n",
    "    #model.fit(g_train_df.iloc[i:int(g_train_df.shape[0]*0.95)].rename(columns={\"date\": \"ds\", target: \"y\"}))\n",
    "    #val_pred_df = model.predict(df=g_train_df.iloc[int(g_train_df.shape[0]*0.95):].rename(columns={\"date\": \"ds\"}))\n",
    "\n",
    "    #val_yhat_upper = val_pred_df[\"yhat_upper\"].values\n",
    "    #val_yhat_lower = val_pred_df[\"yhat_lower\"].values\n",
    "    #val_pred = val_yhat_upper * 0.36 + val_yhat_lower * 0.64\n",
    "    #val_pred = val_pred.clip(0, np.inf)\n",
    "\n",
    "    #val_pred_list = list()\n",
    "    #for i in range(0, 30*6+1, 30):\n",
    "    #    print(i)\n",
    "    model = load_prophet_model()\n",
    "    model.fit(g_train_df.iloc[:int(g_train_df.shape[0]*0.95)].rename(columns={\"date\": \"ds\", target: \"y\"}))\n",
    "    val_pred_df = model.predict(df=g_train_df.iloc[int(g_train_df.shape[0]*0.95):].rename(columns={\"date\": \"ds\"}))\n",
    "\n",
    "    val_yhat_upper = val_pred_df[\"yhat_upper\"].values\n",
    "    val_yhat_lower = val_pred_df[\"yhat_lower\"].values\n",
    "    val_pred = val_yhat_upper * 0.36 + val_yhat_lower * 0.64\n",
    "    val_pred = val_pred.clip(0, np.inf)\n",
    "    #val_pred_list.append(val_pred)\n",
    "\n",
    "    #val_pred = np.mean(val_pred_list, axis=0)\n",
    "    val_mae = mean_absolute_error(g_train_df.iloc[int(g_train_df.shape[0]*0.95):][target], val_pred)\n",
    "    prophet_score.append(val_mae)\n",
    "    print(f\"val mae: {val_mae:.5f}\")\n",
    "\n",
    "    # Model Training\n",
    "\n",
    "    #test_pred_list = list()\n",
    "    #for i in range(0, 30*6+1, 30):\n",
    "    #print(i)\n",
    "    model = load_prophet_model()\n",
    "    model.fit(g_train_df.iloc[:].rename(columns={\"date\": \"ds\", target: \"y\"}))\n",
    "    test_pred_df = model.predict(df=g_test_df.rename(columns={\"date\": \"ds\"}))\n",
    "\n",
    "    test_yhat_upper = test_pred_df[\"yhat_upper\"].values\n",
    "    test_yhat_lower = test_pred_df[\"yhat_lower\"].values\n",
    "    test_pred = test_yhat_upper * 0.36 + test_yhat_lower * 0.64\n",
    "    test_pred = test_pred.clip(0, np.inf)\n",
    "    #test_pred_list.append(val_pred)\n",
    "\n",
    "    #test_pred = np.mean(test_pred_list, axis=0)\n",
    "    test_dates[\"prophet_pred\"] = test_pred\n",
    "    test_dates[\"ilce\"] = ilce\n",
    "    prophet_preds = pd.concat([prophet_preds, test_dates], axis=0)\n",
    "\n",
    "    del g_train_df, g_test_df, model, test_pred_df, val_pred_df\n",
    "    _ = gc.collect()\n",
    "\n",
    "    print(\"=\"*60)\n",
    "\n",
    "#Prophet CV: 2.97670\n",
    "#Prophet CV: 2.94594 #seasonalities removed\n",
    "\n",
    "# Prophet CV: 2.80394 -> val_pred = val_yhat_upper * 0.45 + val_yhat_lower * 0.55\n",
    "# Prophet CV: 3.13949 -> val_pred = val_yhat_upper * 0.55 + val_yhat_lower * 0.45\n",
    "# Prophet CV: 2.73009 -> val_pred = val_yhat_upper * 0.4 + val_yhat_lower * 0.6\n",
    "# Prophet CV: 2.71085 -> val_pred = val_yhat_upper * 0.36 + val_yhat_lower * 0.64\n",
    "# Prophet CV: 2.70694 -> seasonality_prior_scale=0.5,\n",
    "\n",
    "# Prophet CV: 2.71485 -> seasonality_prior_scale=0.5,\n",
    "\n",
    "# 4 folds Prophet CV: 2.68482\n",
    "# 6 folds Prophet CV: 2.67565\n",
    "\n",
    "print(f\"Prophet CV: {np.mean(prophet_score):.5f}\")\n",
    "prophet_preds = test[[\"date\", \"ilce\"]].merge(prophet_preds, on=[\"ilce\", \"date\"], how=\"left\")\n",
    "prophet_preds.head()"
   ]
  },
  {
   "cell_type": "markdown",
   "id": "5ed77cfd",
   "metadata": {
    "id": "gFGehSHT-Nex",
    "papermill": {
     "duration": 0.04724,
     "end_time": "2024-05-13T15:46:32.508619",
     "exception": false,
     "start_time": "2024-05-13T15:46:32.461379",
     "status": "completed"
    },
    "tags": []
   },
   "source": [
    "## XGBoost"
   ]
  },
  {
   "cell_type": "code",
   "execution_count": 17,
   "id": "70b283d6",
   "metadata": {
    "execution": {
     "iopub.execute_input": "2024-05-13T15:46:32.604137Z",
     "iopub.status.busy": "2024-05-13T15:46:32.603425Z",
     "iopub.status.idle": "2024-05-13T16:38:50.769544Z",
     "shell.execute_reply": "2024-05-13T16:38:50.768472Z"
    },
    "executionInfo": {
     "elapsed": 652163,
     "status": "ok",
     "timestamp": 1715283861778,
     "user": {
      "displayName": "Sercan Yeşilöz",
      "userId": "06148202317870201469"
     },
     "user_tz": -180
    },
    "id": "9wxSPpac2A58",
    "outputId": "05c614df-3bbf-4026-9ef0-2858b26644f9",
    "papermill": {
     "duration": 3138.217507,
     "end_time": "2024-05-13T16:38:50.772909",
     "exception": false,
     "start_time": "2024-05-13T15:46:32.555402",
     "status": "completed"
    },
    "tags": []
   },
   "outputs": [
    {
     "name": "stdout",
     "output_type": "stream",
     "text": [
      "n folds: 10\n",
      "========================================| Fold 1 |========================================\n",
      "train: (43333, 126)\n",
      "val: (4815, 126)\n",
      "[0]\tvalidation_0-mae:0.55940\n",
      "[250]\tvalidation_0-mae:0.39582\n",
      "[500]\tvalidation_0-mae:0.39296\n",
      "[750]\tvalidation_0-mae:0.39236\n",
      "[1000]\tvalidation_0-mae:0.39193\n",
      "[1250]\tvalidation_0-mae:0.39185\n",
      "[1500]\tvalidation_0-mae:0.39185\n",
      "[1750]\tvalidation_0-mae:0.39158\n",
      "[2000]\tvalidation_0-mae:0.39155\n",
      "[2250]\tvalidation_0-mae:0.39130\n",
      "[2500]\tvalidation_0-mae:0.39109\n",
      "[2750]\tvalidation_0-mae:0.39102\n",
      "[3000]\tvalidation_0-mae:0.39093\n",
      "[3250]\tvalidation_0-mae:0.39091\n",
      "[3500]\tvalidation_0-mae:0.39082\n",
      "[3750]\tvalidation_0-mae:0.39074\n",
      "[4000]\tvalidation_0-mae:0.39074\n",
      "[4250]\tvalidation_0-mae:0.39065\n",
      "[4500]\tvalidation_0-mae:0.39066\n",
      "[4750]\tvalidation_0-mae:0.39063\n",
      "[5000]\tvalidation_0-mae:0.39059\n",
      "[5250]\tvalidation_0-mae:0.39051\n",
      "[5500]\tvalidation_0-mae:0.39046\n",
      "[5750]\tvalidation_0-mae:0.39049\n",
      "[5999]\tvalidation_0-mae:0.39044\n",
      "Fold mae: 2.47902\n",
      "Elapsed: 376.88 seconds\n",
      "\n",
      "========================================| Fold 2 |========================================\n",
      "train: (43333, 126)\n",
      "val: (4815, 126)\n",
      "[0]\tvalidation_0-mae:0.55965\n",
      "[250]\tvalidation_0-mae:0.38504\n",
      "[500]\tvalidation_0-mae:0.38309\n",
      "[750]\tvalidation_0-mae:0.38221\n",
      "[1000]\tvalidation_0-mae:0.38171\n",
      "[1250]\tvalidation_0-mae:0.38140\n",
      "[1500]\tvalidation_0-mae:0.38133\n",
      "[1750]\tvalidation_0-mae:0.38125\n",
      "[2000]\tvalidation_0-mae:0.38124\n",
      "[2250]\tvalidation_0-mae:0.38120\n",
      "[2500]\tvalidation_0-mae:0.38104\n",
      "[2750]\tvalidation_0-mae:0.38100\n",
      "[3000]\tvalidation_0-mae:0.38103\n",
      "[3250]\tvalidation_0-mae:0.38111\n",
      "[3500]\tvalidation_0-mae:0.38098\n",
      "[3750]\tvalidation_0-mae:0.38099\n",
      "[3795]\tvalidation_0-mae:0.38098\n",
      "Fold mae: 2.48726\n",
      "Elapsed: 243.46 seconds\n",
      "\n",
      "========================================| Fold 3 |========================================\n",
      "train: (43333, 126)\n",
      "val: (4815, 126)\n",
      "[0]\tvalidation_0-mae:0.55707\n",
      "[250]\tvalidation_0-mae:0.38800\n",
      "[500]\tvalidation_0-mae:0.38562\n",
      "[750]\tvalidation_0-mae:0.38515\n",
      "[1000]\tvalidation_0-mae:0.38478\n",
      "[1250]\tvalidation_0-mae:0.38459\n",
      "[1500]\tvalidation_0-mae:0.38440\n",
      "[1750]\tvalidation_0-mae:0.38408\n",
      "[2000]\tvalidation_0-mae:0.38397\n",
      "[2250]\tvalidation_0-mae:0.38399\n",
      "[2500]\tvalidation_0-mae:0.38387\n",
      "[2750]\tvalidation_0-mae:0.38384\n",
      "[3000]\tvalidation_0-mae:0.38379\n",
      "[3250]\tvalidation_0-mae:0.38375\n",
      "[3500]\tvalidation_0-mae:0.38364\n",
      "[3750]\tvalidation_0-mae:0.38354\n",
      "[4000]\tvalidation_0-mae:0.38338\n",
      "[4250]\tvalidation_0-mae:0.38331\n",
      "[4500]\tvalidation_0-mae:0.38333\n",
      "[4750]\tvalidation_0-mae:0.38329\n",
      "[5000]\tvalidation_0-mae:0.38329\n",
      "[5250]\tvalidation_0-mae:0.38333\n",
      "[5500]\tvalidation_0-mae:0.38333\n",
      "[5750]\tvalidation_0-mae:0.38331\n",
      "[5928]\tvalidation_0-mae:0.38327\n",
      "Fold mae: 2.39212\n",
      "Elapsed: 385.26 seconds\n",
      "\n",
      "========================================| Fold 4 |========================================\n",
      "train: (43333, 126)\n",
      "val: (4815, 126)\n",
      "[0]\tvalidation_0-mae:0.55525\n",
      "[250]\tvalidation_0-mae:0.38536\n",
      "[500]\tvalidation_0-mae:0.38301\n",
      "[750]\tvalidation_0-mae:0.38223\n",
      "[1000]\tvalidation_0-mae:0.38195\n",
      "[1250]\tvalidation_0-mae:0.38170\n",
      "[1500]\tvalidation_0-mae:0.38173\n",
      "[1750]\tvalidation_0-mae:0.38174\n",
      "[2000]\tvalidation_0-mae:0.38176\n",
      "[2250]\tvalidation_0-mae:0.38186\n",
      "[2500]\tvalidation_0-mae:0.38186\n",
      "[2750]\tvalidation_0-mae:0.38188\n",
      "[2894]\tvalidation_0-mae:0.38181\n",
      "Fold mae: 2.41285\n",
      "Elapsed: 185.26 seconds\n",
      "\n",
      "========================================| Fold 5 |========================================\n",
      "train: (43333, 126)\n",
      "val: (4815, 126)\n",
      "[0]\tvalidation_0-mae:0.55279\n",
      "[250]\tvalidation_0-mae:0.38335\n",
      "[500]\tvalidation_0-mae:0.38081\n",
      "[750]\tvalidation_0-mae:0.37986\n",
      "[1000]\tvalidation_0-mae:0.37926\n",
      "[1250]\tvalidation_0-mae:0.37899\n",
      "[1500]\tvalidation_0-mae:0.37884\n",
      "[1750]\tvalidation_0-mae:0.37884\n",
      "[2000]\tvalidation_0-mae:0.37867\n",
      "[2250]\tvalidation_0-mae:0.37865\n",
      "[2500]\tvalidation_0-mae:0.37854\n",
      "[2750]\tvalidation_0-mae:0.37849\n",
      "[3000]\tvalidation_0-mae:0.37846\n",
      "[3250]\tvalidation_0-mae:0.37829\n",
      "[3500]\tvalidation_0-mae:0.37816\n",
      "[3750]\tvalidation_0-mae:0.37807\n",
      "[4000]\tvalidation_0-mae:0.37798\n",
      "[4250]\tvalidation_0-mae:0.37796\n",
      "[4500]\tvalidation_0-mae:0.37799\n",
      "[4750]\tvalidation_0-mae:0.37789\n",
      "[5000]\tvalidation_0-mae:0.37788\n",
      "[5250]\tvalidation_0-mae:0.37777\n",
      "[5500]\tvalidation_0-mae:0.37771\n",
      "[5750]\tvalidation_0-mae:0.37771\n",
      "[5999]\tvalidation_0-mae:0.37772\n",
      "Fold mae: 2.38978\n",
      "Elapsed: 389.07 seconds\n",
      "\n",
      "========================================| Fold 6 |========================================\n",
      "train: (43333, 126)\n",
      "val: (4815, 126)\n",
      "[0]\tvalidation_0-mae:0.56841\n",
      "[250]\tvalidation_0-mae:0.38829\n",
      "[500]\tvalidation_0-mae:0.38625\n",
      "[750]\tvalidation_0-mae:0.38521\n",
      "[1000]\tvalidation_0-mae:0.38496\n",
      "[1250]\tvalidation_0-mae:0.38477\n",
      "[1500]\tvalidation_0-mae:0.38478\n",
      "[1750]\tvalidation_0-mae:0.38465\n",
      "[2000]\tvalidation_0-mae:0.38453\n",
      "[2250]\tvalidation_0-mae:0.38457\n",
      "[2500]\tvalidation_0-mae:0.38449\n",
      "[2750]\tvalidation_0-mae:0.38440\n",
      "[3000]\tvalidation_0-mae:0.38444\n",
      "[3250]\tvalidation_0-mae:0.38446\n",
      "[3500]\tvalidation_0-mae:0.38443\n",
      "[3750]\tvalidation_0-mae:0.38437\n",
      "[4000]\tvalidation_0-mae:0.38439\n",
      "[4250]\tvalidation_0-mae:0.38441\n",
      "[4500]\tvalidation_0-mae:0.38440\n",
      "[4563]\tvalidation_0-mae:0.38440\n",
      "Fold mae: 2.45002\n",
      "Elapsed: 294.63 seconds\n",
      "\n",
      "========================================| Fold 7 |========================================\n",
      "train: (43333, 126)\n",
      "val: (4815, 126)\n",
      "[0]\tvalidation_0-mae:0.56410\n",
      "[250]\tvalidation_0-mae:0.38858\n",
      "[500]\tvalidation_0-mae:0.38593\n",
      "[750]\tvalidation_0-mae:0.38542\n",
      "[1000]\tvalidation_0-mae:0.38543\n",
      "[1250]\tvalidation_0-mae:0.38506\n",
      "[1500]\tvalidation_0-mae:0.38505\n",
      "[1750]\tvalidation_0-mae:0.38494\n",
      "[2000]\tvalidation_0-mae:0.38480\n",
      "[2250]\tvalidation_0-mae:0.38472\n",
      "[2500]\tvalidation_0-mae:0.38468\n",
      "[2750]\tvalidation_0-mae:0.38466\n",
      "[3000]\tvalidation_0-mae:0.38461\n",
      "[3250]\tvalidation_0-mae:0.38458\n",
      "[3500]\tvalidation_0-mae:0.38449\n",
      "[3750]\tvalidation_0-mae:0.38446\n",
      "[4000]\tvalidation_0-mae:0.38439\n",
      "[4250]\tvalidation_0-mae:0.38436\n",
      "[4500]\tvalidation_0-mae:0.38434\n",
      "[4750]\tvalidation_0-mae:0.38435\n",
      "[5000]\tvalidation_0-mae:0.38429\n",
      "[5250]\tvalidation_0-mae:0.38422\n",
      "[5500]\tvalidation_0-mae:0.38423\n",
      "[5750]\tvalidation_0-mae:0.38423\n",
      "[5999]\tvalidation_0-mae:0.38414\n",
      "Fold mae: 2.45674\n",
      "Elapsed: 380.79 seconds\n",
      "\n",
      "========================================| Fold 8 |========================================\n",
      "train: (43333, 126)\n",
      "val: (4815, 126)\n",
      "[0]\tvalidation_0-mae:0.57949\n",
      "[250]\tvalidation_0-mae:0.39322\n",
      "[500]\tvalidation_0-mae:0.39018\n",
      "[750]\tvalidation_0-mae:0.38988\n",
      "[1000]\tvalidation_0-mae:0.38946\n",
      "[1250]\tvalidation_0-mae:0.38916\n",
      "[1500]\tvalidation_0-mae:0.38919\n",
      "[1750]\tvalidation_0-mae:0.38895\n",
      "[2000]\tvalidation_0-mae:0.38880\n",
      "[2250]\tvalidation_0-mae:0.38874\n",
      "[2500]\tvalidation_0-mae:0.38855\n",
      "[2750]\tvalidation_0-mae:0.38845\n",
      "[3000]\tvalidation_0-mae:0.38834\n",
      "[3250]\tvalidation_0-mae:0.38839\n",
      "[3500]\tvalidation_0-mae:0.38846\n",
      "[3750]\tvalidation_0-mae:0.38845\n",
      "[3992]\tvalidation_0-mae:0.38840\n",
      "Fold mae: 2.51838\n",
      "Elapsed: 250.67 seconds\n",
      "\n",
      "========================================| Fold 9 |========================================\n",
      "train: (43334, 126)\n",
      "val: (4814, 126)\n",
      "[0]\tvalidation_0-mae:0.55831\n",
      "[250]\tvalidation_0-mae:0.38457\n",
      "[500]\tvalidation_0-mae:0.38214\n",
      "[750]\tvalidation_0-mae:0.38126\n",
      "[1000]\tvalidation_0-mae:0.38108\n",
      "[1250]\tvalidation_0-mae:0.38109\n",
      "[1500]\tvalidation_0-mae:0.38100\n",
      "[1750]\tvalidation_0-mae:0.38086\n",
      "[2000]\tvalidation_0-mae:0.38085\n",
      "[2250]\tvalidation_0-mae:0.38072\n",
      "[2500]\tvalidation_0-mae:0.38069\n",
      "[2750]\tvalidation_0-mae:0.38066\n",
      "[3000]\tvalidation_0-mae:0.38064\n",
      "[3250]\tvalidation_0-mae:0.38069\n",
      "[3500]\tvalidation_0-mae:0.38066\n",
      "[3750]\tvalidation_0-mae:0.38067\n",
      "[3855]\tvalidation_0-mae:0.38066\n",
      "Fold mae: 2.43594\n",
      "Elapsed: 247.46 seconds\n",
      "\n",
      "=======================================| Fold 10 |========================================\n",
      "train: (43334, 126)\n",
      "val: (4814, 126)\n",
      "[0]\tvalidation_0-mae:0.56999\n",
      "[250]\tvalidation_0-mae:0.39830\n",
      "[500]\tvalidation_0-mae:0.39516\n",
      "[750]\tvalidation_0-mae:0.39437\n",
      "[1000]\tvalidation_0-mae:0.39414\n",
      "[1250]\tvalidation_0-mae:0.39382\n",
      "[1500]\tvalidation_0-mae:0.39360\n",
      "[1750]\tvalidation_0-mae:0.39364\n",
      "[2000]\tvalidation_0-mae:0.39351\n",
      "[2250]\tvalidation_0-mae:0.39335\n",
      "[2500]\tvalidation_0-mae:0.39335\n",
      "[2750]\tvalidation_0-mae:0.39340\n",
      "[3000]\tvalidation_0-mae:0.39336\n",
      "[3250]\tvalidation_0-mae:0.39329\n",
      "[3500]\tvalidation_0-mae:0.39326\n",
      "[3750]\tvalidation_0-mae:0.39321\n",
      "[4000]\tvalidation_0-mae:0.39315\n",
      "[4250]\tvalidation_0-mae:0.39318\n",
      "[4500]\tvalidation_0-mae:0.39317\n",
      "[4750]\tvalidation_0-mae:0.39313\n",
      "[5000]\tvalidation_0-mae:0.39310\n",
      "[5250]\tvalidation_0-mae:0.39310\n",
      "[5500]\tvalidation_0-mae:0.39305\n",
      "[5750]\tvalidation_0-mae:0.39308\n",
      "[5999]\tvalidation_0-mae:0.39304\n",
      "Fold mae: 2.47251\n",
      "Elapsed: 383.71 seconds\n",
      "\n",
      "==========================================================================================\n",
      "CV: 2.44946\n"
     ]
    },
    {
     "data": {
      "image/png": "[encoded data removed]",
      "text/plain": [
       "<Figure size 1200x1000 with 1 Axes>"
      ]
     },
     "metadata": {},
     "output_type": "display_data"
    }
   ],
   "source": [
    "xgb_params = {\n",
    "    'learning_rate': 0.051344106461847894,\n",
    "    'max_depth': 8,\n",
    "    'subsample': 0.8958383549277598,\n",
    "    'colsample_bytree': 0.8396210082000671,\n",
    "    'reg_alpha': 7.676457607944722,\n",
    "    'reg_lambda': 8.56508940405657,\n",
    "    'min_child_weight': 2.8578755365559165,\n",
    "    'gamma': 3.0886900686804317\n",
    "}\n",
    "\n",
    "xgb_params[\"objective\"] = \"reg:absoluteerror\"\n",
    "#xgb_params[\"tree_method\"] = \"gpu_hist\"\n",
    "xgb_params[\"enable_categorical\"] = True\n",
    "xgb_params[\"n_estimators\"] = 6000\n",
    "\n",
    "model = xgb.XGBRegressor(**xgb_params)\n",
    "\n",
    "train_params = {\"early_stopping_rounds\": 1000, \"verbose\": 250}\n",
    "cv = KFold(n_splits=10, shuffle=True, random_state=45)\n",
    "\n",
    "xgb_results = reg_trainer(\n",
    "    model=model,\n",
    "    X=X,\n",
    "    y=y,\n",
    "    X_test=X_test,\n",
    "    cv=cv,\n",
    "    plot_importances=True,\n",
    "    train_params=train_params,\n",
    "    #sample_weight=sample_weight,\n",
    "    eval_metric=\"mae\",\n",
    "    log_transform=True,\n",
    "    #groups = groups\n",
    ")\n",
    "\n",
    "pred_df1 = pd.DataFrame({\"ilce\": test_ilce, \"date\": test_date, \"pred1\": xgb_results[\"test_preds\"]})\n",
    "pred_df1[\"pred1\"] = pred_df1[\"pred1\"].clip(0, np.inf)"
   ]
  },
  {
   "cell_type": "markdown",
   "id": "3cc6bff4",
   "metadata": {
    "id": "cwqC45q3_Lxd",
    "papermill": {
     "duration": 0.085348,
     "end_time": "2024-05-13T16:38:50.934991",
     "exception": false,
     "start_time": "2024-05-13T16:38:50.849643",
     "status": "completed"
    },
    "tags": []
   },
   "source": [
    "## CatBoost"
   ]
  },
  {
   "cell_type": "code",
   "execution_count": 18,
   "id": "cc70ba6a",
   "metadata": {
    "execution": {
     "iopub.execute_input": "2024-05-13T16:38:51.096660Z",
     "iopub.status.busy": "2024-05-13T16:38:51.095681Z",
     "iopub.status.idle": "2024-05-13T17:34:48.783992Z",
     "shell.execute_reply": "2024-05-13T17:34:48.782785Z"
    },
    "executionInfo": {
     "elapsed": 1176644,
     "status": "ok",
     "timestamp": 1715285038407,
     "user": {
      "displayName": "Sercan Yeşilöz",
      "userId": "06148202317870201469"
     },
     "user_tz": -180
    },
    "id": "1oLkdNUW2A4C",
    "outputId": "e5908de2-cf87-43a0-8f30-625f28d1a1ec",
    "papermill": {
     "duration": 3357.772475,
     "end_time": "2024-05-13T17:34:48.786684",
     "exception": false,
     "start_time": "2024-05-13T16:38:51.014209",
     "status": "completed"
    },
    "tags": []
   },
   "outputs": [
    {
     "name": "stdout",
     "output_type": "stream",
     "text": [
      "n folds: 10\n",
      "========================================| Fold 1 |========================================\n",
      "train: (43333, 126)\n",
      "val: (4815, 126)\n",
      "0:\tlearn: 0.3660328\ttest: 0.3648224\tbest: 0.3648224 (0)\ttotal: 136ms\tremaining: 18m 10s\n",
      "250:\tlearn: 0.2597567\ttest: 0.2716632\tbest: 0.2716632 (250)\ttotal: 17.1s\tremaining: 8m 46s\n",
      "500:\tlearn: 0.2471681\ttest: 0.2685387\tbest: 0.2685080 (496)\ttotal: 34.8s\tremaining: 8m 40s\n",
      "750:\tlearn: 0.2378977\ttest: 0.2672535\tbest: 0.2672512 (743)\ttotal: 52.6s\tremaining: 8m 27s\n",
      "1000:\tlearn: 0.2306388\ttest: 0.2665205\tbest: 0.2665148 (997)\ttotal: 1m 9s\tremaining: 8m 7s\n",
      "1250:\tlearn: 0.2246488\ttest: 0.2658763\tbest: 0.2658237 (1228)\ttotal: 1m 27s\tremaining: 7m 50s\n",
      "1500:\tlearn: 0.2195723\ttest: 0.2657820\tbest: 0.2657579 (1492)\ttotal: 1m 44s\tremaining: 7m 30s\n",
      "1750:\tlearn: 0.2147411\ttest: 0.2654271\tbest: 0.2653976 (1747)\ttotal: 2m 1s\tremaining: 7m 14s\n",
      "2000:\tlearn: 0.2106613\ttest: 0.2653884\tbest: 0.2652918 (1915)\ttotal: 2m 18s\tremaining: 6m 55s\n",
      "2250:\tlearn: 0.2069948\ttest: 0.2653314\tbest: 0.2652918 (1915)\ttotal: 2m 35s\tremaining: 6m 38s\n",
      "2500:\tlearn: 0.2036435\ttest: 0.2654753\tbest: 0.2652918 (1915)\ttotal: 2m 52s\tremaining: 6m 20s\n",
      "2750:\tlearn: 0.2006269\ttest: 0.2653818\tbest: 0.2652918 (1915)\ttotal: 3m 10s\tremaining: 6m 2s\n",
      "Stopped by overfitting detector  (1000 iterations wait)\n",
      "\n",
      "bestTest = 0.2652917994\n",
      "bestIteration = 1915\n",
      "\n",
      "Shrink model to first 1916 iterations.\n",
      "Fold mae: 2.52495\n",
      "Elapsed: 202.08 seconds\n",
      "\n",
      "========================================| Fold 2 |========================================\n",
      "train: (43333, 126)\n",
      "val: (4815, 126)\n",
      "0:\tlearn: 0.3668192\ttest: 0.3602709\tbest: 0.3602709 (0)\ttotal: 77.7ms\tremaining: 10m 21s\n",
      "250:\tlearn: 0.2615342\ttest: 0.2600081\tbest: 0.2600081 (250)\ttotal: 17.6s\tremaining: 9m 2s\n",
      "500:\tlearn: 0.2486446\ttest: 0.2564811\tbest: 0.2564711 (498)\ttotal: 35s\tremaining: 8m 43s\n",
      "750:\tlearn: 0.2398391\ttest: 0.2551148\tbest: 0.2550892 (739)\ttotal: 52.7s\tremaining: 8m 28s\n",
      "1000:\tlearn: 0.2328589\ttest: 0.2547492\tbest: 0.2547029 (952)\ttotal: 1m 9s\tremaining: 8m 7s\n",
      "1250:\tlearn: 0.2265839\ttest: 0.2542631\tbest: 0.2542340 (1225)\ttotal: 1m 27s\tremaining: 7m 50s\n",
      "1500:\tlearn: 0.2212108\ttest: 0.2540741\tbest: 0.2540728 (1472)\ttotal: 1m 44s\tremaining: 7m 32s\n",
      "1750:\tlearn: 0.2164421\ttest: 0.2537396\tbest: 0.2537082 (1738)\ttotal: 2m 2s\tremaining: 7m 16s\n",
      "2000:\tlearn: 0.2123176\ttest: 0.2536449\tbest: 0.2536449 (2000)\ttotal: 2m 20s\tremaining: 6m 59s\n",
      "2250:\tlearn: 0.2086789\ttest: 0.2536024\tbest: 0.2535456 (2179)\ttotal: 2m 37s\tremaining: 6m 41s\n",
      "2500:\tlearn: 0.2053943\ttest: 0.2535152\tbest: 0.2534701 (2481)\ttotal: 2m 54s\tremaining: 6m 23s\n",
      "2750:\tlearn: 0.2024309\ttest: 0.2536174\tbest: 0.2534701 (2481)\ttotal: 3m 11s\tremaining: 6m 5s\n",
      "3000:\tlearn: 0.1996511\ttest: 0.2535893\tbest: 0.2534701 (2481)\ttotal: 3m 28s\tremaining: 5m 48s\n",
      "3250:\tlearn: 0.1969904\ttest: 0.2536849\tbest: 0.2534701 (2481)\ttotal: 3m 46s\tremaining: 5m 30s\n",
      "Stopped by overfitting detector  (1000 iterations wait)\n",
      "\n",
      "bestTest = 0.2534700944\n",
      "bestIteration = 2481\n",
      "\n",
      "Shrink model to first 2482 iterations.\n",
      "Fold mae: 2.53531\n",
      "Elapsed: 243.28 seconds\n",
      "\n",
      "========================================| Fold 3 |========================================\n",
      "train: (43333, 126)\n",
      "val: (4815, 126)\n",
      "0:\tlearn: 0.3660341\ttest: 0.3678205\tbest: 0.3678205 (0)\ttotal: 76.5ms\tremaining: 10m 12s\n",
      "250:\tlearn: 0.2596256\ttest: 0.2695426\tbest: 0.2695426 (250)\ttotal: 17.3s\tremaining: 8m 54s\n",
      "500:\tlearn: 0.2472780\ttest: 0.2661796\tbest: 0.2661796 (500)\ttotal: 35.1s\tremaining: 8m 45s\n",
      "750:\tlearn: 0.2381793\ttest: 0.2652540\tbest: 0.2652151 (741)\ttotal: 52.4s\tremaining: 8m 25s\n",
      "1000:\tlearn: 0.2312440\ttest: 0.2651776\tbest: 0.2651252 (995)\ttotal: 1m 10s\tremaining: 8m 10s\n",
      "1250:\tlearn: 0.2251468\ttest: 0.2647422\tbest: 0.2647422 (1250)\ttotal: 1m 27s\tremaining: 7m 54s\n",
      "1500:\tlearn: 0.2199817\ttest: 0.2643465\tbest: 0.2643387 (1499)\ttotal: 1m 45s\tremaining: 7m 37s\n",
      "1750:\tlearn: 0.2155344\ttest: 0.2639395\tbest: 0.2639313 (1733)\ttotal: 2m 3s\tremaining: 7m 20s\n",
      "2000:\tlearn: 0.2115720\ttest: 0.2638101\tbest: 0.2637791 (1983)\ttotal: 2m 20s\tremaining: 7m 1s\n",
      "2250:\tlearn: 0.2082756\ttest: 0.2640475\tbest: 0.2637284 (2057)\ttotal: 2m 38s\tremaining: 6m 44s\n",
      "2500:\tlearn: 0.2051245\ttest: 0.2638600\tbest: 0.2637284 (2057)\ttotal: 2m 55s\tremaining: 6m 26s\n",
      "2750:\tlearn: 0.2019367\ttest: 0.2637383\tbest: 0.2637278 (2747)\ttotal: 3m 13s\tremaining: 6m 9s\n",
      "3000:\tlearn: 0.1990922\ttest: 0.2636896\tbest: 0.2636641 (2948)\ttotal: 3m 31s\tremaining: 5m 51s\n",
      "3250:\tlearn: 0.1964495\ttest: 0.2634648\tbest: 0.2634616 (3249)\ttotal: 3m 48s\tremaining: 5m 34s\n",
      "3500:\tlearn: 0.1940193\ttest: 0.2633471\tbest: 0.2633304 (3460)\ttotal: 4m 6s\tremaining: 5m 16s\n",
      "3750:\tlearn: 0.1919028\ttest: 0.2633250\tbest: 0.2632365 (3722)\ttotal: 4m 23s\tremaining: 4m 58s\n",
      "4000:\tlearn: 0.1896392\ttest: 0.2632371\tbest: 0.2631862 (3955)\ttotal: 4m 41s\tremaining: 4m 41s\n",
      "4250:\tlearn: 0.1875826\ttest: 0.2631179\tbest: 0.2631144 (4232)\ttotal: 4m 59s\tremaining: 4m 23s\n",
      "4500:\tlearn: 0.1857418\ttest: 0.2629699\tbest: 0.2629681 (4499)\ttotal: 5m 17s\tremaining: 4m 6s\n",
      "4750:\tlearn: 0.1840457\ttest: 0.2630817\tbest: 0.2629393 (4553)\ttotal: 5m 34s\tremaining: 3m 48s\n",
      "5000:\tlearn: 0.1824020\ttest: 0.2631339\tbest: 0.2629393 (4553)\ttotal: 5m 52s\tremaining: 3m 31s\n",
      "5250:\tlearn: 0.1807621\ttest: 0.2631686\tbest: 0.2629393 (4553)\ttotal: 6m 9s\tremaining: 3m 13s\n",
      "5500:\tlearn: 0.1792483\ttest: 0.2631056\tbest: 0.2629393 (4553)\ttotal: 6m 27s\tremaining: 2m 55s\n",
      "Stopped by overfitting detector  (1000 iterations wait)\n",
      "\n",
      "bestTest = 0.2629393378\n",
      "bestIteration = 4553\n",
      "\n",
      "Shrink model to first 4554 iterations.\n",
      "Fold mae: 2.43689\n",
      "Elapsed: 391.57 seconds\n",
      "\n",
      "========================================| Fold 4 |========================================\n",
      "train: (43333, 126)\n",
      "val: (4815, 126)\n",
      "0:\tlearn: 0.3664457\ttest: 0.3625483\tbest: 0.3625483 (0)\ttotal: 76ms\tremaining: 10m 7s\n",
      "250:\tlearn: 0.2604612\ttest: 0.2651754\tbest: 0.2651754 (250)\ttotal: 17.3s\tremaining: 8m 52s\n",
      "500:\tlearn: 0.2476215\ttest: 0.2627103\tbest: 0.2627050 (497)\ttotal: 35.1s\tremaining: 8m 45s\n",
      "750:\tlearn: 0.2385603\ttest: 0.2614465\tbest: 0.2614465 (750)\ttotal: 52.9s\tremaining: 8m 30s\n",
      "1000:\tlearn: 0.2312913\ttest: 0.2606028\tbest: 0.2605926 (998)\ttotal: 1m 10s\tremaining: 8m 10s\n",
      "1250:\tlearn: 0.2251970\ttest: 0.2604397\tbest: 0.2604268 (1245)\ttotal: 1m 27s\tremaining: 7m 54s\n",
      "1500:\tlearn: 0.2201900\ttest: 0.2602884\tbest: 0.2602242 (1487)\ttotal: 1m 45s\tremaining: 7m 35s\n",
      "1750:\tlearn: 0.2159869\ttest: 0.2601917\tbest: 0.2601842 (1541)\ttotal: 2m 2s\tremaining: 7m 18s\n",
      "2000:\tlearn: 0.2121227\ttest: 0.2599075\tbest: 0.2599042 (1999)\ttotal: 2m 19s\tremaining: 6m 59s\n",
      "2250:\tlearn: 0.2083997\ttest: 0.2598065\tbest: 0.2598057 (2097)\ttotal: 2m 37s\tremaining: 6m 42s\n",
      "2500:\tlearn: 0.2054807\ttest: 0.2597998\tbest: 0.2597593 (2393)\ttotal: 2m 54s\tremaining: 6m 23s\n",
      "2750:\tlearn: 0.2026557\ttest: 0.2597506\tbest: 0.2597345 (2613)\ttotal: 3m 12s\tremaining: 6m 6s\n",
      "3000:\tlearn: 0.1997418\ttest: 0.2597673\tbest: 0.2597073 (2825)\ttotal: 3m 29s\tremaining: 5m 48s\n",
      "3250:\tlearn: 0.1971819\ttest: 0.2596847\tbest: 0.2596256 (3148)\ttotal: 3m 47s\tremaining: 5m 31s\n",
      "3500:\tlearn: 0.1948150\ttest: 0.2596073\tbest: 0.2595717 (3346)\ttotal: 4m 4s\tremaining: 5m 14s\n",
      "3750:\tlearn: 0.1927386\ttest: 0.2595853\tbest: 0.2595717 (3346)\ttotal: 4m 21s\tremaining: 4m 56s\n",
      "4000:\tlearn: 0.1907235\ttest: 0.2595453\tbest: 0.2594906 (3887)\ttotal: 4m 39s\tremaining: 4m 39s\n",
      "4250:\tlearn: 0.1887020\ttest: 0.2594915\tbest: 0.2594608 (4189)\ttotal: 4m 56s\tremaining: 4m 21s\n",
      "4500:\tlearn: 0.1870639\ttest: 0.2593865\tbest: 0.2593765 (4461)\ttotal: 5m 14s\tremaining: 4m 4s\n",
      "4750:\tlearn: 0.1853865\ttest: 0.2594017\tbest: 0.2593652 (4507)\ttotal: 5m 31s\tremaining: 3m 46s\n",
      "5000:\tlearn: 0.1836626\ttest: 0.2594200\tbest: 0.2593652 (4507)\ttotal: 5m 48s\tremaining: 3m 29s\n",
      "5250:\tlearn: 0.1821294\ttest: 0.2593690\tbest: 0.2593501 (5240)\ttotal: 6m 6s\tremaining: 3m 11s\n",
      "5500:\tlearn: 0.1805817\ttest: 0.2593953\tbest: 0.2593501 (5240)\ttotal: 6m 23s\tremaining: 2m 54s\n",
      "5750:\tlearn: 0.1791601\ttest: 0.2594165\tbest: 0.2593501 (5240)\ttotal: 6m 40s\tremaining: 2m 36s\n",
      "6000:\tlearn: 0.1778493\ttest: 0.2594766\tbest: 0.2593501 (5240)\ttotal: 6m 58s\tremaining: 2m 19s\n",
      "Stopped by overfitting detector  (1000 iterations wait)\n",
      "\n",
      "bestTest = 0.259350141\n",
      "bestIteration = 5240\n",
      "\n",
      "Shrink model to first 5241 iterations.\n",
      "Fold mae: 2.45037\n",
      "Elapsed: 436.27 seconds\n",
      "\n",
      "========================================| Fold 5 |========================================\n",
      "train: (43333, 126)\n",
      "val: (4815, 126)\n",
      "0:\tlearn: 0.3670601\ttest: 0.3594659\tbest: 0.3594659 (0)\ttotal: 77.7ms\tremaining: 10m 21s\n",
      "250:\tlearn: 0.2606930\ttest: 0.2622204\tbest: 0.2622204 (250)\ttotal: 17.9s\tremaining: 9m 13s\n",
      "500:\tlearn: 0.2478576\ttest: 0.2589385\tbest: 0.2589385 (500)\ttotal: 35.9s\tremaining: 8m 58s\n",
      "750:\tlearn: 0.2387475\ttest: 0.2580108\tbest: 0.2580108 (750)\ttotal: 53.4s\tremaining: 8m 35s\n",
      "1000:\tlearn: 0.2311986\ttest: 0.2572406\tbest: 0.2572207 (982)\ttotal: 1m 11s\tremaining: 8m 17s\n",
      "1250:\tlearn: 0.2250829\ttest: 0.2568183\tbest: 0.2568183 (1250)\ttotal: 1m 28s\tremaining: 7m 57s\n",
      "1500:\tlearn: 0.2197377\ttest: 0.2563518\tbest: 0.2563308 (1463)\ttotal: 1m 46s\tremaining: 7m 40s\n",
      "1750:\tlearn: 0.2152047\ttest: 0.2559638\tbest: 0.2559480 (1741)\ttotal: 2m 3s\tremaining: 7m 20s\n",
      "2000:\tlearn: 0.2111537\ttest: 0.2556770\tbest: 0.2556321 (1972)\ttotal: 2m 21s\tremaining: 7m 3s\n",
      "2250:\tlearn: 0.2078846\ttest: 0.2556524\tbest: 0.2556121 (2235)\ttotal: 2m 38s\tremaining: 6m 44s\n",
      "2500:\tlearn: 0.2047719\ttest: 0.2553457\tbest: 0.2553213 (2453)\ttotal: 2m 56s\tremaining: 6m 27s\n",
      "2750:\tlearn: 0.2017069\ttest: 0.2553442\tbest: 0.2552434 (2614)\ttotal: 3m 13s\tremaining: 6m 9s\n",
      "3000:\tlearn: 0.1990490\ttest: 0.2552262\tbest: 0.2552226 (2980)\ttotal: 3m 31s\tremaining: 5m 51s\n",
      "3250:\tlearn: 0.1964956\ttest: 0.2550285\tbest: 0.2550012 (3238)\ttotal: 3m 48s\tremaining: 5m 34s\n",
      "3500:\tlearn: 0.1941489\ttest: 0.2550691\tbest: 0.2550012 (3238)\ttotal: 4m 6s\tremaining: 5m 16s\n",
      "3750:\tlearn: 0.1919284\ttest: 0.2549254\tbest: 0.2549035 (3714)\ttotal: 4m 23s\tremaining: 4m 58s\n",
      "4000:\tlearn: 0.1901104\ttest: 0.2548265\tbest: 0.2548244 (3999)\ttotal: 4m 41s\tremaining: 4m 40s\n",
      "4250:\tlearn: 0.1882723\ttest: 0.2545903\tbest: 0.2545831 (4237)\ttotal: 4m 58s\tremaining: 4m 23s\n",
      "4500:\tlearn: 0.1864903\ttest: 0.2546174\tbest: 0.2545757 (4344)\ttotal: 5m 16s\tremaining: 4m 5s\n",
      "4750:\tlearn: 0.1846968\ttest: 0.2545656\tbest: 0.2545636 (4744)\ttotal: 5m 33s\tremaining: 3m 48s\n",
      "5000:\tlearn: 0.1830249\ttest: 0.2546300\tbest: 0.2545491 (4786)\ttotal: 5m 51s\tremaining: 3m 30s\n",
      "5250:\tlearn: 0.1813268\ttest: 0.2546303\tbest: 0.2545491 (4786)\ttotal: 6m 8s\tremaining: 3m 13s\n",
      "5500:\tlearn: 0.1798435\ttest: 0.2546230\tbest: 0.2545491 (4786)\ttotal: 6m 26s\tremaining: 2m 55s\n",
      "5750:\tlearn: 0.1784035\ttest: 0.2544985\tbest: 0.2544985 (5750)\ttotal: 6m 43s\tremaining: 2m 37s\n",
      "6000:\tlearn: 0.1770660\ttest: 0.2544328\tbest: 0.2544212 (5985)\ttotal: 7m 1s\tremaining: 2m 20s\n",
      "6250:\tlearn: 0.1758263\ttest: 0.2543233\tbest: 0.2543203 (6244)\ttotal: 7m 18s\tremaining: 2m 2s\n",
      "6500:\tlearn: 0.1746958\ttest: 0.2542484\tbest: 0.2542372 (6433)\ttotal: 7m 36s\tremaining: 1m 45s\n",
      "6750:\tlearn: 0.1735270\ttest: 0.2541753\tbest: 0.2541572 (6724)\ttotal: 7m 53s\tremaining: 1m 27s\n",
      "7000:\tlearn: 0.1723938\ttest: 0.2541406\tbest: 0.2541292 (6938)\ttotal: 8m 10s\tremaining: 1m 10s\n",
      "7250:\tlearn: 0.1712388\ttest: 0.2541636\tbest: 0.2541158 (7101)\ttotal: 8m 28s\tremaining: 52.5s\n",
      "7500:\tlearn: 0.1701475\ttest: 0.2540374\tbest: 0.2540324 (7470)\ttotal: 8m 45s\tremaining: 35s\n",
      "7750:\tlearn: 0.1691187\ttest: 0.2540103\tbest: 0.2539932 (7670)\ttotal: 9m 2s\tremaining: 17.4s\n",
      "7999:\tlearn: 0.1679943\ttest: 0.2540539\tbest: 0.2539932 (7670)\ttotal: 9m 20s\tremaining: 0us\n",
      "\n",
      "bestTest = 0.2539931965\n",
      "bestIteration = 7670\n",
      "\n",
      "Shrink model to first 7671 iterations.\n",
      "Fold mae: 2.41857\n",
      "Elapsed: 561.91 seconds\n",
      "\n",
      "========================================| Fold 6 |========================================\n",
      "train: (43333, 126)\n",
      "val: (4815, 126)\n",
      "0:\tlearn: 0.3656206\ttest: 0.3711577\tbest: 0.3711577 (0)\ttotal: 76ms\tremaining: 10m 7s\n",
      "250:\tlearn: 0.2600755\ttest: 0.2658701\tbest: 0.2658701 (250)\ttotal: 17.3s\tremaining: 8m 54s\n",
      "500:\tlearn: 0.2474608\ttest: 0.2623862\tbest: 0.2623862 (500)\ttotal: 35.1s\tremaining: 8m 45s\n",
      "750:\tlearn: 0.2386966\ttest: 0.2613922\tbest: 0.2613648 (745)\ttotal: 52.8s\tremaining: 8m 30s\n",
      "1000:\tlearn: 0.2313710\ttest: 0.2605950\tbest: 0.2605786 (994)\ttotal: 1m 10s\tremaining: 8m 10s\n",
      "1250:\tlearn: 0.2250185\ttest: 0.2600286\tbest: 0.2600065 (1246)\ttotal: 1m 28s\tremaining: 7m 55s\n",
      "1500:\tlearn: 0.2199109\ttest: 0.2595622\tbest: 0.2595043 (1480)\ttotal: 1m 45s\tremaining: 7m 36s\n",
      "1750:\tlearn: 0.2154707\ttest: 0.2590867\tbest: 0.2590746 (1735)\ttotal: 2m 3s\tremaining: 7m 19s\n",
      "2000:\tlearn: 0.2115226\ttest: 0.2587640\tbest: 0.2587525 (1947)\ttotal: 2m 20s\tremaining: 7m\n",
      "2250:\tlearn: 0.2078346\ttest: 0.2586422\tbest: 0.2585341 (2182)\ttotal: 2m 38s\tremaining: 6m 44s\n",
      "2500:\tlearn: 0.2046927\ttest: 0.2586329\tbest: 0.2585341 (2182)\ttotal: 2m 55s\tremaining: 6m 25s\n",
      "2750:\tlearn: 0.2016999\ttest: 0.2585147\tbest: 0.2584828 (2621)\ttotal: 3m 13s\tremaining: 6m 8s\n",
      "3000:\tlearn: 0.1988763\ttest: 0.2583919\tbest: 0.2583919 (3000)\ttotal: 3m 30s\tremaining: 5m 50s\n",
      "3250:\tlearn: 0.1961352\ttest: 0.2583816\tbest: 0.2583145 (3140)\ttotal: 3m 48s\tremaining: 5m 33s\n",
      "3500:\tlearn: 0.1938697\ttest: 0.2584692\tbest: 0.2583145 (3140)\ttotal: 4m 5s\tremaining: 5m 15s\n",
      "3750:\tlearn: 0.1917613\ttest: 0.2584667\tbest: 0.2583145 (3140)\ttotal: 4m 23s\tremaining: 4m 58s\n",
      "4000:\tlearn: 0.1896373\ttest: 0.2584781\tbest: 0.2583145 (3140)\ttotal: 4m 40s\tremaining: 4m 40s\n",
      "Stopped by overfitting detector  (1000 iterations wait)\n",
      "\n",
      "bestTest = 0.2583145013\n",
      "bestIteration = 3140\n",
      "\n",
      "Shrink model to first 3141 iterations.\n",
      "Fold mae: 2.45725\n",
      "Elapsed: 291.28 seconds\n",
      "\n",
      "========================================| Fold 7 |========================================\n",
      "train: (43333, 126)\n",
      "val: (4815, 126)\n",
      "0:\tlearn: 0.3663392\ttest: 0.3636228\tbest: 0.3636228 (0)\ttotal: 81.7ms\tremaining: 10m 53s\n",
      "250:\tlearn: 0.2598051\ttest: 0.2647745\tbest: 0.2647745 (250)\ttotal: 17.4s\tremaining: 8m 57s\n",
      "500:\tlearn: 0.2472398\ttest: 0.2618774\tbest: 0.2618748 (497)\ttotal: 35.3s\tremaining: 8m 47s\n",
      "750:\tlearn: 0.2383882\ttest: 0.2604495\tbest: 0.2604495 (750)\ttotal: 53.3s\tremaining: 8m 34s\n",
      "1000:\tlearn: 0.2313193\ttest: 0.2597030\tbest: 0.2597030 (1000)\ttotal: 1m 10s\tremaining: 8m 14s\n",
      "1250:\tlearn: 0.2255478\ttest: 0.2593339\tbest: 0.2592760 (1196)\ttotal: 1m 28s\tremaining: 7m 57s\n",
      "1500:\tlearn: 0.2200712\ttest: 0.2588872\tbest: 0.2588743 (1497)\ttotal: 1m 45s\tremaining: 7m 38s\n",
      "1750:\tlearn: 0.2152596\ttest: 0.2587422\tbest: 0.2587304 (1747)\ttotal: 2m 3s\tremaining: 7m 21s\n",
      "2000:\tlearn: 0.2113079\ttest: 0.2586972\tbest: 0.2586354 (1929)\ttotal: 2m 20s\tremaining: 7m 2s\n",
      "2250:\tlearn: 0.2077785\ttest: 0.2586160\tbest: 0.2585950 (2242)\ttotal: 2m 38s\tremaining: 6m 44s\n",
      "2500:\tlearn: 0.2046443\ttest: 0.2585127\tbest: 0.2584621 (2415)\ttotal: 2m 55s\tremaining: 6m 26s\n",
      "2750:\tlearn: 0.2017514\ttest: 0.2583921\tbest: 0.2583550 (2737)\ttotal: 3m 13s\tremaining: 6m 9s\n",
      "3000:\tlearn: 0.1991233\ttest: 0.2583852\tbest: 0.2583197 (2810)\ttotal: 3m 30s\tremaining: 5m 51s\n",
      "3250:\tlearn: 0.1965037\ttest: 0.2584392\tbest: 0.2583197 (2810)\ttotal: 3m 48s\tremaining: 5m 33s\n",
      "3500:\tlearn: 0.1940126\ttest: 0.2584569\tbest: 0.2583197 (2810)\ttotal: 4m 6s\tremaining: 5m 16s\n",
      "3750:\tlearn: 0.1918630\ttest: 0.2584099\tbest: 0.2583197 (2810)\ttotal: 4m 23s\tremaining: 4m 58s\n",
      "Stopped by overfitting detector  (1000 iterations wait)\n",
      "\n",
      "bestTest = 0.2583197066\n",
      "bestIteration = 2810\n",
      "\n",
      "Shrink model to first 2811 iterations.\n",
      "Fold mae: 2.49470\n",
      "Elapsed: 267.94 seconds\n",
      "\n",
      "========================================| Fold 8 |========================================\n",
      "train: (43333, 126)\n",
      "val: (4815, 126)\n",
      "0:\tlearn: 0.3655113\ttest: 0.3732488\tbest: 0.3732488 (0)\ttotal: 75.6ms\tremaining: 10m 4s\n",
      "250:\tlearn: 0.2600008\ttest: 0.2689187\tbest: 0.2689187 (250)\ttotal: 17.6s\tremaining: 9m 4s\n",
      "500:\tlearn: 0.2474553\ttest: 0.2658964\tbest: 0.2658964 (500)\ttotal: 35.1s\tremaining: 8m 45s\n",
      "750:\tlearn: 0.2382240\ttest: 0.2646320\tbest: 0.2646320 (750)\ttotal: 53s\tremaining: 8m 32s\n",
      "1000:\tlearn: 0.2308525\ttest: 0.2641497\tbest: 0.2640590 (938)\ttotal: 1m 10s\tremaining: 8m 12s\n",
      "1250:\tlearn: 0.2248066\ttest: 0.2640636\tbest: 0.2640132 (1209)\ttotal: 1m 28s\tremaining: 7m 56s\n",
      "1500:\tlearn: 0.2198121\ttest: 0.2636493\tbest: 0.2636375 (1488)\ttotal: 1m 46s\tremaining: 7m 39s\n",
      "1750:\tlearn: 0.2151141\ttest: 0.2632778\tbest: 0.2632528 (1741)\ttotal: 2m 3s\tremaining: 7m 19s\n",
      "2000:\tlearn: 0.2110747\ttest: 0.2630773\tbest: 0.2630427 (1988)\ttotal: 2m 20s\tremaining: 7m 2s\n",
      "2250:\tlearn: 0.2072868\ttest: 0.2628989\tbest: 0.2628734 (2228)\ttotal: 2m 38s\tremaining: 6m 44s\n",
      "2500:\tlearn: 0.2040549\ttest: 0.2629099\tbest: 0.2628062 (2359)\ttotal: 2m 56s\tremaining: 6m 27s\n",
      "2750:\tlearn: 0.2010729\ttest: 0.2628303\tbest: 0.2628062 (2359)\ttotal: 3m 13s\tremaining: 6m 8s\n",
      "3000:\tlearn: 0.1984952\ttest: 0.2627783\tbest: 0.2627235 (2825)\ttotal: 3m 30s\tremaining: 5m 51s\n",
      "3250:\tlearn: 0.1959881\ttest: 0.2626899\tbest: 0.2626404 (3226)\ttotal: 3m 48s\tremaining: 5m 33s\n",
      "3500:\tlearn: 0.1938246\ttest: 0.2626619\tbest: 0.2626117 (3432)\ttotal: 4m 5s\tremaining: 5m 15s\n",
      "3750:\tlearn: 0.1916626\ttest: 0.2625832\tbest: 0.2625582 (3685)\ttotal: 4m 23s\tremaining: 4m 58s\n",
      "4000:\tlearn: 0.1894945\ttest: 0.2625565\tbest: 0.2625565 (4000)\ttotal: 4m 40s\tremaining: 4m 40s\n",
      "4250:\tlearn: 0.1874972\ttest: 0.2624922\tbest: 0.2624845 (4169)\ttotal: 4m 58s\tremaining: 4m 23s\n",
      "4500:\tlearn: 0.1856652\ttest: 0.2626115\tbest: 0.2624559 (4264)\ttotal: 5m 15s\tremaining: 4m 5s\n",
      "4750:\tlearn: 0.1839048\ttest: 0.2626086\tbest: 0.2624559 (4264)\ttotal: 5m 33s\tremaining: 3m 48s\n",
      "5000:\tlearn: 0.1822603\ttest: 0.2625866\tbest: 0.2624559 (4264)\ttotal: 5m 50s\tremaining: 3m 30s\n",
      "5250:\tlearn: 0.1807543\ttest: 0.2625108\tbest: 0.2624559 (4264)\ttotal: 6m 8s\tremaining: 3m 12s\n",
      "Stopped by overfitting detector  (1000 iterations wait)\n",
      "\n",
      "bestTest = 0.2624559307\n",
      "bestIteration = 4264\n",
      "\n",
      "Shrink model to first 4265 iterations.\n",
      "Fold mae: 2.56805\n",
      "Elapsed: 370.30 seconds\n",
      "\n",
      "========================================| Fold 9 |========================================\n",
      "train: (43334, 126)\n",
      "val: (4814, 126)\n",
      "0:\tlearn: 0.3669459\ttest: 0.3608851\tbest: 0.3608851 (0)\ttotal: 76.5ms\tremaining: 10m 12s\n",
      "250:\tlearn: 0.2603306\ttest: 0.2647733\tbest: 0.2647733 (250)\ttotal: 17.5s\tremaining: 8m 59s\n",
      "500:\tlearn: 0.2478062\ttest: 0.2619783\tbest: 0.2619625 (496)\ttotal: 35.2s\tremaining: 8m 46s\n",
      "750:\tlearn: 0.2386676\ttest: 0.2606933\tbest: 0.2606680 (743)\ttotal: 52.6s\tremaining: 8m 28s\n",
      "1000:\tlearn: 0.2311311\ttest: 0.2601264\tbest: 0.2600967 (994)\ttotal: 1m 10s\tremaining: 8m 13s\n",
      "1250:\tlearn: 0.2249520\ttest: 0.2599870\tbest: 0.2598418 (1211)\ttotal: 1m 27s\tremaining: 7m 54s\n",
      "1500:\tlearn: 0.2197261\ttest: 0.2599892\tbest: 0.2598418 (1211)\ttotal: 1m 45s\tremaining: 7m 37s\n",
      "1750:\tlearn: 0.2152419\ttest: 0.2601233\tbest: 0.2598418 (1211)\ttotal: 2m 3s\tremaining: 7m 20s\n",
      "2000:\tlearn: 0.2113541\ttest: 0.2600515\tbest: 0.2598418 (1211)\ttotal: 2m 20s\tremaining: 7m 1s\n",
      "Stopped by overfitting detector  (1000 iterations wait)\n",
      "\n",
      "bestTest = 0.2598418302\n",
      "bestIteration = 1211\n",
      "\n",
      "Shrink model to first 1212 iterations.\n",
      "Fold mae: 2.51683\n",
      "Elapsed: 156.15 seconds\n",
      "\n",
      "=======================================| Fold 10 |========================================\n",
      "train: (43334, 126)\n",
      "val: (4814, 126)\n",
      "0:\tlearn: 0.3651359\ttest: 0.3774596\tbest: 0.3774596 (0)\ttotal: 75.7ms\tremaining: 10m 5s\n",
      "250:\tlearn: 0.2594435\ttest: 0.2777721\tbest: 0.2777721 (250)\ttotal: 17.3s\tremaining: 8m 53s\n",
      "500:\tlearn: 0.2467077\ttest: 0.2748659\tbest: 0.2748601 (493)\ttotal: 35s\tremaining: 8m 44s\n",
      "750:\tlearn: 0.2375208\ttest: 0.2737971\tbest: 0.2737746 (749)\ttotal: 52.4s\tremaining: 8m 25s\n",
      "1000:\tlearn: 0.2306215\ttest: 0.2731982\tbest: 0.2731737 (973)\ttotal: 1m 9s\tremaining: 8m 9s\n",
      "1250:\tlearn: 0.2247458\ttest: 0.2728302\tbest: 0.2728302 (1250)\ttotal: 1m 27s\tremaining: 7m 50s\n",
      "1500:\tlearn: 0.2196467\ttest: 0.2724206\tbest: 0.2724206 (1500)\ttotal: 1m 45s\tremaining: 7m 34s\n",
      "1750:\tlearn: 0.2155397\ttest: 0.2721013\tbest: 0.2721013 (1750)\ttotal: 2m 2s\tremaining: 7m 15s\n",
      "2000:\tlearn: 0.2115343\ttest: 0.2718569\tbest: 0.2718423 (1998)\ttotal: 2m 19s\tremaining: 6m 58s\n",
      "2250:\tlearn: 0.2078718\ttest: 0.2717466\tbest: 0.2716998 (2212)\ttotal: 2m 36s\tremaining: 6m 40s\n",
      "2500:\tlearn: 0.2046218\ttest: 0.2716387\tbest: 0.2715575 (2431)\ttotal: 2m 54s\tremaining: 6m 23s\n",
      "2750:\tlearn: 0.2019083\ttest: 0.2716004\tbest: 0.2715575 (2431)\ttotal: 3m 11s\tremaining: 6m 6s\n",
      "3000:\tlearn: 0.1989687\ttest: 0.2716262\tbest: 0.2715266 (2885)\ttotal: 3m 28s\tremaining: 5m 48s\n",
      "3250:\tlearn: 0.1965893\ttest: 0.2715407\tbest: 0.2714832 (3204)\ttotal: 3m 46s\tremaining: 5m 30s\n",
      "3500:\tlearn: 0.1942875\ttest: 0.2715042\tbest: 0.2714772 (3476)\ttotal: 4m 3s\tremaining: 5m 13s\n",
      "3750:\tlearn: 0.1923718\ttest: 0.2714785\tbest: 0.2714348 (3722)\ttotal: 4m 21s\tremaining: 4m 55s\n",
      "4000:\tlearn: 0.1903178\ttest: 0.2714471\tbest: 0.2714093 (3815)\ttotal: 4m 38s\tremaining: 4m 38s\n",
      "4250:\tlearn: 0.1883262\ttest: 0.2714928\tbest: 0.2714093 (3815)\ttotal: 4m 55s\tremaining: 4m 20s\n",
      "4500:\tlearn: 0.1865532\ttest: 0.2714565\tbest: 0.2714093 (3815)\ttotal: 5m 12s\tremaining: 4m 3s\n",
      "4750:\tlearn: 0.1848031\ttest: 0.2712960\tbest: 0.2712931 (4745)\ttotal: 5m 30s\tremaining: 3m 45s\n",
      "5000:\tlearn: 0.1831400\ttest: 0.2713089\tbest: 0.2712586 (4884)\ttotal: 5m 47s\tremaining: 3m 28s\n",
      "5250:\tlearn: 0.1815416\ttest: 0.2712614\tbest: 0.2712529 (5100)\ttotal: 6m 5s\tremaining: 3m 11s\n",
      "5500:\tlearn: 0.1799374\ttest: 0.2713654\tbest: 0.2712469 (5256)\ttotal: 6m 22s\tremaining: 2m 53s\n",
      "5750:\tlearn: 0.1784825\ttest: 0.2714679\tbest: 0.2712469 (5256)\ttotal: 6m 39s\tremaining: 2m 36s\n",
      "6000:\tlearn: 0.1772084\ttest: 0.2715859\tbest: 0.2712469 (5256)\ttotal: 6m 57s\tremaining: 2m 19s\n",
      "6250:\tlearn: 0.1757593\ttest: 0.2716192\tbest: 0.2712469 (5256)\ttotal: 7m 14s\tremaining: 2m 1s\n",
      "Stopped by overfitting detector  (1000 iterations wait)\n",
      "\n",
      "bestTest = 0.2712469028\n",
      "bestIteration = 5256\n",
      "\n",
      "Shrink model to first 5257 iterations.\n",
      "Fold mae: 2.51614\n",
      "Elapsed: 435.96 seconds\n",
      "\n",
      "==========================================================================================\n",
      "CV: 2.49191\n"
     ]
    },
    {
     "data": {
      "image/png": "[encoded data removed]",
      "text/plain": [
       "<Figure size 1200x1000 with 1 Axes>"
      ]
     },
     "metadata": {},
     "output_type": "display_data"
    }
   ],
   "source": [
    "params = {\n",
    "    'learning_rate': 0.049824800800271365,\n",
    "    'objective': 'MAE',\n",
    "    'depth': 7,\n",
    "    'l2_leaf_reg': 1.9,\n",
    "    'min_child_samples': 129,\n",
    "    'iterations': 8000,\n",
    "    'use_best_model': True,\n",
    "    'eval_metric': \"MAPE\",\n",
    "    'random_state': 45,\n",
    "    'allow_writing_files': False,\n",
    "    \"cat_features\": cat_cols\n",
    "}\n",
    "\n",
    "model = cb.CatBoostRegressor(**params)\n",
    "train_params = {\"early_stopping_rounds\": 1000, \"verbose\": 250}\n",
    "cv = KFold(n_splits=10, shuffle=True, random_state=45)\n",
    "\n",
    "cat_results = reg_trainer(\n",
    "    model=model,\n",
    "    X=X,\n",
    "    y=y,\n",
    "    X_test=X_test,\n",
    "    cv=cv,\n",
    "    plot_importances=True,\n",
    "    train_params=train_params,\n",
    "    #sample_weight=sample_weight,\n",
    "    eval_metric=\"mae\",\n",
    "    log_transform=True,\n",
    "    #groups = groups\n",
    ")\n",
    "\n",
    "pred_df2 = pd.DataFrame({\"ilce\": test_ilce, \"date\": test_date, \"pred2\": cat_results[\"test_preds\"]})\n",
    "pred_df2[\"pred2\"] = pred_df2[\"pred2\"].clip(0, np.inf)"
   ]
  },
  {
   "cell_type": "markdown",
   "id": "74287f53",
   "metadata": {
    "id": "qUSVvw11_Tam",
    "papermill": {
     "duration": 0.093019,
     "end_time": "2024-05-13T17:34:48.972881",
     "exception": false,
     "start_time": "2024-05-13T17:34:48.879862",
     "status": "completed"
    },
    "tags": []
   },
   "source": [
    "## Neural Networks"
   ]
  },
  {
   "cell_type": "code",
   "execution_count": 19,
   "id": "38737f0f",
   "metadata": {
    "execution": {
     "iopub.execute_input": "2024-05-13T17:34:49.160366Z",
     "iopub.status.busy": "2024-05-13T17:34:49.159904Z",
     "iopub.status.idle": "2024-05-13T17:34:49.515675Z",
     "shell.execute_reply": "2024-05-13T17:34:49.514398Z"
    },
    "executionInfo": {
     "elapsed": 885,
     "status": "ok",
     "timestamp": 1715285039281,
     "user": {
      "displayName": "Sercan Yeşilöz",
      "userId": "06148202317870201469"
     },
     "user_tz": -180
    },
    "id": "hMuN2lcl1RFo",
    "outputId": "ef71d90d-76c3-4278-c916-59c961e25cd3",
    "papermill": {
     "duration": 0.452541,
     "end_time": "2024-05-13T17:34:49.518270",
     "exception": false,
     "start_time": "2024-05-13T17:34:49.065729",
     "status": "completed"
    },
    "tags": []
   },
   "outputs": [
    {
     "data": {
      "text/plain": [
       "array([[-0.60731451, -0.52920313, -0.78994195, ..., -0.56698907,\n",
       "        -0.57453633, -0.56724494],\n",
       "       [-0.60731451, -0.57968431, -0.6330825 , ..., -0.56698907,\n",
       "        -0.57453633, -0.56724494],\n",
       "       [-0.60731451, -0.60934851, -0.7787377 , ..., -0.56698907,\n",
       "        -0.57453633, -0.56724494],\n",
       "       ...,\n",
       "       [-0.60731451, -1.89219494, -1.65266892, ..., -0.56698907,\n",
       "        -0.57453633, -0.56724494],\n",
       "       [-0.60731451, -1.79903896, -1.60785193, ..., -0.56698907,\n",
       "        -0.57453633, -0.56724494],\n",
       "       [ 0.15292206, -2.11025282, -1.88795809, ..., -0.56698907,\n",
       "        -0.57453633, -0.56724494]])"
      ]
     },
     "execution_count": 19,
     "metadata": {},
     "output_type": "execute_result"
    }
   ],
   "source": [
    "from sklearn.preprocessing import StandardScaler\n",
    "\n",
    "df_encoded = pd.get_dummies(data=df, columns=cat_cols, dtype=\"int32\")\n",
    "\n",
    "X = df_encoded.loc[df_encoded[target].notnull()].drop(columns = drop_cols + [target], axis=1)\n",
    "y = df_encoded.loc[df_encoded[target].notnull(), target]\n",
    "X_test = df_encoded.loc[df_encoded[target].isnull()].drop(columns = drop_cols + [target], axis=1)\n",
    "y_arr = np.array(y)\n",
    "\n",
    "sc = StandardScaler()\n",
    "train_sc = sc.fit_transform(X)\n",
    "test_sc = sc.transform(X_test)\n",
    "train_sc"
   ]
  },
  {
   "cell_type": "code",
   "execution_count": 20,
   "id": "4280a0f0",
   "metadata": {
    "execution": {
     "iopub.execute_input": "2024-05-13T17:34:49.706283Z",
     "iopub.status.busy": "2024-05-13T17:34:49.705206Z",
     "iopub.status.idle": "2024-05-13T17:35:04.628403Z",
     "shell.execute_reply": "2024-05-13T17:35:04.627119Z"
    },
    "executionInfo": {
     "elapsed": 1717,
     "status": "ok",
     "timestamp": 1715285040985,
     "user": {
      "displayName": "Sercan Yeşilöz",
      "userId": "06148202317870201469"
     },
     "user_tz": -180
    },
    "id": "BXlFUFD__V0T",
    "papermill": {
     "duration": 15.02049,
     "end_time": "2024-05-13T17:35:04.631199",
     "exception": false,
     "start_time": "2024-05-13T17:34:49.610709",
     "status": "completed"
    },
    "tags": []
   },
   "outputs": [
    {
     "name": "stderr",
     "output_type": "stream",
     "text": [
      "2024-05-13 17:34:52.042202: E external/local_xla/xla/stream_executor/cuda/cuda_dnn.cc:9261] Unable to register cuDNN factory: Attempting to register factory for plugin cuDNN when one has already been registered\n",
      "2024-05-13 17:34:52.042397: E external/local_xla/xla/stream_executor/cuda/cuda_fft.cc:607] Unable to register cuFFT factory: Attempting to register factory for plugin cuFFT when one has already been registered\n",
      "2024-05-13 17:34:52.217283: E external/local_xla/xla/stream_executor/cuda/cuda_blas.cc:1515] Unable to register cuBLAS factory: Attempting to register factory for plugin cuBLAS when one has already been registered\n"
     ]
    }
   ],
   "source": [
    "from sklearn.model_selection import GroupKFold, KFold\n",
    "from sklearn.metrics import mean_squared_log_error\n",
    "from sklearn.metrics import mean_squared_error,mean_absolute_error\n",
    "\n",
    "import math\n",
    "from scipy import stats\n",
    "\n",
    "import tensorflow as tf\n",
    "import tensorflow.keras.backend as K\n",
    "from tensorflow import keras\n",
    "from tensorflow.keras import layers\n",
    "from tensorflow.keras import activations,callbacks\n",
    "from tensorflow.keras.optimizers import Adam\n",
    "from tensorflow.keras.metrics import categorical_crossentropy\n",
    "from tensorflow.keras.utils import to_categorical\n",
    "from tensorflow.keras import initializers\n",
    "from tensorflow.keras import regularizers\n",
    "from keras.models import Model\n",
    "\n",
    "from keras.metrics import MeanAbsoluteError\n",
    "\n",
    "LOSS = tf.keras.losses.MeanAbsoluteError(\n",
    "    name='mean_absolute_error'\n",
    ")\n",
    "\n",
    "METRIC = tf.keras.metrics.MeanAbsoluteError(\n",
    "    name='mean_absolute_error', dtype=None\n",
    ")\n",
    "\n",
    "es = tf.keras.callbacks.EarlyStopping(\n",
    "    monitor= 'val_loss', min_delta=1e-12, patience=10, verbose=1,\n",
    "    mode='auto', baseline=None, restore_best_weights=True)\n",
    "\n",
    "plateau = tf.keras.callbacks.ReduceLROnPlateau(\n",
    "    monitor='val_loss', factor=0.5, patience=2, verbose=1,\n",
    "    mode='auto')"
   ]
  },
  {
   "cell_type": "code",
   "execution_count": 21,
   "id": "80ec5c38",
   "metadata": {
    "execution": {
     "iopub.execute_input": "2024-05-13T17:35:04.824668Z",
     "iopub.status.busy": "2024-05-13T17:35:04.822828Z",
     "iopub.status.idle": "2024-05-13T17:35:04.834533Z",
     "shell.execute_reply": "2024-05-13T17:35:04.833257Z"
    },
    "executionInfo": {
     "elapsed": 7,
     "status": "ok",
     "timestamp": 1715285040986,
     "user": {
      "displayName": "Sercan Yeşilöz",
      "userId": "06148202317870201469"
     },
     "user_tz": -180
    },
    "id": "twmKV7J_1REC",
    "papermill": {
     "duration": 0.110483,
     "end_time": "2024-05-13T17:35:04.837027",
     "exception": false,
     "start_time": "2024-05-13T17:35:04.726544",
     "status": "completed"
    },
    "tags": []
   },
   "outputs": [],
   "source": [
    "def NN_model(input_shape):\n",
    "    inp = layers.Input(shape=(input_shape,))\n",
    "\n",
    "    x = layers.Dense(units=32, activation='relu', kernel_initializer='he_uniform')(inp)\n",
    "    #x = layers.Dropout(0.1)(x)\n",
    "\n",
    "    x = layers.Dense(units=64, activation='relu', kernel_initializer='he_uniform')(x)\n",
    "    x = layers.Dropout(0.1)(x)\n",
    "\n",
    "    x = layers.Dense(units=128, activation='relu', kernel_initializer='he_uniform')(x)\n",
    "    x = layers.Dropout(0.1)(x)\n",
    "\n",
    "    x = layers.Dense(units=64, activation='relu', kernel_initializer='he_uniform')(x)\n",
    "    x = layers.Dropout(0.1)(x)\n",
    "\n",
    "    x = layers.Dense(units=32, activation='relu', kernel_initializer='he_uniform')(x)\n",
    "    #x = layers.Dropout(0.1)(x)\n",
    "\n",
    "    x = layers.Dense(units=32, activation='relu', kernel_initializer='he_uniform')(x)\n",
    "\n",
    "    reg_outputs = layers.Dense(units=1, activation='linear', kernel_initializer='he_uniform', name='last')(x)\n",
    "\n",
    "    model = Model(inp, reg_outputs)\n",
    "\n",
    "    return model"
   ]
  },
  {
   "cell_type": "code",
   "execution_count": 22,
   "id": "283af315",
   "metadata": {
    "execution": {
     "iopub.execute_input": "2024-05-13T17:35:05.031953Z",
     "iopub.status.busy": "2024-05-13T17:35:05.031479Z",
     "iopub.status.idle": "2024-05-13T17:35:27.576839Z",
     "shell.execute_reply": "2024-05-13T17:35:27.575551Z"
    },
    "executionInfo": {
     "elapsed": 13329,
     "status": "ok",
     "timestamp": 1715285054309,
     "user": {
      "displayName": "Sercan Yeşilöz",
      "userId": "06148202317870201469"
     },
     "user_tz": -180
    },
    "id": "_WRMh_fQ1Q-K",
    "outputId": "b010d8df-f62d-451d-c584-c2c3c564bf5f",
    "papermill": {
     "duration": 22.64614,
     "end_time": "2024-05-13T17:35:27.579637",
     "exception": false,
     "start_time": "2024-05-13T17:35:04.933497",
     "status": "completed"
    },
    "tags": []
   },
   "outputs": [
    {
     "name": "stdout",
     "output_type": "stream",
     "text": [
      "Epoch 1/25\n",
      "95/95 [==============================] - 2s 8ms/step - loss: 3.4088 - mean_absolute_error: 3.4088 - lr: 0.0012\n",
      "Epoch 2/25\n",
      "95/95 [==============================] - 1s 7ms/step - loss: 2.8664 - mean_absolute_error: 2.8664 - lr: 0.0012\n",
      "Epoch 3/25\n",
      "95/95 [==============================] - 1s 7ms/step - loss: 2.7982 - mean_absolute_error: 2.7982 - lr: 0.0012\n",
      "Epoch 4/25\n",
      "95/95 [==============================] - 1s 7ms/step - loss: 2.7581 - mean_absolute_error: 2.7581 - lr: 0.0012\n",
      "Epoch 5/25\n",
      "95/95 [==============================] - 1s 7ms/step - loss: 2.7234 - mean_absolute_error: 2.7234 - lr: 0.0012\n",
      "Epoch 6/25\n",
      "95/95 [==============================] - 1s 7ms/step - loss: 2.6933 - mean_absolute_error: 2.6933 - lr: 0.0012\n",
      "Epoch 7/25\n",
      "95/95 [==============================] - 1s 7ms/step - loss: 2.6664 - mean_absolute_error: 2.6664 - lr: 0.0012\n",
      "Epoch 8/25\n",
      "95/95 [==============================] - 1s 7ms/step - loss: 2.6486 - mean_absolute_error: 2.6486 - lr: 0.0012\n",
      "Epoch 9/25\n",
      "95/95 [==============================] - 1s 7ms/step - loss: 2.6306 - mean_absolute_error: 2.6306 - lr: 0.0012\n",
      "Epoch 10/25\n",
      "95/95 [==============================] - 1s 7ms/step - loss: 2.6125 - mean_absolute_error: 2.6125 - lr: 0.0012\n",
      "Epoch 11/25\n",
      "95/95 [==============================] - 1s 7ms/step - loss: 2.6063 - mean_absolute_error: 2.6063 - lr: 0.0012\n",
      "Epoch 12/25\n",
      "95/95 [==============================] - 1s 7ms/step - loss: 2.5830 - mean_absolute_error: 2.5830 - lr: 0.0012\n",
      "Epoch 13/25\n",
      "95/95 [==============================] - 1s 7ms/step - loss: 2.5667 - mean_absolute_error: 2.5667 - lr: 0.0012\n",
      "Epoch 14/25\n",
      "95/95 [==============================] - 1s 7ms/step - loss: 2.5579 - mean_absolute_error: 2.5579 - lr: 0.0012\n",
      "Epoch 15/25\n",
      "95/95 [==============================] - 1s 7ms/step - loss: 2.5555 - mean_absolute_error: 2.5555 - lr: 0.0012\n",
      "Epoch 16/25\n",
      "95/95 [==============================] - 1s 7ms/step - loss: 2.5405 - mean_absolute_error: 2.5405 - lr: 0.0012\n",
      "Epoch 17/25\n",
      "95/95 [==============================] - 1s 7ms/step - loss: 2.5181 - mean_absolute_error: 2.5181 - lr: 0.0012\n",
      "Epoch 18/25\n",
      "95/95 [==============================] - 1s 7ms/step - loss: 2.5214 - mean_absolute_error: 2.5214 - lr: 0.0012\n",
      "Epoch 19/25\n",
      "95/95 [==============================] - 1s 7ms/step - loss: 2.5052 - mean_absolute_error: 2.5052 - lr: 0.0012\n",
      "Epoch 20/25\n",
      "95/95 [==============================] - 1s 7ms/step - loss: 2.5051 - mean_absolute_error: 2.5051 - lr: 0.0012\n",
      "Epoch 21/25\n",
      "95/95 [==============================] - 1s 7ms/step - loss: 2.5100 - mean_absolute_error: 2.5100 - lr: 0.0012\n",
      "Epoch 22/25\n",
      "95/95 [==============================] - 1s 7ms/step - loss: 2.4951 - mean_absolute_error: 2.4951 - lr: 0.0012\n",
      "Epoch 23/25\n",
      "95/95 [==============================] - 1s 7ms/step - loss: 2.4824 - mean_absolute_error: 2.4824 - lr: 0.0012\n",
      "Epoch 24/25\n",
      "95/95 [==============================] - 1s 7ms/step - loss: 2.4795 - mean_absolute_error: 2.4795 - lr: 0.0012\n",
      "Epoch 25/25\n",
      "95/95 [==============================] - 1s 7ms/step - loss: 2.4806 - mean_absolute_error: 2.4806 - lr: 0.0012\n"
     ]
    },
    {
     "data": {
      "text/plain": [
       "<keras.src.callbacks.History at 0x78d3ac1a2f20>"
      ]
     },
     "execution_count": 22,
     "metadata": {},
     "output_type": "execute_result"
    }
   ],
   "source": [
    "model = NN_model(input_shape=X.shape[1])\n",
    "model.compile(loss=\"mean_absolute_error\",\n",
    "              metrics = [MeanAbsoluteError()],\n",
    "              optimizer = keras.optimizers.Adam(learning_rate=0.0012))\n",
    "\n",
    "model.fit(train_sc,\n",
    "          y_arr,\n",
    "          batch_size=512,\n",
    "          epochs=25,\n",
    "          #validation_data=(x_val, y_val),\n",
    "          callbacks=[es, plateau],\n",
    "          verbose=1)"
   ]
  },
  {
   "cell_type": "markdown",
   "id": "d01dbc8a",
   "metadata": {
    "id": "UZfKpfCXwdiA",
    "papermill": {
     "duration": 0.127032,
     "end_time": "2024-05-13T17:35:27.834076",
     "exception": false,
     "start_time": "2024-05-13T17:35:27.707044",
     "status": "completed"
    },
    "tags": []
   },
   "source": [
    "- 2.5849\n",
    "- 2.5738\n",
    "- 2.4902"
   ]
  },
  {
   "cell_type": "code",
   "execution_count": 23,
   "id": "4f663fc4",
   "metadata": {
    "execution": {
     "iopub.execute_input": "2024-05-13T17:35:28.092435Z",
     "iopub.status.busy": "2024-05-13T17:35:28.091981Z",
     "iopub.status.idle": "2024-05-13T17:35:28.395783Z",
     "shell.execute_reply": "2024-05-13T17:35:28.394415Z"
    },
    "executionInfo": {
     "elapsed": 40,
     "status": "ok",
     "timestamp": 1715285054310,
     "user": {
      "displayName": "Sercan Yeşilöz",
      "userId": "06148202317870201469"
     },
     "user_tz": -180
    },
    "id": "0wAeqD8QN_Ba",
    "outputId": "992558e7-9887-49ec-8130-677d8101e995",
    "papermill": {
     "duration": 0.436549,
     "end_time": "2024-05-13T17:35:28.398856",
     "exception": false,
     "start_time": "2024-05-13T17:35:27.962307",
     "status": "completed"
    },
    "tags": []
   },
   "outputs": [
    {
     "name": "stdout",
     "output_type": "stream",
     "text": [
      "43/43 [==============================] - 0s 2ms/step\n"
     ]
    }
   ],
   "source": [
    "nn_preds = model.predict(test_sc)"
   ]
  },
  {
   "cell_type": "code",
   "execution_count": 24,
   "id": "3fcf5260",
   "metadata": {
    "execution": {
     "iopub.execute_input": "2024-05-13T17:35:28.654599Z",
     "iopub.status.busy": "2024-05-13T17:35:28.654202Z",
     "iopub.status.idle": "2024-05-13T17:35:28.661485Z",
     "shell.execute_reply": "2024-05-13T17:35:28.660053Z"
    },
    "executionInfo": {
     "elapsed": 446,
     "status": "ok",
     "timestamp": 1715289888864,
     "user": {
      "displayName": "Sercan Yeşilöz",
      "userId": "06148202317870201469"
     },
     "user_tz": -180
    },
    "id": "fxF-Ia0e1Q8Q",
    "papermill": {
     "duration": 0.138023,
     "end_time": "2024-05-13T17:35:28.664199",
     "exception": false,
     "start_time": "2024-05-13T17:35:28.526176",
     "status": "completed"
    },
    "tags": []
   },
   "outputs": [],
   "source": [
    "xgb_w = 0.22\n",
    "cat_w = 0.34\n",
    "prop_w = 0.32\n",
    "nn_w = 0.12\n",
    "\n",
    "final_preds = pred_df1[\"pred1\"].values * xgb_w + pred_df2[\"pred2\"].values * cat_w + prophet_preds[\"prophet_pred\"].values * prop_w + nn_preds.ravel() * nn_w"
   ]
  },
  {
   "cell_type": "code",
   "execution_count": 25,
   "id": "60e224b3",
   "metadata": {
    "execution": {
     "iopub.execute_input": "2024-05-13T17:35:28.920780Z",
     "iopub.status.busy": "2024-05-13T17:35:28.920019Z",
     "iopub.status.idle": "2024-05-13T17:35:28.941738Z",
     "shell.execute_reply": "2024-05-13T17:35:28.940682Z"
    },
    "executionInfo": {
     "elapsed": 635,
     "status": "ok",
     "timestamp": 1715289954362,
     "user": {
      "displayName": "Sercan Yeşilöz",
      "userId": "06148202317870201469"
     },
     "user_tz": -180
    },
    "id": "-WCz9lSX1Q4w",
    "papermill": {
     "duration": 0.152715,
     "end_time": "2024-05-13T17:35:28.944555",
     "exception": false,
     "start_time": "2024-05-13T17:35:28.791840",
     "status": "completed"
    },
    "tags": []
   },
   "outputs": [],
   "source": [
    "sample_submission = pd.read_csv(config.sample_submission_path)\n",
    "\n",
    "sample_submission[\"bildirimsiz_sum\"] = final_preds\n",
    "sample_submission[\"bildirimsiz_sum\"] = sample_submission[\"bildirimsiz_sum\"].clip(0, np.inf).astype(\"int32\")\n",
    "\n",
    "#sample_submission.to_csv(\"submission.csv\", index=False)"
   ]
  },
  {
   "cell_type": "code",
   "execution_count": 26,
   "id": "0336ef72",
   "metadata": {
    "execution": {
     "iopub.execute_input": "2024-05-13T17:35:29.200730Z",
     "iopub.status.busy": "2024-05-13T17:35:29.199899Z",
     "iopub.status.idle": "2024-05-13T17:35:29.214122Z",
     "shell.execute_reply": "2024-05-13T17:35:29.212902Z"
    },
    "executionInfo": {
     "elapsed": 16,
     "status": "ok",
     "timestamp": 1715289954362,
     "user": {
      "displayName": "Sercan Yeşilöz",
      "userId": "06148202317870201469"
     },
     "user_tz": -180
    },
    "id": "8AxB29rnz0-X",
    "outputId": "716f2382-2108-45fe-ce02-9dfb8e9a521f",
    "papermill": {
     "duration": 0.14436,
     "end_time": "2024-05-13T17:35:29.216737",
     "exception": false,
     "start_time": "2024-05-13T17:35:29.072377",
     "status": "completed"
    },
    "tags": []
   },
   "outputs": [
    {
     "data": {
      "text/html": [
       "<div>\n",
       "<style scoped>\n",
       "    .dataframe tbody tr th:only-of-type {\n",
       "        vertical-align: middle;\n",
       "    }\n",
       "\n",
       "    .dataframe tbody tr th {\n",
       "        vertical-align: top;\n",
       "    }\n",
       "\n",
       "    .dataframe thead th {\n",
       "        text-align: right;\n",
       "    }\n",
       "</style>\n",
       "<table border=\"1\" class=\"dataframe\">\n",
       "  <thead>\n",
       "    <tr style=\"text-align: right;\">\n",
       "      <th></th>\n",
       "      <th>unique_id</th>\n",
       "      <th>bildirimsiz_sum</th>\n",
       "    </tr>\n",
       "  </thead>\n",
       "  <tbody>\n",
       "    <tr>\n",
       "      <th>0</th>\n",
       "      <td>2024-02-01-izmir-aliaga</td>\n",
       "      <td>4</td>\n",
       "    </tr>\n",
       "    <tr>\n",
       "      <th>1</th>\n",
       "      <td>2024-02-01-izmir-bayindir</td>\n",
       "      <td>2</td>\n",
       "    </tr>\n",
       "    <tr>\n",
       "      <th>2</th>\n",
       "      <td>2024-02-01-izmir-bayrakli</td>\n",
       "      <td>3</td>\n",
       "    </tr>\n",
       "    <tr>\n",
       "      <th>3</th>\n",
       "      <td>2024-02-01-izmir-bergama</td>\n",
       "      <td>5</td>\n",
       "    </tr>\n",
       "    <tr>\n",
       "      <th>4</th>\n",
       "      <td>2024-02-01-izmir-bornova</td>\n",
       "      <td>6</td>\n",
       "    </tr>\n",
       "    <tr>\n",
       "      <th>5</th>\n",
       "      <td>2024-02-01-izmir-buca</td>\n",
       "      <td>4</td>\n",
       "    </tr>\n",
       "    <tr>\n",
       "      <th>6</th>\n",
       "      <td>2024-02-01-izmir-cesme</td>\n",
       "      <td>10</td>\n",
       "    </tr>\n",
       "    <tr>\n",
       "      <th>7</th>\n",
       "      <td>2024-02-01-izmir-cigli</td>\n",
       "      <td>2</td>\n",
       "    </tr>\n",
       "    <tr>\n",
       "      <th>8</th>\n",
       "      <td>2024-02-01-izmir-dikili</td>\n",
       "      <td>3</td>\n",
       "    </tr>\n",
       "    <tr>\n",
       "      <th>9</th>\n",
       "      <td>2024-02-01-izmir-foca</td>\n",
       "      <td>3</td>\n",
       "    </tr>\n",
       "  </tbody>\n",
       "</table>\n",
       "</div>"
      ],
      "text/plain": [
       "                   unique_id  bildirimsiz_sum\n",
       "0    2024-02-01-izmir-aliaga                4\n",
       "1  2024-02-01-izmir-bayindir                2\n",
       "2  2024-02-01-izmir-bayrakli                3\n",
       "3   2024-02-01-izmir-bergama                5\n",
       "4   2024-02-01-izmir-bornova                6\n",
       "5      2024-02-01-izmir-buca                4\n",
       "6     2024-02-01-izmir-cesme               10\n",
       "7     2024-02-01-izmir-cigli                2\n",
       "8    2024-02-01-izmir-dikili                3\n",
       "9      2024-02-01-izmir-foca                3"
      ]
     },
     "execution_count": 26,
     "metadata": {},
     "output_type": "execute_result"
    }
   ],
   "source": [
    "sample_submission.head(10)"
   ]
  },
  {
   "cell_type": "code",
   "execution_count": 27,
   "id": "defed753",
   "metadata": {
    "execution": {
     "iopub.execute_input": "2024-05-13T17:35:29.475625Z",
     "iopub.status.busy": "2024-05-13T17:35:29.474863Z",
     "iopub.status.idle": "2024-05-13T17:35:29.487011Z",
     "shell.execute_reply": "2024-05-13T17:35:29.485877Z"
    },
    "executionInfo": {
     "elapsed": 16,
     "status": "ok",
     "timestamp": 1715289954363,
     "user": {
      "displayName": "Sercan Yeşilöz",
      "userId": "06148202317870201469"
     },
     "user_tz": -180
    },
    "id": "wD7OPbrdz05A",
    "papermill": {
     "duration": 0.144242,
     "end_time": "2024-05-13T17:35:29.489683",
     "exception": false,
     "start_time": "2024-05-13T17:35:29.345441",
     "status": "completed"
    },
    "tags": []
   },
   "outputs": [],
   "source": [
    "sample_submission.to_csv(f\"submission_xgb{xgb_w}_cat{cat_w}_prop{prop_w}_nn{nn_w}.csv\", index=False)"
   ]
  }
 ],
 "metadata": {
  "accelerator": "GPU",
  "colab": {
   "authorship_tag": "ABX9TyM/yowwkwBB68ybcMQVyNqy",
   "gpuType": "A100",
   "machine_shape": "hm",
   "provenance": []
  },
  "kaggle": {
   "accelerator": "none",
   "dataSources": [
    {
     "databundleVersionId": 8421693,
     "sourceId": 77202,
     "sourceType": "competition"
    }
   ],
   "dockerImageVersionId": 30698,
   "isGpuEnabled": false,
   "isInternetEnabled": true,
   "language": "python",
   "sourceType": "notebook"
  },
  "kernelspec": {
   "display_name": "Python 3",
   "name": "python3"
  },
  "language_info": {
   "codemirror_mode": {
    "name": "ipython",
    "version": 3
   },
   "file_extension": ".py",
   "mimetype": "text/x-python",
   "name": "python",
   "nbconvert_exporter": "python",
   "pygments_lexer": "ipython3",
   "version": "3.10.13"
  },
  "papermill": {
   "default_parameters": {},
   "duration": 6724.685974,
   "end_time": "2024-05-13T17:35:32.542236",
   "environment_variables": {},
   "exception": null,
   "input_path": "__notebook__.ipynb",
   "output_path": "__notebook__.ipynb",
   "parameters": {},
   "start_time": "2024-05-13T15:43:27.856262",
   "version": "2.5.0"
  }
 },
 "nbformat": 4,
 "nbformat_minor": 5
}
